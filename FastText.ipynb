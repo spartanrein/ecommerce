{
 "cells": [
  {
   "cell_type": "code",
   "execution_count": 29,
   "metadata": {},
   "outputs": [],
   "source": [
    "import pandas as pd\n",
    "import fastText as ft\n",
    "import os\n",
    "from sklearn.utils import shuffle"
   ]
  },
  {
   "cell_type": "code",
   "execution_count": 48,
   "metadata": {},
   "outputs": [],
   "source": [
    "df = pd.read_csv('amazon_data_shuffled.csv')"
   ]
  },
  {
   "cell_type": "code",
   "execution_count": null,
   "metadata": {},
   "outputs": [],
   "source": []
  },
  {
   "cell_type": "code",
   "execution_count": 8,
   "metadata": {},
   "outputs": [
    {
     "data": {
      "text/html": [
       "<div>\n",
       "<style scoped>\n",
       "    .dataframe tbody tr th:only-of-type {\n",
       "        vertical-align: middle;\n",
       "    }\n",
       "\n",
       "    .dataframe tbody tr th {\n",
       "        vertical-align: top;\n",
       "    }\n",
       "\n",
       "    .dataframe thead th {\n",
       "        text-align: right;\n",
       "    }\n",
       "</style>\n",
       "<table border=\"1\" class=\"dataframe\">\n",
       "  <thead>\n",
       "    <tr style=\"text-align: right;\">\n",
       "      <th></th>\n",
       "      <th>product_name</th>\n",
       "      <th>brand</th>\n",
       "      <th>price</th>\n",
       "    </tr>\n",
       "    <tr>\n",
       "      <th>category</th>\n",
       "      <th></th>\n",
       "      <th></th>\n",
       "      <th></th>\n",
       "    </tr>\n",
       "  </thead>\n",
       "  <tbody>\n",
       "    <tr>\n",
       "      <th>active</th>\n",
       "      <td>10197</td>\n",
       "      <td>6013</td>\n",
       "      <td>10206</td>\n",
       "    </tr>\n",
       "    <tr>\n",
       "      <th>coats, jackets and vests</th>\n",
       "      <td>10807</td>\n",
       "      <td>6997</td>\n",
       "      <td>10808</td>\n",
       "    </tr>\n",
       "    <tr>\n",
       "      <th>dresses</th>\n",
       "      <td>10186</td>\n",
       "      <td>8311</td>\n",
       "      <td>10188</td>\n",
       "    </tr>\n",
       "    <tr>\n",
       "      <th>fashion hoodies and sweatshirts</th>\n",
       "      <td>10390</td>\n",
       "      <td>8315</td>\n",
       "      <td>10390</td>\n",
       "    </tr>\n",
       "    <tr>\n",
       "      <th>jeans</th>\n",
       "      <td>10314</td>\n",
       "      <td>5275</td>\n",
       "      <td>10310</td>\n",
       "    </tr>\n",
       "    <tr>\n",
       "      <th>jumpsuits, rompers and overalls</th>\n",
       "      <td>10688</td>\n",
       "      <td>9483</td>\n",
       "      <td>10689</td>\n",
       "    </tr>\n",
       "    <tr>\n",
       "      <th>leggings</th>\n",
       "      <td>10627</td>\n",
       "      <td>9284</td>\n",
       "      <td>10626</td>\n",
       "    </tr>\n",
       "    <tr>\n",
       "      <th>lingerie and sleepwear</th>\n",
       "      <td>10292</td>\n",
       "      <td>7097</td>\n",
       "      <td>10291</td>\n",
       "    </tr>\n",
       "    <tr>\n",
       "      <th>pants</th>\n",
       "      <td>10733</td>\n",
       "      <td>7606</td>\n",
       "      <td>10733</td>\n",
       "    </tr>\n",
       "    <tr>\n",
       "      <th>shorts</th>\n",
       "      <td>10964</td>\n",
       "      <td>7794</td>\n",
       "      <td>10962</td>\n",
       "    </tr>\n",
       "    <tr>\n",
       "      <th>skirts</th>\n",
       "      <td>10829</td>\n",
       "      <td>8965</td>\n",
       "      <td>10829</td>\n",
       "    </tr>\n",
       "    <tr>\n",
       "      <th>socks and hosiery</th>\n",
       "      <td>10930</td>\n",
       "      <td>8532</td>\n",
       "      <td>10932</td>\n",
       "    </tr>\n",
       "    <tr>\n",
       "      <th>suiting and blazers</th>\n",
       "      <td>10499</td>\n",
       "      <td>6834</td>\n",
       "      <td>10498</td>\n",
       "    </tr>\n",
       "    <tr>\n",
       "      <th>sweaters</th>\n",
       "      <td>9938</td>\n",
       "      <td>7994</td>\n",
       "      <td>9937</td>\n",
       "    </tr>\n",
       "    <tr>\n",
       "      <th>swimsuits and cover ups</th>\n",
       "      <td>10546</td>\n",
       "      <td>7866</td>\n",
       "      <td>10552</td>\n",
       "    </tr>\n",
       "    <tr>\n",
       "      <th>tops and tees</th>\n",
       "      <td>10775</td>\n",
       "      <td>8905</td>\n",
       "      <td>10775</td>\n",
       "    </tr>\n",
       "  </tbody>\n",
       "</table>\n",
       "</div>"
      ],
      "text/plain": [
       "                                 product_name  brand  price\n",
       "category                                                   \n",
       "active                                  10197   6013  10206\n",
       "coats, jackets and vests                10807   6997  10808\n",
       "dresses                                 10186   8311  10188\n",
       "fashion hoodies and sweatshirts         10390   8315  10390\n",
       "jeans                                   10314   5275  10310\n",
       "jumpsuits, rompers and overalls         10688   9483  10689\n",
       "leggings                                10627   9284  10626\n",
       "lingerie and sleepwear                  10292   7097  10291\n",
       "pants                                   10733   7606  10733\n",
       "shorts                                  10964   7794  10962\n",
       "skirts                                  10829   8965  10829\n",
       "socks and hosiery                       10930   8532  10932\n",
       "suiting and blazers                     10499   6834  10498\n",
       "sweaters                                 9938   7994   9937\n",
       "swimsuits and cover ups                 10546   7866  10552\n",
       "tops and tees                           10775   8905  10775"
      ]
     },
     "execution_count": 8,
     "metadata": {},
     "output_type": "execute_result"
    }
   ],
   "source": [
    "df.groupby('category').count()"
   ]
  },
  {
   "cell_type": "code",
   "execution_count": 49,
   "metadata": {},
   "outputs": [],
   "source": [
    "#balance the dataset\n",
    "l = []\n",
    "for i in set(df.category):\n",
    "    #for every unique microtag\n",
    "    temp = df[df.category==i]\n",
    "    #if count>10000, get only 10000 samples\n",
    "    if len(temp)>10000:\n",
    "        l.append(temp.sample(10000))\n",
    "    else: #otherwise, get everything\n",
    "        l.append(temp)\n"
   ]
  },
  {
   "cell_type": "code",
   "execution_count": 50,
   "metadata": {},
   "outputs": [],
   "source": [
    "#concatenate the dataset\n",
    "df = pd.concat(l)\n",
    "df = df[df.category.notnull()]"
   ]
  },
  {
   "cell_type": "code",
   "execution_count": 51,
   "metadata": {},
   "outputs": [],
   "source": [
    "df = shuffle(df, random_state = 100)"
   ]
  },
  {
   "cell_type": "code",
   "execution_count": 52,
   "metadata": {},
   "outputs": [],
   "source": [
    "df.to_csv(\"amazon_ready_to_train\")"
   ]
  },
  {
   "cell_type": "code",
   "execution_count": 53,
   "metadata": {},
   "outputs": [],
   "source": [
    "#create fasttext specific training data\n",
    "df['label']  = '__label__'+df.category.apply(lambda x: x.replace(' ','_')+' ')\n",
    "df['label'] = df['label'] + df.product_name\n",
    "df[['label']].to_csv('training_data.txt', header=None, index=None, mode='a')\n",
    "\n",
    "train_data = os.path.join(os.getenv(\"DATADIR\", ''), 'training_data.txt')\n",
    "model = ft.train_supervised(train_data, epoch=25, lr=1.0, wordNgrams=2, verbose=2, minCount=1)\n",
    "model.save_model(\"amazon.bin\")"
   ]
  },
  {
   "cell_type": "code",
   "execution_count": 55,
   "metadata": {},
   "outputs": [
    {
     "name": "stdout",
     "output_type": "stream",
     "text": [
      "(('__label__tops_and_tees',), array([0.70327908]))\n",
      "(('__label__lingerie_and_sleepwear',), array([0.98231769]))\n",
      "(('__label__socks_and_hosiery',), array([0.68098867]))\n"
     ]
    }
   ],
   "source": [
    "#try several cases\n",
    "print(model.predict('zara blue shirt'))\n",
    "print(model.predict('calvin klein thermal underwear'))\n",
    "print(model.predict('apple macbook pro'))"
   ]
  },
  {
   "cell_type": "code",
   "execution_count": 35,
   "metadata": {},
   "outputs": [],
   "source": [
    "model.quantize(input=train_data, qnorm=True, retrain=True, cutoff=100000)\n",
    "model.save_model(\"amazon.ftz\")"
   ]
  },
  {
   "cell_type": "code",
   "execution_count": 45,
   "metadata": {},
   "outputs": [
    {
     "name": "stdout",
     "output_type": "stream",
     "text": [
      "(('__label__tops_and_tees',), array([0.95627415]))\n",
      "(('__label__lingerie_and_sleepwear',), array([0.98613846]))\n",
      "(('__label__pants',), array([0.92220092]))\n"
     ]
    }
   ],
   "source": [
    "#try several cases\n",
    "print(model.predict('zara blue shirt'))\n",
    "print(model.predict('calvin klein thermal underwear'))\n",
    "print(model.predict('shoes'))\n"
   ]
  },
  {
   "cell_type": "code",
   "execution_count": 19,
   "metadata": {},
   "outputs": [
    {
     "data": {
      "text/plain": [
       "(279828, 0.9290278313821347, 0.9290278313821347)"
      ]
     },
     "execution_count": 19,
     "metadata": {},
     "output_type": "execute_result"
    }
   ],
   "source": [
    "model.test('training_data.txt')"
   ]
  },
  {
   "cell_type": "code",
   "execution_count": null,
   "metadata": {},
   "outputs": [],
   "source": []
  }
 ],
 "metadata": {
  "kernelspec": {
   "display_name": "Python 3",
   "language": "python",
   "name": "python3"
  },
  "language_info": {
   "codemirror_mode": {
    "name": "ipython",
    "version": 3
   },
   "file_extension": ".py",
   "mimetype": "text/x-python",
   "name": "python",
   "nbconvert_exporter": "python",
   "pygments_lexer": "ipython3",
   "version": "3.6.4"
  }
 },
 "nbformat": 4,
 "nbformat_minor": 2
}
