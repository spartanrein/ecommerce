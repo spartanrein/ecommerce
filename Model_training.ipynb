{
 "cells": [
  {
   "cell_type": "code",
   "execution_count": 1,
   "metadata": {},
   "outputs": [],
   "source": [
    "import pandas as pd\n",
    "import fastText as ft\n",
    "import os\n",
    "import numpy as np\n",
    "import sklearn"
   ]
  },
  {
   "cell_type": "code",
   "execution_count": 19,
   "metadata": {},
   "outputs": [],
   "source": [
    "df = pd.read_csv(\"amazon_embeddings_ver2.csv\",index_col = None)"
   ]
  },
  {
   "cell_type": "code",
   "execution_count": 20,
   "metadata": {},
   "outputs": [],
   "source": [
    "df.drop(columns = 'Unnamed: 0',inplace=True)"
   ]
  },
  {
   "cell_type": "markdown",
   "metadata": {},
   "source": [
    "### Load FastText model and add sentence embeddings to Dataframe"
   ]
  },
  {
   "cell_type": "code",
   "execution_count": 9,
   "metadata": {},
   "outputs": [],
   "source": [
    "model = ft.load_model('amazon.ftz')"
   ]
  },
  {
   "cell_type": "code",
   "execution_count": 21,
   "metadata": {},
   "outputs": [],
   "source": [
    "embed = []\n",
    "for i in df['product_name']:\n",
    "    embed.append(model.get_sentence_vector((str(i))))\n",
    "df['sent_embed'] = embed"
   ]
  },
  {
   "cell_type": "code",
   "execution_count": 22,
   "metadata": {},
   "outputs": [],
   "source": [
    "c ={'active': 1,\n",
    " 'athletic shoes': 2,\n",
    " 'boots': 3,\n",
    " 'coats, jackets and vests': 4,\n",
    " 'dresses': 5,\n",
    " 'fashion hoodies and sweatshirts': 6,\n",
    " 'fashion sneakers': 7,\n",
    " 'flats': 8,\n",
    " 'jeans': 9,\n",
    " 'jumpsuits, rompers and overalls': 10,\n",
    " 'leggings': 11,\n",
    " 'lingerie and sleepwear': 12,\n",
    " 'mules and clogs': 13,\n",
    " 'outdoor shoes': 14,\n",
    " 'oxford shoes': 15,\n",
    " 'pants': 16,\n",
    " 'pumps': 17,\n",
    " 'sandals': 18,\n",
    " 'shorts': 19,\n",
    " 'skirts': 20,\n",
    " 'slippers': 21,\n",
    " 'socks and hosiery': 22,\n",
    " 'suiting and blazers': 23,\n",
    " 'sweaters': 24,\n",
    " 'swimsuits and cover ups': 25,\n",
    " 'tops and tees': 26}"
   ]
  },
  {
   "cell_type": "markdown",
   "metadata": {},
   "source": [
    "### Add Column \"Label\" as integer"
   ]
  },
  {
   "cell_type": "code",
   "execution_count": 23,
   "metadata": {},
   "outputs": [],
   "source": [
    "df['label']=df['category'].apply(lambda x: int(c[x]))"
   ]
  },
  {
   "cell_type": "code",
   "execution_count": 25,
   "metadata": {},
   "outputs": [
    {
     "data": {
      "text/html": [
       "<div>\n",
       "<style scoped>\n",
       "    .dataframe tbody tr th:only-of-type {\n",
       "        vertical-align: middle;\n",
       "    }\n",
       "\n",
       "    .dataframe tbody tr th {\n",
       "        vertical-align: top;\n",
       "    }\n",
       "\n",
       "    .dataframe thead th {\n",
       "        text-align: right;\n",
       "    }\n",
       "</style>\n",
       "<table border=\"1\" class=\"dataframe\">\n",
       "  <thead>\n",
       "    <tr style=\"text-align: right;\">\n",
       "      <th></th>\n",
       "      <th>brand</th>\n",
       "      <th>category</th>\n",
       "      <th>price</th>\n",
       "      <th>product_name</th>\n",
       "      <th>sent_embed</th>\n",
       "      <th>label</th>\n",
       "    </tr>\n",
       "  </thead>\n",
       "  <tbody>\n",
       "    <tr>\n",
       "      <th>0</th>\n",
       "      <td>Domy</td>\n",
       "      <td>swimsuits and cover ups</td>\n",
       "      <td>22.99</td>\n",
       "      <td>plus size swimwear retro halter top vintage on...</td>\n",
       "      <td>[-201.85323, -127.87654, 0.8215461, 323.24844,...</td>\n",
       "      <td>25</td>\n",
       "    </tr>\n",
       "    <tr>\n",
       "      <th>1</th>\n",
       "      <td>LE CHÂTEAU</td>\n",
       "      <td>pumps</td>\n",
       "      <td>49.97</td>\n",
       "      <td>women's classic leather pointy toe slingback pump</td>\n",
       "      <td>[7.2089806, 124.064354, -22.363012, 173.3266, ...</td>\n",
       "      <td>17</td>\n",
       "    </tr>\n",
       "    <tr>\n",
       "      <th>2</th>\n",
       "      <td>DongDong</td>\n",
       "      <td>dresses</td>\n",
       "      <td>7.82</td>\n",
       "      <td>dress ladies short casual pocket summer sleeve...</td>\n",
       "      <td>[39.89494, 102.13796, -127.38166, -96.415955, ...</td>\n",
       "      <td>5</td>\n",
       "    </tr>\n",
       "    <tr>\n",
       "      <th>3</th>\n",
       "      <td>NaN</td>\n",
       "      <td>jeans</td>\n",
       "      <td>105.00</td>\n",
       "      <td>super stretch skinny fit distressed jeans wfla...</td>\n",
       "      <td>[40.05252, 124.04834, -93.65457, -474.3166, -1...</td>\n",
       "      <td>9</td>\n",
       "    </tr>\n",
       "    <tr>\n",
       "      <th>4</th>\n",
       "      <td>NaN</td>\n",
       "      <td>pumps</td>\n",
       "      <td>42.99</td>\n",
       "      <td>women's total motion salima dress pump</td>\n",
       "      <td>[41.03999, 247.08846, 340.8324, -8.21388, -328...</td>\n",
       "      <td>17</td>\n",
       "    </tr>\n",
       "  </tbody>\n",
       "</table>\n",
       "</div>"
      ],
      "text/plain": [
       "        brand                 category   price  \\\n",
       "0        Domy  swimsuits and cover ups   22.99   \n",
       "1  LE CHÂTEAU                    pumps   49.97   \n",
       "2    DongDong                  dresses    7.82   \n",
       "3         NaN                    jeans  105.00   \n",
       "4         NaN                    pumps   42.99   \n",
       "\n",
       "                                        product_name  \\\n",
       "0  plus size swimwear retro halter top vintage on...   \n",
       "1  women's classic leather pointy toe slingback pump   \n",
       "2  dress ladies short casual pocket summer sleeve...   \n",
       "3  super stretch skinny fit distressed jeans wfla...   \n",
       "4             women's total motion salima dress pump   \n",
       "\n",
       "                                          sent_embed  label  \n",
       "0  [-201.85323, -127.87654, 0.8215461, 323.24844,...     25  \n",
       "1  [7.2089806, 124.064354, -22.363012, 173.3266, ...     17  \n",
       "2  [39.89494, 102.13796, -127.38166, -96.415955, ...      5  \n",
       "3  [40.05252, 124.04834, -93.65457, -474.3166, -1...      9  \n",
       "4  [41.03999, 247.08846, 340.8324, -8.21388, -328...     17  "
      ]
     },
     "execution_count": 25,
     "metadata": {},
     "output_type": "execute_result"
    }
   ],
   "source": [
    "df.head()"
   ]
  },
  {
   "cell_type": "markdown",
   "metadata": {},
   "source": [
    "### Separate Data into X and y"
   ]
  },
  {
   "cell_type": "code",
   "execution_count": 46,
   "metadata": {},
   "outputs": [
    {
     "data": {
      "text/plain": [
       "(257613, 100)"
      ]
     },
     "execution_count": 46,
     "metadata": {},
     "output_type": "execute_result"
    }
   ],
   "source": [
    "X = np.array(df.sent_embed.tolist())\n",
    "y = df['label']\n",
    "y = y.values.reshape(-1,1)\n",
    "X.shape"
   ]
  },
  {
   "cell_type": "code",
   "execution_count": 15,
   "metadata": {},
   "outputs": [],
   "source": [
    "from sklearn.model_selection import train_test_split\n",
    "X_train,X_test,y_train,y_test = train_test_split(X,y,test_size=0.3,random_state=100)"
   ]
  },
  {
   "cell_type": "markdown",
   "metadata": {},
   "source": [
    "### Logistic Regression"
   ]
  },
  {
   "cell_type": "code",
   "execution_count": 29,
   "metadata": {},
   "outputs": [],
   "source": [
    "from sklearn.linear_model import LogisticRegression\n",
    "logmodel = LogisticRegression()\n",
    "logmodel.fit(X_train,y_train)\n",
    "predictions = logmodel.predict(X_test)"
   ]
  },
  {
   "cell_type": "code",
   "execution_count": 34,
   "metadata": {},
   "outputs": [
    {
     "name": "stdout",
     "output_type": "stream",
     "text": [
      "             precision    recall  f1-score   support\n",
      "\n",
      "          1       0.83      0.82      0.82      3088\n",
      "          2       0.82      0.77      0.79      3000\n",
      "          3       0.90      0.88      0.89      2939\n",
      "          4       0.96      0.95      0.96      3052\n",
      "          5       0.94      0.97      0.96      2920\n",
      "          6       0.96      0.96      0.96      2928\n",
      "          7       0.92      0.90      0.91      3038\n",
      "          8       0.95      0.95      0.95      2935\n",
      "          9       0.99      0.98      0.98      3023\n",
      "         10       0.97      0.98      0.98      2918\n",
      "         11       0.97      0.97      0.97      3046\n",
      "         12       0.96      0.93      0.94      3129\n",
      "         13       0.96      0.95      0.96      2755\n",
      "         14       0.76      0.83      0.79      3051\n",
      "         15       0.96      0.94      0.95      2540\n",
      "         16       0.93      0.95      0.94      3010\n",
      "         17       0.94      0.96      0.95      3040\n",
      "         18       0.89      0.91      0.90      2969\n",
      "         19       0.98      0.98      0.98      2925\n",
      "         20       0.96      0.98      0.97      2918\n",
      "         21       0.97      0.97      0.97      2993\n",
      "         22       0.94      0.96      0.95      3032\n",
      "         23       0.94      0.91      0.92      3103\n",
      "         24       0.96      0.98      0.97      2968\n",
      "         25       0.99      0.97      0.98      2908\n",
      "         26       0.93      0.95      0.94      3056\n",
      "\n",
      "avg / total       0.93      0.93      0.93     77284\n",
      "\n"
     ]
    }
   ],
   "source": [
    "from sklearn.metrics import classification_report,confusion_matrix\n",
    "print(classification_report(y_test,predictions))"
   ]
  },
  {
   "cell_type": "markdown",
   "metadata": {},
   "source": [
    "### Cross-validation"
   ]
  },
  {
   "cell_type": "code",
   "execution_count": 47,
   "metadata": {},
   "outputs": [
    {
     "name": "stdout",
     "output_type": "stream",
     "text": [
      "Train: [ 51523  51524  51525 ... 257610 257611 257612] Test: [    0     1     2 ... 51520 51521 51522]\n",
      "Train: [     0      1      2 ... 257610 257611 257612] Test: [ 51523  51524  51525 ... 103043 103044 103045]\n",
      "Train: [     0      1      2 ... 257610 257611 257612] Test: [103046 103047 103048 ... 154566 154567 154568]\n",
      "Train: [     0      1      2 ... 257610 257611 257612] Test: [154569 154570 154571 ... 206088 206089 206090]\n",
      "Train: [     0      1      2 ... 206088 206089 206090] Test: [206091 206092 206093 ... 257610 257611 257612]\n"
     ]
    }
   ],
   "source": [
    "from sklearn.model_selection import KFold\n",
    "kfLog = KFold(n_splits=5,random_state = 100, shuffle=False) \n",
    "for train_index, test_index in kfLog.split(X):\n",
    "    print(\"Train:\", train_index, \"Test:\", test_index)\n",
    "    X_train,X_test = X[train_index],X[test_index]\n",
    "    y_train,y_test = y[train_index],y[test_index]\n",
    "    logmodel.fit(X_train,y_train)\n",
    "    predictions = logmodel.predict(X_test)\n",
    "    print(classification_report(y_test,predictions))"
   ]
  },
  {
   "cell_type": "code",
   "execution_count": 50,
   "metadata": {},
   "outputs": [
    {
     "name": "stderr",
     "output_type": "stream",
     "text": [
      "c:\\Anaconda3\\lib\\site-packages\\numpy\\core\\fromnumeric.py:2957: RuntimeWarning: Mean of empty slice.\n",
      "  out=out, **kwargs)\n"
     ]
    },
    {
     "name": "stdout",
     "output_type": "stream",
     "text": [
      "nan\n"
     ]
    },
    {
     "name": "stderr",
     "output_type": "stream",
     "text": [
      "c:\\Anaconda3\\lib\\site-packages\\numpy\\core\\_methods.py:80: RuntimeWarning: invalid value encountered in double_scalars\n",
      "  ret = ret.dtype.type(ret / rcount)\n"
     ]
    }
   ],
   "source": [
    "score_array = []\n",
    "avg_score = np.mean(score_array)\n",
    "print(avg_score)"
   ]
  },
  {
   "cell_type": "code",
   "execution_count": 52,
   "metadata": {},
   "outputs": [
    {
     "name": "stderr",
     "output_type": "stream",
     "text": [
      "c:\\Anaconda3\\lib\\site-packages\\sklearn\\utils\\validation.py:578: DataConversionWarning: A column-vector y was passed when a 1d array was expected. Please change the shape of y to (n_samples, ), for example using ravel().\n",
      "  y = column_or_1d(y, warn=True)\n"
     ]
    },
    {
     "name": "stdout",
     "output_type": "stream",
     "text": [
      "[[8.33177236e-01 8.30563343e-01 9.11154606e-01 9.60257511e-01\n",
      "  9.48235431e-01 9.63482940e-01 9.12351132e-01 9.44544426e-01\n",
      "  9.85914120e-01 9.79024299e-01 9.63882877e-01 9.56601567e-01\n",
      "  9.58596948e-01 7.54573891e-01 9.62394451e-01 9.35518103e-01\n",
      "  9.51109947e-01 8.94221139e-01 9.84646252e-01 9.67166809e-01\n",
      "  9.69361149e-01 9.36666567e-01 9.36572448e-01 9.59829337e-01\n",
      "  9.90070101e-01 9.31437167e-01]\n",
      " [8.16907684e-01 7.76333884e-01 8.72213740e-01 9.48577143e-01\n",
      "  9.69241263e-01 9.60060024e-01 9.04145160e-01 9.55012807e-01\n",
      "  9.81798421e-01 9.83457389e-01 9.70836739e-01 9.37624794e-01\n",
      "  9.53610235e-01 8.36721417e-01 9.35160017e-01 9.39660500e-01\n",
      "  9.58243219e-01 9.07240746e-01 9.80416900e-01 9.81233200e-01\n",
      "  9.61853124e-01 9.51482651e-01 9.09646903e-01 9.78767481e-01\n",
      "  9.79770349e-01 9.55545330e-01]\n",
      " [8.24930532e-01 8.02361842e-01 8.91212165e-01 9.54371362e-01\n",
      "  9.58609537e-01 9.61745846e-01 9.08223885e-01 9.49723226e-01\n",
      "  9.83849668e-01 9.81230469e-01 9.67335488e-01 9.47008732e-01\n",
      "  9.56087782e-01 7.93451597e-01 9.48562507e-01 9.37565358e-01\n",
      "  9.54630464e-01 9.00625900e-01 9.82522071e-01 9.74139372e-01\n",
      "  9.65588762e-01 9.44004061e-01 9.22897390e-01 9.69203283e-01\n",
      "  9.84891191e-01 9.43320664e-01]\n",
      " [2.00000000e+03 2.00000000e+03 2.00000000e+03 2.00000000e+03\n",
      "  2.00000000e+03 2.00000000e+03 2.00000000e+03 2.00000000e+03\n",
      "  2.00000000e+03 2.00000000e+03 2.00000000e+03 2.00000000e+03\n",
      "  1.82260000e+03 2.00000000e+03 1.71220000e+03 2.00000000e+03\n",
      "  2.00000000e+03 2.00000000e+03 2.00000000e+03 2.00000000e+03\n",
      "  2.00000000e+03 2.00000000e+03 2.00000000e+03 1.98780000e+03\n",
      "  2.00000000e+03 2.00000000e+03]]\n"
     ]
    }
   ],
   "source": [
    "kf = KFold(n_splits=5)\n",
    "from sklearn.metrics import precision_recall_fscore_support\n",
    "KFold(n_splits=5, random_state=100, shuffle=False)\n",
    "\n",
    "clf_LogReg=LogisticRegression()\n",
    "\n",
    "score_array =[]\n",
    "for train_index, test_index in kf.split(X):\n",
    "    X_train, X_test = X[train_index], X[test_index]\n",
    "    y_train, y_test = y[train_index], y[test_index]\n",
    "    clf=clf_LogReg.fit(X_train,y_train)\n",
    "    y_pred = clf.predict(X_test)\n",
    "    score_array.append(precision_recall_fscore_support(y_test, y_pred, average=None))\n",
    "\n",
    "avg_score = np.mean(score_array,axis=0)\n",
    "print(avg_score)\n"
   ]
  },
  {
   "cell_type": "code",
   "execution_count": 57,
   "metadata": {},
   "outputs": [
    {
     "data": {
      "text/plain": [
       "2000.0"
      ]
     },
     "execution_count": 57,
     "metadata": {},
     "output_type": "execute_result"
    }
   ],
   "source": [
    "avg_score[3][0]"
   ]
  },
  {
   "cell_type": "code",
   "execution_count": null,
   "metadata": {},
   "outputs": [],
   "source": []
  }
 ],
 "metadata": {
  "kernelspec": {
   "display_name": "Python 3",
   "language": "python",
   "name": "python3"
  },
  "language_info": {
   "codemirror_mode": {
    "name": "ipython",
    "version": 3
   },
   "file_extension": ".py",
   "mimetype": "text/x-python",
   "name": "python",
   "nbconvert_exporter": "python",
   "pygments_lexer": "ipython3",
   "version": "3.6.4"
  }
 },
 "nbformat": 4,
 "nbformat_minor": 2
}
