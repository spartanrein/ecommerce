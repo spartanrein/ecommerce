{
 "cells": [
  {
   "cell_type": "markdown",
   "metadata": {},
   "source": []
  },
  {
   "cell_type": "code",
   "execution_count": 1,
   "metadata": {},
   "outputs": [],
   "source": [
    "import pandas as pd\n",
    "import fastText as ft\n",
    "import os\n",
    "from sklearn.utils import shuffle\n",
    "import numpy as np"
   ]
  },
  {
   "cell_type": "code",
   "execution_count": 27,
   "metadata": {},
   "outputs": [],
   "source": [
    "df = pd.read_csv('amazon_embeddings_ver2.csv')\n",
    "# ref"
   ]
  },
  {
   "cell_type": "code",
   "execution_count": 33,
   "metadata": {
    "scrolled": true
   },
   "outputs": [
    {
     "data": {
      "text/plain": [
       "(257613, 4)"
      ]
     },
     "execution_count": 33,
     "metadata": {},
     "output_type": "execute_result"
    }
   ],
   "source": [
    "df.shape\n",
    "#df.drop(columns = 'Unnamed: 0',inplace = True)\n",
    "#df.drop(columns = 'sent_embed',inplace =True)"
   ]
  },
  {
   "cell_type": "code",
   "execution_count": null,
   "metadata": {},
   "outputs": [],
   "source": [
    "#balance the dataset\n",
    "l = []\n",
    "for i in set(df.category):\n",
    "    #for every unique microtag\n",
    "    temp = df[df.category==i]\n",
    "    #if count>10000, get only 10000 samples\n",
    "    if len(temp)>10000:\n",
    "        l.append(temp.sample(10000))\n",
    "    else: #otherwise, get everything\n",
    "        l.append(temp)\n"
   ]
  },
  {
   "cell_type": "code",
   "execution_count": null,
   "metadata": {},
   "outputs": [],
   "source": [
    "#concatenate the dataset\n",
    "df = pd.concat(l)\n",
    "df = df[df.category.notnull()]"
   ]
  },
  {
   "cell_type": "code",
   "execution_count": null,
   "metadata": {},
   "outputs": [],
   "source": [
    "#df = shuffle(df, random_state = 100) no need to run with shuffled dataset"
   ]
  },
  {
   "cell_type": "code",
   "execution_count": null,
   "metadata": {},
   "outputs": [],
   "source": [
    "#create fasttext specific training data\n",
    "df['label']  = '__label__'+df.category.apply(lambda x: x.replace(' ','_')+' ')\n",
    "df['label'] = df['label'] + df.product_name\n",
    "#df[['label']].to_csv('training_data.txt', header=None, index=None, mode='a')\n",
    "\n"
   ]
  },
  {
   "cell_type": "code",
   "execution_count": null,
   "metadata": {},
   "outputs": [],
   "source": [
    "#create fasttext unsupervised training data\n",
    "df[['product_name']].to_csv('training_data_unsupervised.txt',header=None,index=None,mode='a')"
   ]
  },
  {
   "cell_type": "code",
   "execution_count": null,
   "metadata": {},
   "outputs": [],
   "source": [
    "train_data = os.path.join(os.getenv(\"DATADIR\", ''), 'training_data.txt')\n",
    "train_data2 = os.path.join(os.getenv(\"DATADIR\", ''), 'training_data_unsupervised.txt')"
   ]
  },
  {
   "cell_type": "code",
   "execution_count": null,
   "metadata": {},
   "outputs": [],
   "source": [
    "#Train unsupervised model\n",
    "model2 = ft.train_unsupervised"
   ]
  },
  {
   "cell_type": "code",
   "execution_count": null,
   "metadata": {},
   "outputs": [],
   "source": [
    "#Train supervised model\n",
    "model = ft.train_supervised(train_data, epoch=25, lr=1.0, wordNgrams=2, verbose=2, minCount=1)\n",
    "model.save_model(\"amazon.bin\")\n"
   ]
  },
  {
   "cell_type": "code",
   "execution_count": 7,
   "metadata": {},
   "outputs": [
    {
     "name": "stdout",
     "output_type": "stream",
     "text": [
      "(('__label__mules_and_clogs',), array([1.00001001]))\n"
     ]
    }
   ],
   "source": [
    "#try several cases\n",
    "#print(model.predict('zara blue shirt'))\n",
    "#print(model.predict('calvin klein thermal underwear'))\n",
    "print(model.predict('apple macbook pro'))"
   ]
  },
  {
   "cell_type": "code",
   "execution_count": null,
   "metadata": {},
   "outputs": [],
   "source": [
    "model.predict('zara blue shirt')"
   ]
  },
  {
   "cell_type": "code",
   "execution_count": null,
   "metadata": {},
   "outputs": [],
   "source": [
    "model.quantize(input=train_data, qnorm=True, retrain=True, cutoff=100000)\n",
    "model.save_model(\"amazon.ftz\")"
   ]
  },
  {
   "cell_type": "code",
   "execution_count": 31,
   "metadata": {
    "scrolled": true
   },
   "outputs": [
    {
     "name": "stdout",
     "output_type": "stream",
     "text": [
      "(('__label__tops_and_tees',), array([1.00001001]))\n",
      "(('__label__lingerie_and_sleepwear',), array([1.00001001]))\n",
      "(('__label__athletic_shoes',), array([1.00001001]))\n",
      "(('__label__fashion_sneakers',), array([1.00001001]))\n"
     ]
    }
   ],
   "source": [
    "#try several cases\n",
    "print(model.predict('zara blue shirt'))\n",
    "print(model.predict('calvin klein thermal underwear'))\n",
    "print(model.predict('nike air max'))\n",
    "print(model.predict('nike low sneakers'))\n",
    "#print(model.predict(''))"
   ]
  },
  {
   "cell_type": "code",
   "execution_count": 2,
   "metadata": {},
   "outputs": [],
   "source": [
    "model = ft.load_model('amazon.ftz')"
   ]
  },
  {
   "cell_type": "code",
   "execution_count": 35,
   "metadata": {},
   "outputs": [],
   "source": [
    "embed = []\n",
    "for i in df['product_name']:\n",
    "    embed.append(model.get_sentence_vector((str(i))))"
   ]
  },
  {
   "cell_type": "code",
   "execution_count": 36,
   "metadata": {},
   "outputs": [],
   "source": [
    "df['sent_embed'] = embed"
   ]
  },
  {
   "cell_type": "code",
   "execution_count": 37,
   "metadata": {},
   "outputs": [
    {
     "data": {
      "text/plain": [
       "(257613, 5)"
      ]
     },
     "execution_count": 37,
     "metadata": {},
     "output_type": "execute_result"
    }
   ],
   "source": [
    "df.shape"
   ]
  },
  {
   "cell_type": "code",
   "execution_count": 38,
   "metadata": {},
   "outputs": [],
   "source": [
    "c ={'active': 1,\n",
    " 'athletic shoes': 2,\n",
    " 'boots': 3,\n",
    " 'coats, jackets and vests': 4,\n",
    " 'dresses': 5,\n",
    " 'fashion hoodies and sweatshirts': 6,\n",
    " 'fashion sneakers': 7,\n",
    " 'flats': 8,\n",
    " 'jeans': 9,\n",
    " 'jumpsuits, rompers and overalls': 10,\n",
    " 'leggings': 11,\n",
    " 'lingerie and sleepwear': 12,\n",
    " 'mules and clogs': 13,\n",
    " 'outdoor shoes': 14,\n",
    " 'oxford shoes': 15,\n",
    " 'pants': 16,\n",
    " 'pumps': 17,\n",
    " 'sandals': 18,\n",
    " 'shorts': 19,\n",
    " 'skirts': 20,\n",
    " 'slippers': 21,\n",
    " 'socks and hosiery': 22,\n",
    " 'suiting and blazers': 23,\n",
    " 'sweaters': 24,\n",
    " 'swimsuits and cover ups': 25,\n",
    " 'tops and tees': 26}"
   ]
  },
  {
   "cell_type": "code",
   "execution_count": 39,
   "metadata": {},
   "outputs": [],
   "source": [
    "#Add Column \"Label\" as integer\n",
    "df['label']=df['category'].apply(lambda x: int(c[x]))"
   ]
  },
  {
   "cell_type": "code",
   "execution_count": 40,
   "metadata": {},
   "outputs": [
    {
     "data": {
      "text/plain": [
       "array([-201.85323  , -127.87654  ,    0.8215461,  323.24844  ,\n",
       "         37.54238  ,  -10.183402 ,  314.31488  ,   28.553373 ,\n",
       "       -240.66396  ,   59.952034 ,   64.21848  ,    3.6568701,\n",
       "        -97.29615  , -121.9531   ,   46.943295 ,  198.84476  ,\n",
       "        163.58476  ,  360.52655  , -131.89943  ,   12.404444 ,\n",
       "         77.6637   ,  -88.21834  ,   61.51741  ,  446.2737   ,\n",
       "       -295.50754  ,  159.55054  , -191.6503   ,  324.11264  ,\n",
       "         11.309531 ,  -79.96893  ,  113.12171  ,  176.6794   ,\n",
       "        -76.45167  , -390.77454  ,  292.93588  ,   31.238512 ,\n",
       "       -194.54532  ,  -10.719238 ,  111.737114 ,  -57.037914 ,\n",
       "        115.68773  ,  218.70512  ,  -50.89314  ,  235.22255  ,\n",
       "        -19.74558  ,  -19.88061  , -260.70874  ,  380.40244  ,\n",
       "        157.2619   , -198.53755  ,   90.144684 ,   15.4525585,\n",
       "        365.34906  ,   57.966225 ,  -61.849308 ,   46.90896  ,\n",
       "        113.26664  ,   31.430847 , -259.13162  ,  -69.60299  ,\n",
       "        -16.375183 ,  116.55424  ,  176.92862  ,  -59.035233 ,\n",
       "        218.82094  ,  118.72871  , -239.7106   ,   50.208706 ,\n",
       "         32.31335  ,  377.24524  ,  251.41647  ,    7.309323 ,\n",
       "         98.748024 ,  214.94536  ,  140.36237  ,  195.66585  ,\n",
       "        -49.623035 , -252.43562  , -173.96368  ,  168.52322  ,\n",
       "        -98.75511  ,   79.62384  ,   29.869276 ,   -5.6692395,\n",
       "       -203.54576  ,  159.16655  ,   36.556126 , -236.42139  ,\n",
       "        181.88571  ,  100.948715 ,  -68.89804  ,  322.47903  ,\n",
       "         42.398415 ,  249.21248  ,  -18.57405  , -239.84714  ,\n",
       "        198.51888  ,  196.15598  ,  -50.290047 , -397.66974  ],\n",
       "      dtype=float32)"
      ]
     },
     "execution_count": 40,
     "metadata": {},
     "output_type": "execute_result"
    }
   ],
   "source": [
    "(df['sent_embed'][0])"
   ]
  },
  {
   "cell_type": "code",
   "execution_count": 41,
   "metadata": {},
   "outputs": [],
   "source": [
    "from sklearn.neighbors import KNeighborsClassifier"
   ]
  },
  {
   "cell_type": "code",
   "execution_count": 42,
   "metadata": {},
   "outputs": [],
   "source": [
    "#Separate Data into X and y:\n",
    "X = np.array(df.sent_embed.tolist())\n",
    "y = df['label']"
   ]
  },
  {
   "cell_type": "code",
   "execution_count": 43,
   "metadata": {},
   "outputs": [
    {
     "data": {
      "text/html": [
       "<div>\n",
       "<style scoped>\n",
       "    .dataframe tbody tr th:only-of-type {\n",
       "        vertical-align: middle;\n",
       "    }\n",
       "\n",
       "    .dataframe tbody tr th {\n",
       "        vertical-align: top;\n",
       "    }\n",
       "\n",
       "    .dataframe thead th {\n",
       "        text-align: right;\n",
       "    }\n",
       "</style>\n",
       "<table border=\"1\" class=\"dataframe\">\n",
       "  <thead>\n",
       "    <tr style=\"text-align: right;\">\n",
       "      <th></th>\n",
       "      <th>brand</th>\n",
       "      <th>category</th>\n",
       "      <th>price</th>\n",
       "      <th>product_name</th>\n",
       "      <th>sent_embed</th>\n",
       "      <th>label</th>\n",
       "    </tr>\n",
       "  </thead>\n",
       "  <tbody>\n",
       "    <tr>\n",
       "      <th>0</th>\n",
       "      <td>Domy</td>\n",
       "      <td>swimsuits and cover ups</td>\n",
       "      <td>22.99</td>\n",
       "      <td>plus size swimwear retro halter top vintage on...</td>\n",
       "      <td>[-201.85323, -127.87654, 0.8215461, 323.24844,...</td>\n",
       "      <td>25</td>\n",
       "    </tr>\n",
       "    <tr>\n",
       "      <th>1</th>\n",
       "      <td>LE CHÂTEAU</td>\n",
       "      <td>pumps</td>\n",
       "      <td>49.97</td>\n",
       "      <td>women's classic leather pointy toe slingback pump</td>\n",
       "      <td>[7.2089806, 124.064354, -22.363012, 173.3266, ...</td>\n",
       "      <td>17</td>\n",
       "    </tr>\n",
       "    <tr>\n",
       "      <th>2</th>\n",
       "      <td>DongDong</td>\n",
       "      <td>dresses</td>\n",
       "      <td>7.82</td>\n",
       "      <td>dress ladies short casual pocket summer sleeve...</td>\n",
       "      <td>[39.89494, 102.13796, -127.38166, -96.415955, ...</td>\n",
       "      <td>5</td>\n",
       "    </tr>\n",
       "    <tr>\n",
       "      <th>3</th>\n",
       "      <td>NaN</td>\n",
       "      <td>jeans</td>\n",
       "      <td>105.00</td>\n",
       "      <td>super stretch skinny fit distressed jeans wfla...</td>\n",
       "      <td>[40.05252, 124.04834, -93.65457, -474.3166, -1...</td>\n",
       "      <td>9</td>\n",
       "    </tr>\n",
       "    <tr>\n",
       "      <th>4</th>\n",
       "      <td>NaN</td>\n",
       "      <td>pumps</td>\n",
       "      <td>42.99</td>\n",
       "      <td>women's total motion salima dress pump</td>\n",
       "      <td>[41.03999, 247.08846, 340.8324, -8.21388, -328...</td>\n",
       "      <td>17</td>\n",
       "    </tr>\n",
       "    <tr>\n",
       "      <th>5</th>\n",
       "      <td>MISS MOLY</td>\n",
       "      <td>dresses</td>\n",
       "      <td>7.99</td>\n",
       "      <td>clearance dress bohemian floral summer casual ...</td>\n",
       "      <td>[-1.4046335, 0.17496625, -121.18756, -433.2212...</td>\n",
       "      <td>5</td>\n",
       "    </tr>\n",
       "    <tr>\n",
       "      <th>6</th>\n",
       "      <td>NaN</td>\n",
       "      <td>sandals</td>\n",
       "      <td>26.19</td>\n",
       "      <td>women's surf wedge sandal</td>\n",
       "      <td>[-162.97992, 135.67294, 189.51817, 76.12923, -...</td>\n",
       "      <td>18</td>\n",
       "    </tr>\n",
       "    <tr>\n",
       "      <th>7</th>\n",
       "      <td>Ru Sweet-Clothes</td>\n",
       "      <td>skirts</td>\n",
       "      <td>15.88</td>\n",
       "      <td>ru sweet rayon span full length long maxi skirt</td>\n",
       "      <td>[310.19983, -70.405235, -213.73894, -397.79538...</td>\n",
       "      <td>20</td>\n",
       "    </tr>\n",
       "    <tr>\n",
       "      <th>8</th>\n",
       "      <td>Undercover Water Wear</td>\n",
       "      <td>swimsuits and cover ups</td>\n",
       "      <td>39.99</td>\n",
       "      <td>short sleeve swim tee athletic swim top uv pro...</td>\n",
       "      <td>[98.109604, -24.992016, -77.66884, 392.6394, -...</td>\n",
       "      <td>25</td>\n",
       "    </tr>\n",
       "    <tr>\n",
       "      <th>9</th>\n",
       "      <td>NaN</td>\n",
       "      <td>flats</td>\n",
       "      <td>87.94</td>\n",
       "      <td>women's hazel pump</td>\n",
       "      <td>[-152.86841, 94.25187, -133.30511, -109.19036,...</td>\n",
       "      <td>8</td>\n",
       "    </tr>\n",
       "    <tr>\n",
       "      <th>10</th>\n",
       "      <td>TOPUNDER</td>\n",
       "      <td>outdoor shoes</td>\n",
       "      <td>18.90</td>\n",
       "      <td>women embroidered boots casual ankle boots mar...</td>\n",
       "      <td>[104.05154, -299.8079, 63.41428, 31.669254, -7...</td>\n",
       "      <td>14</td>\n",
       "    </tr>\n",
       "    <tr>\n",
       "      <th>11</th>\n",
       "      <td>Ordenado</td>\n",
       "      <td>socks and hosiery</td>\n",
       "      <td>6.99</td>\n",
       "      <td>thigh high socks winter cable knit lace knee s...</td>\n",
       "      <td>[12.128976, -15.6932335, 122.91465, 90.64886, ...</td>\n",
       "      <td>22</td>\n",
       "    </tr>\n",
       "    <tr>\n",
       "      <th>12</th>\n",
       "      <td>NaN</td>\n",
       "      <td>pumps</td>\n",
       "      <td>30.00</td>\n",
       "      <td>women's see this dress pump</td>\n",
       "      <td>[-204.00089, 432.60406, -182.0657, 313.59113, ...</td>\n",
       "      <td>17</td>\n",
       "    </tr>\n",
       "    <tr>\n",
       "      <th>13</th>\n",
       "      <td>Fashion Thirsty</td>\n",
       "      <td>sandals</td>\n",
       "      <td>22.99</td>\n",
       "      <td>womens flatform cork espadrille wedge sandals ...</td>\n",
       "      <td>[-87.9185, -171.61041, 182.64026, 67.42589, -5...</td>\n",
       "      <td>18</td>\n",
       "    </tr>\n",
       "    <tr>\n",
       "      <th>14</th>\n",
       "      <td>Style by Charles David</td>\n",
       "      <td>pumps</td>\n",
       "      <td>19.25</td>\n",
       "      <td>women's lynne pump</td>\n",
       "      <td>[-291.3428, 460.21573, -59.169678, 397.222, -1...</td>\n",
       "      <td>17</td>\n",
       "    </tr>\n",
       "    <tr>\n",
       "      <th>15</th>\n",
       "      <td>Tion Bridal</td>\n",
       "      <td>coats, jackets and vests</td>\n",
       "      <td>24.99</td>\n",
       "      <td>chiffon bolero ivory</td>\n",
       "      <td>[-131.38681, -209.14305, 61.475132, 451.54926,...</td>\n",
       "      <td>4</td>\n",
       "    </tr>\n",
       "    <tr>\n",
       "      <th>16</th>\n",
       "      <td>Nicely Neat</td>\n",
       "      <td>slippers</td>\n",
       "      <td>31.38</td>\n",
       "      <td>12pk open toe coral fleece slippers for home a...</td>\n",
       "      <td>[-140.08199, -80.17219, -85.87558, 15.674224, ...</td>\n",
       "      <td>21</td>\n",
       "    </tr>\n",
       "    <tr>\n",
       "      <th>17</th>\n",
       "      <td>NaN</td>\n",
       "      <td>flats</td>\n",
       "      <td>38.96</td>\n",
       "      <td>women's un.briarcrest flats shoes</td>\n",
       "      <td>[-38.113525, 103.029655, 117.17187, -298.68823...</td>\n",
       "      <td>8</td>\n",
       "    </tr>\n",
       "    <tr>\n",
       "      <th>18</th>\n",
       "      <td>Fergalicious</td>\n",
       "      <td>boots</td>\n",
       "      <td>25.14</td>\n",
       "      <td>women's rattle ankle boot</td>\n",
       "      <td>[-426.879, -220.90512, 389.5927, -2.496399, 26...</td>\n",
       "      <td>3</td>\n",
       "    </tr>\n",
       "    <tr>\n",
       "      <th>19</th>\n",
       "      <td>JINUNNU</td>\n",
       "      <td>shorts</td>\n",
       "      <td>11.99</td>\n",
       "      <td>sexy hot pants summer casual shorts drops rain...</td>\n",
       "      <td>[258.41284, -25.039015, -93.82635, -97.706924,...</td>\n",
       "      <td>19</td>\n",
       "    </tr>\n",
       "    <tr>\n",
       "      <th>20</th>\n",
       "      <td>Betoni</td>\n",
       "      <td>slippers</td>\n",
       "      <td>14.99</td>\n",
       "      <td>farah-3 flip flop faux fur link chain slide sl...</td>\n",
       "      <td>[-168.40547, -176.22574, -53.92669, 100.6888, ...</td>\n",
       "      <td>21</td>\n",
       "    </tr>\n",
       "    <tr>\n",
       "      <th>21</th>\n",
       "      <td>NaN</td>\n",
       "      <td>outdoor shoes</td>\n",
       "      <td>78.63</td>\n",
       "      <td>women's terradora mid waterproof hiking shoe</td>\n",
       "      <td>[-232.81885, -36.809467, 20.30897, 207.75029, ...</td>\n",
       "      <td>14</td>\n",
       "    </tr>\n",
       "    <tr>\n",
       "      <th>22</th>\n",
       "      <td>ToBeInStyle</td>\n",
       "      <td>shorts</td>\n",
       "      <td>8.95</td>\n",
       "      <td>intricate lace detail shorts</td>\n",
       "      <td>[297.51337, 96.42678, -144.48306, -206.29074, ...</td>\n",
       "      <td>19</td>\n",
       "    </tr>\n",
       "    <tr>\n",
       "      <th>23</th>\n",
       "      <td>NaN</td>\n",
       "      <td>outdoor shoes</td>\n",
       "      <td>53.62</td>\n",
       "      <td>women's como snow boot</td>\n",
       "      <td>[41.906914, -25.925056, 32.844254, 387.87744, ...</td>\n",
       "      <td>14</td>\n",
       "    </tr>\n",
       "    <tr>\n",
       "      <th>24</th>\n",
       "      <td>Soulflower</td>\n",
       "      <td>active</td>\n",
       "      <td>36.00</td>\n",
       "      <td>soul flower organic bralette bra</td>\n",
       "      <td>[-167.60518, 267.86383, 233.14099, -291.08218,...</td>\n",
       "      <td>1</td>\n",
       "    </tr>\n",
       "    <tr>\n",
       "      <th>25</th>\n",
       "      <td>NaN</td>\n",
       "      <td>athletic shoes</td>\n",
       "      <td>49.20</td>\n",
       "      <td>women's tubular dawn originals running shoe</td>\n",
       "      <td>[234.57664, -247.18011, 49.545395, -6.873391, ...</td>\n",
       "      <td>2</td>\n",
       "    </tr>\n",
       "    <tr>\n",
       "      <th>26</th>\n",
       "      <td>TAIYCYXGAN</td>\n",
       "      <td>leggings</td>\n",
       "      <td>15.90</td>\n",
       "      <td>skinny colorful jeggings stretchy jean pencil ...</td>\n",
       "      <td>[-198.03549, 264.8458, 294.94284, -277.29593, ...</td>\n",
       "      <td>11</td>\n",
       "    </tr>\n",
       "    <tr>\n",
       "      <th>27</th>\n",
       "      <td>NaN</td>\n",
       "      <td>tops and tees</td>\n",
       "      <td>44.50</td>\n",
       "      <td>rana long sleeve tunic shirt smocked cuff</td>\n",
       "      <td>[-34.984352, -108.024284, 127.82438, -255.1676...</td>\n",
       "      <td>26</td>\n",
       "    </tr>\n",
       "    <tr>\n",
       "      <th>28</th>\n",
       "      <td>Tuliplazza</td>\n",
       "      <td>suiting and blazers</td>\n",
       "      <td>27.99</td>\n",
       "      <td>office work polka dot career formal cocktail p...</td>\n",
       "      <td>[10.75406, -8.876853, 47.881123, 130.71623, 25...</td>\n",
       "      <td>23</td>\n",
       "    </tr>\n",
       "    <tr>\n",
       "      <th>29</th>\n",
       "      <td>NaN</td>\n",
       "      <td>athletic shoes</td>\n",
       "      <td>29.88</td>\n",
       "      <td>womens kawa slide (8 b(m) us, black vivid pink)</td>\n",
       "      <td>[-147.47217, 67.04025, 39.118607, 253.84723, 8...</td>\n",
       "      <td>2</td>\n",
       "    </tr>\n",
       "    <tr>\n",
       "      <th>...</th>\n",
       "      <td>...</td>\n",
       "      <td>...</td>\n",
       "      <td>...</td>\n",
       "      <td>...</td>\n",
       "      <td>...</td>\n",
       "      <td>...</td>\n",
       "    </tr>\n",
       "    <tr>\n",
       "      <th>257583</th>\n",
       "      <td>Eurosocks</td>\n",
       "      <td>socks and hosiery</td>\n",
       "      <td>11.83</td>\n",
       "      <td>snowride otc performance snowboard socks</td>\n",
       "      <td>[-288.53757, -47.73309, 509.2967, 330.67017, 1...</td>\n",
       "      <td>22</td>\n",
       "    </tr>\n",
       "    <tr>\n",
       "      <th>257584</th>\n",
       "      <td>Calvin Klein Jeans</td>\n",
       "      <td>pants</td>\n",
       "      <td>34.99</td>\n",
       "      <td>calvin klein novelty pants lagoon multi</td>\n",
       "      <td>[111.340225, -68.202675, -79.93887, -326.74924...</td>\n",
       "      <td>16</td>\n",
       "    </tr>\n",
       "    <tr>\n",
       "      <th>257585</th>\n",
       "      <td>Buenos Ninos</td>\n",
       "      <td>dresses</td>\n",
       "      <td>15.99</td>\n",
       "      <td>sleeveless flower printed vintage cocktail fla...</td>\n",
       "      <td>[139.5353, 20.0923, 146.81387, -184.87247, 83....</td>\n",
       "      <td>5</td>\n",
       "    </tr>\n",
       "    <tr>\n",
       "      <th>257586</th>\n",
       "      <td>Winwinus</td>\n",
       "      <td>skirts</td>\n",
       "      <td>0.01</td>\n",
       "      <td>high waist solid color floral lace knee length...</td>\n",
       "      <td>[-114.86551, -31.313293, -106.64289, 60.76444,...</td>\n",
       "      <td>20</td>\n",
       "    </tr>\n",
       "    <tr>\n",
       "      <th>257587</th>\n",
       "      <td>VSVO</td>\n",
       "      <td>skirts</td>\n",
       "      <td>18.99</td>\n",
       "      <td>adult metallic wet look pencil skirts</td>\n",
       "      <td>[233.39464, 26.840633, -327.84085, -324.30487,...</td>\n",
       "      <td>20</td>\n",
       "    </tr>\n",
       "    <tr>\n",
       "      <th>257588</th>\n",
       "      <td>Lazylate</td>\n",
       "      <td>jumpsuits, rompers and overalls</td>\n",
       "      <td>7.99</td>\n",
       "      <td>loose cotton linen jumpsuit baggy overalls cas...</td>\n",
       "      <td>[153.5028, -374.44055, -184.90588, 274.08188, ...</td>\n",
       "      <td>10</td>\n",
       "    </tr>\n",
       "    <tr>\n",
       "      <th>257589</th>\n",
       "      <td>Wispun</td>\n",
       "      <td>swimsuits and cover ups</td>\n",
       "      <td>14.99</td>\n",
       "      <td>beach cover crochet backless bikini swimsuit d...</td>\n",
       "      <td>[176.3624, 175.29576, 32.671803, 463.3326, -20...</td>\n",
       "      <td>25</td>\n",
       "    </tr>\n",
       "    <tr>\n",
       "      <th>257590</th>\n",
       "      <td>uxcell</td>\n",
       "      <td>outdoor shoes</td>\n",
       "      <td>8.88</td>\n",
       "      <td>women anti-slip flat zippered waterproof rain ...</td>\n",
       "      <td>[-93.714005, -228.62611, -177.1844, 6.984394, ...</td>\n",
       "      <td>14</td>\n",
       "    </tr>\n",
       "    <tr>\n",
       "      <th>257591</th>\n",
       "      <td>NaN</td>\n",
       "      <td>mules and clogs</td>\n",
       "      <td>50.07</td>\n",
       "      <td>women's perri mule</td>\n",
       "      <td>[-224.34143, -242.28755, -92.665184, 191.62288...</td>\n",
       "      <td>13</td>\n",
       "    </tr>\n",
       "    <tr>\n",
       "      <th>257592</th>\n",
       "      <td>NaN</td>\n",
       "      <td>jumpsuits, rompers and overalls</td>\n",
       "      <td>55.00</td>\n",
       "      <td>long sleeves red blue striped tassel fringe cl...</td>\n",
       "      <td>[153.95557, -20.573673, -156.62868, -115.6796,...</td>\n",
       "      <td>10</td>\n",
       "    </tr>\n",
       "    <tr>\n",
       "      <th>257593</th>\n",
       "      <td>NaN</td>\n",
       "      <td>pumps</td>\n",
       "      <td>54.99</td>\n",
       "      <td>womens kayden 7</td>\n",
       "      <td>[-117.767685, -38.01378, 153.00198, 30.115114,...</td>\n",
       "      <td>17</td>\n",
       "    </tr>\n",
       "    <tr>\n",
       "      <th>257594</th>\n",
       "      <td>Wellwits</td>\n",
       "      <td>dresses</td>\n",
       "      <td>17.99</td>\n",
       "      <td>dashiki african print high low asymmetric vint...</td>\n",
       "      <td>[34.868244, 141.1738, 63.760815, -238.56009, -...</td>\n",
       "      <td>5</td>\n",
       "    </tr>\n",
       "    <tr>\n",
       "      <th>257595</th>\n",
       "      <td>Romwe</td>\n",
       "      <td>jumpsuits, rompers and overalls</td>\n",
       "      <td>25.99</td>\n",
       "      <td>casual bow detail loose comfy harem jumpsuit o...</td>\n",
       "      <td>[152.70811, -283.45798, -107.66111, 209.91435,...</td>\n",
       "      <td>10</td>\n",
       "    </tr>\n",
       "    <tr>\n",
       "      <th>257596</th>\n",
       "      <td>YSense</td>\n",
       "      <td>socks and hosiery</td>\n",
       "      <td>5.99</td>\n",
       "      <td>pack non slip invisible show socks</td>\n",
       "      <td>[-121.58598, 36.092163, 281.07642, 41.150017, ...</td>\n",
       "      <td>22</td>\n",
       "    </tr>\n",
       "    <tr>\n",
       "      <th>257597</th>\n",
       "      <td>MagiDeal</td>\n",
       "      <td>fashion hoodies and sweatshirts</td>\n",
       "      <td>13.99</td>\n",
       "      <td>plus size plain hoodies sweatshirt ladies swea...</td>\n",
       "      <td>[-84.97943, 114.64378, 76.11078, -58.769444, -...</td>\n",
       "      <td>6</td>\n",
       "    </tr>\n",
       "    <tr>\n",
       "      <th>257598</th>\n",
       "      <td>Socialite</td>\n",
       "      <td>shorts</td>\n",
       "      <td>36.99</td>\n",
       "      <td>hawaiian smocked top shorts set multi medium</td>\n",
       "      <td>[-8.784233, -39.325054, 10.082601, -374.6476, ...</td>\n",
       "      <td>19</td>\n",
       "    </tr>\n",
       "    <tr>\n",
       "      <th>257599</th>\n",
       "      <td>Mojessy</td>\n",
       "      <td>jumpsuits, rompers and overalls</td>\n",
       "      <td>9.99</td>\n",
       "      <td>wide leg long pants jumpsuits rompers</td>\n",
       "      <td>[-92.37848, -255.27469, -306.83566, 54.00518, ...</td>\n",
       "      <td>10</td>\n",
       "    </tr>\n",
       "    <tr>\n",
       "      <th>257600</th>\n",
       "      <td>Mycoco</td>\n",
       "      <td>swimsuits and cover ups</td>\n",
       "      <td>21.99</td>\n",
       "      <td>uv rash guard pants swim leggings surfing tight</td>\n",
       "      <td>[108.73489, 175.7884, 11.465647, 255.22809, 12...</td>\n",
       "      <td>25</td>\n",
       "    </tr>\n",
       "    <tr>\n",
       "      <th>257601</th>\n",
       "      <td>NaN</td>\n",
       "      <td>athletic shoes</td>\n",
       "      <td>65.68</td>\n",
       "      <td>women's zcloud sport sandal</td>\n",
       "      <td>[171.88268, -312.43576, -50.049255, 38.860027,...</td>\n",
       "      <td>2</td>\n",
       "    </tr>\n",
       "    <tr>\n",
       "      <th>257602</th>\n",
       "      <td>Pivaconis</td>\n",
       "      <td>shorts</td>\n",
       "      <td>3.76</td>\n",
       "      <td>jeans ripped juniors hot pants crimping washed...</td>\n",
       "      <td>[5.2515073, 157.96597, -236.49696, -570.40283,...</td>\n",
       "      <td>19</td>\n",
       "    </tr>\n",
       "    <tr>\n",
       "      <th>257603</th>\n",
       "      <td>YVWTUC</td>\n",
       "      <td>swimsuits and cover ups</td>\n",
       "      <td>15.23</td>\n",
       "      <td>plasticity cozy bikini set pcs folkcustom beac...</td>\n",
       "      <td>[-40.883797, -64.15527, 10.125312, 594.92615, ...</td>\n",
       "      <td>25</td>\n",
       "    </tr>\n",
       "    <tr>\n",
       "      <th>257604</th>\n",
       "      <td>Jenny Yoo</td>\n",
       "      <td>dresses</td>\n",
       "      <td>115.36</td>\n",
       "      <td>elizabeth chiffon illusion neckline openback l...</td>\n",
       "      <td>[-122.825455, 223.4791, -50.680443, -86.814285...</td>\n",
       "      <td>5</td>\n",
       "    </tr>\n",
       "    <tr>\n",
       "      <th>257605</th>\n",
       "      <td>Cloudless</td>\n",
       "      <td>mules and clogs</td>\n",
       "      <td>29.99</td>\n",
       "      <td>cute mules for woman fashion pointed toe flat ...</td>\n",
       "      <td>[270.91916, 88.7473, -94.19881, 65.20671, 227....</td>\n",
       "      <td>13</td>\n",
       "    </tr>\n",
       "    <tr>\n",
       "      <th>257606</th>\n",
       "      <td>Laurel Burch</td>\n",
       "      <td>socks and hosiery</td>\n",
       "      <td>20.95</td>\n",
       "      <td>crew socks pair polka dot gato black red</td>\n",
       "      <td>[-148.8503, -102.6008, 224.82254, 230.65096, 4...</td>\n",
       "      <td>22</td>\n",
       "    </tr>\n",
       "    <tr>\n",
       "      <th>257607</th>\n",
       "      <td>NRS</td>\n",
       "      <td>jeans</td>\n",
       "      <td>56.92</td>\n",
       "      <td>dear john denim dear john gisele high rise ski...</td>\n",
       "      <td>[-385.7332, 199.07768, -302.49557, -121.32972,...</td>\n",
       "      <td>9</td>\n",
       "    </tr>\n",
       "    <tr>\n",
       "      <th>257608</th>\n",
       "      <td>Cocominibox</td>\n",
       "      <td>slippers</td>\n",
       "      <td>10.69</td>\n",
       "      <td>women's emoji cotton indoor slippers cartoon p...</td>\n",
       "      <td>[-272.94006, -575.7406, -95.730316, -188.66298...</td>\n",
       "      <td>21</td>\n",
       "    </tr>\n",
       "    <tr>\n",
       "      <th>257609</th>\n",
       "      <td>NaN</td>\n",
       "      <td>active</td>\n",
       "      <td>35.00</td>\n",
       "      <td>warm thermal fitted run hoodie xsxl plus size xx</td>\n",
       "      <td>[-122.46453, 413.05908, 95.98117, -191.16075, ...</td>\n",
       "      <td>1</td>\n",
       "    </tr>\n",
       "    <tr>\n",
       "      <th>257610</th>\n",
       "      <td>thorlos</td>\n",
       "      <td>socks and hosiery</td>\n",
       "      <td>14.99</td>\n",
       "      <td>unisex experia show single pair night berry me...</td>\n",
       "      <td>[-298.90494, -43.775036, 254.36986, 2.270279, ...</td>\n",
       "      <td>22</td>\n",
       "    </tr>\n",
       "    <tr>\n",
       "      <th>257611</th>\n",
       "      <td>PRAPRA</td>\n",
       "      <td>tops and tees</td>\n",
       "      <td>15.22</td>\n",
       "      <td>casual loose short sleeve round collar cotton ...</td>\n",
       "      <td>[35.39236, -97.53412, 55.92198, 73.72772, 75.8...</td>\n",
       "      <td>26</td>\n",
       "    </tr>\n",
       "    <tr>\n",
       "      <th>257612</th>\n",
       "      <td>NaN</td>\n",
       "      <td>fashion sneakers</td>\n",
       "      <td>33.54</td>\n",
       "      <td>women's flex appeal2.0 - newsmaker sneaker,</td>\n",
       "      <td>[-136.78539, -21.71617, 154.95724, 95.98249, -...</td>\n",
       "      <td>7</td>\n",
       "    </tr>\n",
       "  </tbody>\n",
       "</table>\n",
       "<p>257613 rows × 6 columns</p>\n",
       "</div>"
      ],
      "text/plain": [
       "                         brand                         category   price  \\\n",
       "0                         Domy          swimsuits and cover ups   22.99   \n",
       "1                   LE CHÂTEAU                            pumps   49.97   \n",
       "2                     DongDong                          dresses    7.82   \n",
       "3                          NaN                            jeans  105.00   \n",
       "4                          NaN                            pumps   42.99   \n",
       "5                    MISS MOLY                          dresses    7.99   \n",
       "6                          NaN                          sandals   26.19   \n",
       "7             Ru Sweet-Clothes                           skirts   15.88   \n",
       "8        Undercover Water Wear          swimsuits and cover ups   39.99   \n",
       "9                          NaN                            flats   87.94   \n",
       "10                    TOPUNDER                    outdoor shoes   18.90   \n",
       "11                    Ordenado                socks and hosiery    6.99   \n",
       "12                         NaN                            pumps   30.00   \n",
       "13             Fashion Thirsty                          sandals   22.99   \n",
       "14      Style by Charles David                            pumps   19.25   \n",
       "15                 Tion Bridal         coats, jackets and vests   24.99   \n",
       "16                 Nicely Neat                         slippers   31.38   \n",
       "17                         NaN                            flats   38.96   \n",
       "18                Fergalicious                            boots   25.14   \n",
       "19                     JINUNNU                           shorts   11.99   \n",
       "20                      Betoni                         slippers   14.99   \n",
       "21                         NaN                    outdoor shoes   78.63   \n",
       "22                 ToBeInStyle                           shorts    8.95   \n",
       "23                         NaN                    outdoor shoes   53.62   \n",
       "24                  Soulflower                           active   36.00   \n",
       "25                         NaN                   athletic shoes   49.20   \n",
       "26                  TAIYCYXGAN                         leggings   15.90   \n",
       "27                         NaN                    tops and tees   44.50   \n",
       "28                  Tuliplazza              suiting and blazers   27.99   \n",
       "29                         NaN                   athletic shoes   29.88   \n",
       "...                        ...                              ...     ...   \n",
       "257583               Eurosocks                socks and hosiery   11.83   \n",
       "257584      Calvin Klein Jeans                            pants   34.99   \n",
       "257585            Buenos Ninos                          dresses   15.99   \n",
       "257586                Winwinus                           skirts    0.01   \n",
       "257587                    VSVO                           skirts   18.99   \n",
       "257588                Lazylate  jumpsuits, rompers and overalls    7.99   \n",
       "257589                  Wispun          swimsuits and cover ups   14.99   \n",
       "257590                  uxcell                    outdoor shoes    8.88   \n",
       "257591                     NaN                  mules and clogs   50.07   \n",
       "257592                     NaN  jumpsuits, rompers and overalls   55.00   \n",
       "257593                     NaN                            pumps   54.99   \n",
       "257594                Wellwits                          dresses   17.99   \n",
       "257595                   Romwe  jumpsuits, rompers and overalls   25.99   \n",
       "257596                  YSense                socks and hosiery    5.99   \n",
       "257597                MagiDeal  fashion hoodies and sweatshirts   13.99   \n",
       "257598               Socialite                           shorts   36.99   \n",
       "257599                 Mojessy  jumpsuits, rompers and overalls    9.99   \n",
       "257600                  Mycoco          swimsuits and cover ups   21.99   \n",
       "257601                     NaN                   athletic shoes   65.68   \n",
       "257602               Pivaconis                           shorts    3.76   \n",
       "257603                  YVWTUC          swimsuits and cover ups   15.23   \n",
       "257604               Jenny Yoo                          dresses  115.36   \n",
       "257605               Cloudless                  mules and clogs   29.99   \n",
       "257606            Laurel Burch                socks and hosiery   20.95   \n",
       "257607                     NRS                            jeans   56.92   \n",
       "257608             Cocominibox                         slippers   10.69   \n",
       "257609                     NaN                           active   35.00   \n",
       "257610                 thorlos                socks and hosiery   14.99   \n",
       "257611                  PRAPRA                    tops and tees   15.22   \n",
       "257612                     NaN                 fashion sneakers   33.54   \n",
       "\n",
       "                                             product_name  \\\n",
       "0       plus size swimwear retro halter top vintage on...   \n",
       "1       women's classic leather pointy toe slingback pump   \n",
       "2       dress ladies short casual pocket summer sleeve...   \n",
       "3       super stretch skinny fit distressed jeans wfla...   \n",
       "4                  women's total motion salima dress pump   \n",
       "5       clearance dress bohemian floral summer casual ...   \n",
       "6                               women's surf wedge sandal   \n",
       "7         ru sweet rayon span full length long maxi skirt   \n",
       "8       short sleeve swim tee athletic swim top uv pro...   \n",
       "9                                      women's hazel pump   \n",
       "10      women embroidered boots casual ankle boots mar...   \n",
       "11      thigh high socks winter cable knit lace knee s...   \n",
       "12                            women's see this dress pump   \n",
       "13      womens flatform cork espadrille wedge sandals ...   \n",
       "14                                     women's lynne pump   \n",
       "15                                   chiffon bolero ivory   \n",
       "16      12pk open toe coral fleece slippers for home a...   \n",
       "17                      women's un.briarcrest flats shoes   \n",
       "18                              women's rattle ankle boot   \n",
       "19      sexy hot pants summer casual shorts drops rain...   \n",
       "20      farah-3 flip flop faux fur link chain slide sl...   \n",
       "21           women's terradora mid waterproof hiking shoe   \n",
       "22                           intricate lace detail shorts   \n",
       "23                                 women's como snow boot   \n",
       "24                       soul flower organic bralette bra   \n",
       "25            women's tubular dawn originals running shoe   \n",
       "26      skinny colorful jeggings stretchy jean pencil ...   \n",
       "27              rana long sleeve tunic shirt smocked cuff   \n",
       "28      office work polka dot career formal cocktail p...   \n",
       "29        womens kawa slide (8 b(m) us, black vivid pink)   \n",
       "...                                                   ...   \n",
       "257583           snowride otc performance snowboard socks   \n",
       "257584            calvin klein novelty pants lagoon multi   \n",
       "257585  sleeveless flower printed vintage cocktail fla...   \n",
       "257586  high waist solid color floral lace knee length...   \n",
       "257587              adult metallic wet look pencil skirts   \n",
       "257588  loose cotton linen jumpsuit baggy overalls cas...   \n",
       "257589  beach cover crochet backless bikini swimsuit d...   \n",
       "257590  women anti-slip flat zippered waterproof rain ...   \n",
       "257591                                 women's perri mule   \n",
       "257592  long sleeves red blue striped tassel fringe cl...   \n",
       "257593                                    womens kayden 7   \n",
       "257594  dashiki african print high low asymmetric vint...   \n",
       "257595  casual bow detail loose comfy harem jumpsuit o...   \n",
       "257596                 pack non slip invisible show socks   \n",
       "257597  plus size plain hoodies sweatshirt ladies swea...   \n",
       "257598       hawaiian smocked top shorts set multi medium   \n",
       "257599              wide leg long pants jumpsuits rompers   \n",
       "257600    uv rash guard pants swim leggings surfing tight   \n",
       "257601                        women's zcloud sport sandal   \n",
       "257602  jeans ripped juniors hot pants crimping washed...   \n",
       "257603  plasticity cozy bikini set pcs folkcustom beac...   \n",
       "257604  elizabeth chiffon illusion neckline openback l...   \n",
       "257605  cute mules for woman fashion pointed toe flat ...   \n",
       "257606           crew socks pair polka dot gato black red   \n",
       "257607  dear john denim dear john gisele high rise ski...   \n",
       "257608  women's emoji cotton indoor slippers cartoon p...   \n",
       "257609   warm thermal fitted run hoodie xsxl plus size xx   \n",
       "257610  unisex experia show single pair night berry me...   \n",
       "257611  casual loose short sleeve round collar cotton ...   \n",
       "257612        women's flex appeal2.0 - newsmaker sneaker,   \n",
       "\n",
       "                                               sent_embed  label  \n",
       "0       [-201.85323, -127.87654, 0.8215461, 323.24844,...     25  \n",
       "1       [7.2089806, 124.064354, -22.363012, 173.3266, ...     17  \n",
       "2       [39.89494, 102.13796, -127.38166, -96.415955, ...      5  \n",
       "3       [40.05252, 124.04834, -93.65457, -474.3166, -1...      9  \n",
       "4       [41.03999, 247.08846, 340.8324, -8.21388, -328...     17  \n",
       "5       [-1.4046335, 0.17496625, -121.18756, -433.2212...      5  \n",
       "6       [-162.97992, 135.67294, 189.51817, 76.12923, -...     18  \n",
       "7       [310.19983, -70.405235, -213.73894, -397.79538...     20  \n",
       "8       [98.109604, -24.992016, -77.66884, 392.6394, -...     25  \n",
       "9       [-152.86841, 94.25187, -133.30511, -109.19036,...      8  \n",
       "10      [104.05154, -299.8079, 63.41428, 31.669254, -7...     14  \n",
       "11      [12.128976, -15.6932335, 122.91465, 90.64886, ...     22  \n",
       "12      [-204.00089, 432.60406, -182.0657, 313.59113, ...     17  \n",
       "13      [-87.9185, -171.61041, 182.64026, 67.42589, -5...     18  \n",
       "14      [-291.3428, 460.21573, -59.169678, 397.222, -1...     17  \n",
       "15      [-131.38681, -209.14305, 61.475132, 451.54926,...      4  \n",
       "16      [-140.08199, -80.17219, -85.87558, 15.674224, ...     21  \n",
       "17      [-38.113525, 103.029655, 117.17187, -298.68823...      8  \n",
       "18      [-426.879, -220.90512, 389.5927, -2.496399, 26...      3  \n",
       "19      [258.41284, -25.039015, -93.82635, -97.706924,...     19  \n",
       "20      [-168.40547, -176.22574, -53.92669, 100.6888, ...     21  \n",
       "21      [-232.81885, -36.809467, 20.30897, 207.75029, ...     14  \n",
       "22      [297.51337, 96.42678, -144.48306, -206.29074, ...     19  \n",
       "23      [41.906914, -25.925056, 32.844254, 387.87744, ...     14  \n",
       "24      [-167.60518, 267.86383, 233.14099, -291.08218,...      1  \n",
       "25      [234.57664, -247.18011, 49.545395, -6.873391, ...      2  \n",
       "26      [-198.03549, 264.8458, 294.94284, -277.29593, ...     11  \n",
       "27      [-34.984352, -108.024284, 127.82438, -255.1676...     26  \n",
       "28      [10.75406, -8.876853, 47.881123, 130.71623, 25...     23  \n",
       "29      [-147.47217, 67.04025, 39.118607, 253.84723, 8...      2  \n",
       "...                                                   ...    ...  \n",
       "257583  [-288.53757, -47.73309, 509.2967, 330.67017, 1...     22  \n",
       "257584  [111.340225, -68.202675, -79.93887, -326.74924...     16  \n",
       "257585  [139.5353, 20.0923, 146.81387, -184.87247, 83....      5  \n",
       "257586  [-114.86551, -31.313293, -106.64289, 60.76444,...     20  \n",
       "257587  [233.39464, 26.840633, -327.84085, -324.30487,...     20  \n",
       "257588  [153.5028, -374.44055, -184.90588, 274.08188, ...     10  \n",
       "257589  [176.3624, 175.29576, 32.671803, 463.3326, -20...     25  \n",
       "257590  [-93.714005, -228.62611, -177.1844, 6.984394, ...     14  \n",
       "257591  [-224.34143, -242.28755, -92.665184, 191.62288...     13  \n",
       "257592  [153.95557, -20.573673, -156.62868, -115.6796,...     10  \n",
       "257593  [-117.767685, -38.01378, 153.00198, 30.115114,...     17  \n",
       "257594  [34.868244, 141.1738, 63.760815, -238.56009, -...      5  \n",
       "257595  [152.70811, -283.45798, -107.66111, 209.91435,...     10  \n",
       "257596  [-121.58598, 36.092163, 281.07642, 41.150017, ...     22  \n",
       "257597  [-84.97943, 114.64378, 76.11078, -58.769444, -...      6  \n",
       "257598  [-8.784233, -39.325054, 10.082601, -374.6476, ...     19  \n",
       "257599  [-92.37848, -255.27469, -306.83566, 54.00518, ...     10  \n",
       "257600  [108.73489, 175.7884, 11.465647, 255.22809, 12...     25  \n",
       "257601  [171.88268, -312.43576, -50.049255, 38.860027,...      2  \n",
       "257602  [5.2515073, 157.96597, -236.49696, -570.40283,...     19  \n",
       "257603  [-40.883797, -64.15527, 10.125312, 594.92615, ...     25  \n",
       "257604  [-122.825455, 223.4791, -50.680443, -86.814285...      5  \n",
       "257605  [270.91916, 88.7473, -94.19881, 65.20671, 227....     13  \n",
       "257606  [-148.8503, -102.6008, 224.82254, 230.65096, 4...     22  \n",
       "257607  [-385.7332, 199.07768, -302.49557, -121.32972,...      9  \n",
       "257608  [-272.94006, -575.7406, -95.730316, -188.66298...     21  \n",
       "257609  [-122.46453, 413.05908, 95.98117, -191.16075, ...      1  \n",
       "257610  [-298.90494, -43.775036, 254.36986, 2.270279, ...     22  \n",
       "257611  [35.39236, -97.53412, 55.92198, 73.72772, 75.8...     26  \n",
       "257612  [-136.78539, -21.71617, 154.95724, 95.98249, -...      7  \n",
       "\n",
       "[257613 rows x 6 columns]"
      ]
     },
     "execution_count": 43,
     "metadata": {},
     "output_type": "execute_result"
    }
   ],
   "source": [
    "df"
   ]
  },
  {
   "cell_type": "code",
   "execution_count": 44,
   "metadata": {},
   "outputs": [
    {
     "data": {
      "text/plain": [
       "(257613, 1)"
      ]
     },
     "execution_count": 44,
     "metadata": {},
     "output_type": "execute_result"
    }
   ],
   "source": [
    "y = y.values.reshape(-1,1)\n",
    "y.shape"
   ]
  },
  {
   "cell_type": "code",
   "execution_count": 23,
   "metadata": {},
   "outputs": [
    {
     "name": "stderr",
     "output_type": "stream",
     "text": [
      "c:\\Anaconda3\\lib\\site-packages\\sklearn\\cross_validation.py:41: DeprecationWarning: This module was deprecated in version 0.18 in favor of the model_selection module into which all the refactored classes and functions are moved. Also note that the interface of the new CV iterators are different from that of this module. This module will be removed in 0.20.\n",
      "  \"This module will be removed in 0.20.\", DeprecationWarning)\n"
     ]
    }
   ],
   "source": [
    "#Split Data\n",
    "from sklearn.cross_validation import train_test_split\n",
    "X_train,X_test,y_train,y_test = train_test_split(X,y,test_size=0.3)"
   ]
  },
  {
   "cell_type": "code",
   "execution_count": 348,
   "metadata": {},
   "outputs": [
    {
     "name": "stderr",
     "output_type": "stream",
     "text": [
      "c:\\Anaconda3\\lib\\site-packages\\ipykernel_launcher.py:3: DataConversionWarning: A column-vector y was passed when a 1d array was expected. Please change the shape of y to (n_samples, ), for example using ravel().\n",
      "  This is separate from the ipykernel package so we can avoid doing imports until\n"
     ]
    }
   ],
   "source": [
    "#Instantiate model\n"
   ]
  },
  {
   "cell_type": "code",
   "execution_count": 24,
   "metadata": {},
   "outputs": [
    {
     "name": "stderr",
     "output_type": "stream",
     "text": [
      "c:\\Anaconda3\\lib\\site-packages\\ipykernel_launcher.py:4: DataConversionWarning: A column-vector y was passed when a 1d array was expected. Please change the shape of y to (n_samples, ), for example using ravel().\n",
      "  after removing the cwd from sys.path.\n"
     ]
    }
   ],
   "source": [
    "error_rate = []\n",
    "for i in range(1,10):\n",
    "    knn = KNeighborsClassifier(n_neighbors =i,n_jobs=-1)\n",
    "    knn.fit(X_train,y_train)\n",
    "    pred_i = knn.predict(X_test)\n",
    "    error_rate.append(np.mean(pred_i != y_test))"
   ]
  },
  {
   "cell_type": "code",
   "execution_count": 32,
   "metadata": {},
   "outputs": [
    {
     "data": {
      "text/plain": [
       "Text(0,0.5,'Error Rate')"
      ]
     },
     "execution_count": 32,
     "metadata": {},
     "output_type": "execute_result"
    },
    {
     "data": {
      "image/png": "[encoded data removed]",
      "text/plain": [
       "<Figure size 720x432 with 1 Axes>"
      ]
     },
     "metadata": {},
     "output_type": "display_data"
    }
   ],
   "source": [
    "import matplotlib.pyplot as plt\n",
    "import seaborn as sns\n",
    "%matplotlib inline\n",
    "plt.figure(figsize=(10,6))\n",
    "plt.plot(range(1,10),error_rate,color='blue',linestyle='dashed',marker='o',markerfacecolor = 'red',markersize=10)\n",
    "plt.title('Error Rate vs K Value')\n",
    "plt.xlabel('K')\n",
    "plt.ylabel('Error Rate')\n"
   ]
  },
  {
   "cell_type": "code",
   "execution_count": 350,
   "metadata": {},
   "outputs": [
    {
     "data": {
      "text/plain": [
       "1.3763780342632368"
      ]
     },
     "execution_count": 350,
     "metadata": {},
     "output_type": "execute_result"
    }
   ],
   "source": [
    "from sklearn import metrics\n",
    "metrics.mean_absolute_error(y_test,predictions)"
   ]
  },
  {
   "cell_type": "code",
   "execution_count": 351,
   "metadata": {},
   "outputs": [
    {
     "data": {
      "text/plain": [
       "19.612416541586875"
      ]
     },
     "execution_count": 351,
     "metadata": {},
     "output_type": "execute_result"
    }
   ],
   "source": [
    "metrics.mean_squared_error(y_test,predictions)"
   ]
  },
  {
   "cell_type": "code",
   "execution_count": 352,
   "metadata": {},
   "outputs": [
    {
     "data": {
      "text/plain": [
       "4.428590807648283"
      ]
     },
     "execution_count": 352,
     "metadata": {},
     "output_type": "execute_result"
    }
   ],
   "source": [
    "np.sqrt(metrics.mean_squared_error(y_test,predictions))"
   ]
  },
  {
   "cell_type": "code",
   "execution_count": 353,
   "metadata": {},
   "outputs": [
    {
     "data": {
      "text/plain": [
       "0.6546191469205926"
      ]
     },
     "execution_count": 353,
     "metadata": {},
     "output_type": "execute_result"
    }
   ],
   "source": [
    "metrics.explained_variance_score(y_test,predictions)"
   ]
  },
  {
   "cell_type": "code",
   "execution_count": 35,
   "metadata": {},
   "outputs": [],
   "source": [
    "from sklearn.metrics import classification_report,confusion_matrix"
   ]
  },
  {
   "cell_type": "code",
   "execution_count": 358,
   "metadata": {},
   "outputs": [
    {
     "name": "stdout",
     "output_type": "stream",
     "text": [
      "             precision    recall  f1-score   support\n",
      "\n",
      "          1       0.66      0.64      0.65      2988\n",
      "          2       0.66      0.65      0.66      3099\n",
      "          3       0.77      0.81      0.79      3034\n",
      "          4       0.90      0.89      0.89      2972\n",
      "          5       0.90      0.92      0.91      2984\n",
      "          6       0.90      0.90      0.90      2968\n",
      "          7       0.80      0.79      0.79      2947\n",
      "          8       0.91      0.91      0.91      2970\n",
      "          9       0.96      0.95      0.96      2971\n",
      "         10       0.94      0.95      0.95      3019\n",
      "         11       0.92      0.92      0.92      2978\n",
      "         12       0.89      0.90      0.89      2988\n",
      "         13       0.92      0.90      0.91      2799\n",
      "         14       0.60      0.63      0.62      2972\n",
      "         15       0.90      0.88      0.89      2536\n",
      "         16       0.86      0.86      0.86      3007\n",
      "         17       0.92      0.91      0.91      3071\n",
      "         18       0.82      0.82      0.82      2982\n",
      "         19       0.95      0.96      0.95      3029\n",
      "         20       0.94      0.94      0.94      3038\n",
      "         21       0.93      0.92      0.92      2990\n",
      "         22       0.89      0.89      0.89      2945\n",
      "         23       0.84      0.83      0.83      3051\n",
      "         24       0.92      0.92      0.92      2983\n",
      "         25       0.97      0.96      0.96      2962\n",
      "         26       0.87      0.88      0.87      3001\n",
      "\n",
      "avg / total       0.87      0.87      0.87     77284\n",
      "\n"
     ]
    }
   ],
   "source": [
    "print(classification_report(y_test,predictions))"
   ]
  },
  {
   "cell_type": "code",
   "execution_count": 359,
   "metadata": {},
   "outputs": [
    {
     "name": "stdout",
     "output_type": "stream",
     "text": [
      "[[1901    1    0   83   24   64    6    1    5   25   88  210    0    2\n",
      "     0   61    0    2   38   18    0  282   11   12   11  143]\n",
      " [   7 2024   61    1    1    0  317   26    0    0    0    1   10  497\n",
      "    15    1   14  112    0    0    5    1    1    1    1    3]\n",
      " [   0   37 2453    2    0    0   22    6    0    1    0    0    4  448\n",
      "    17    2   11   26    0    0    3    1    1    0    0    0]\n",
      " [  79    1    3 2636    8   51    3    3    3    3    2    2    0    2\n",
      "     0    3    0    1    5    1    0    2   83   67    3   11]\n",
      " [  18    1    0    2 2751   11    0    0    0   16    0   12    0    0\n",
      "     0    2    0    0    0    8    0    0   98    6    9   50]\n",
      " [  57    2    0   59    9 2674    0    1    0    4    1    3    1    4\n",
      "     1    3    0    0    2    0    0    0    7   45    7   88]\n",
      " [   3  374   36    2    0    1 2332   40    1    0    0    0   19   38\n",
      "    63    1    6   12    0    0   16    2    0    0    0    1]\n",
      " [   0   25   14    0    0    0   46 2705    1    0    0    0   21   15\n",
      "    45    1   56   24    1    0   16    0    0    0    0    0]\n",
      " [   2    1    1    1    0    0    0    0 2831    5   23    0    0    0\n",
      "     0   51    2    0   31   12    0    1    6    1    0    3]\n",
      " [  13    0    0    1   28    2    0    0    3 2869    2   19    0    0\n",
      "     0   30    0    0    9    1    0    0   21    3    9    9]\n",
      " [  73    3    0    2    1    4    1    0   29   14 2731    7    0    1\n",
      "     0   90    0    0    2    5    0   10    5    0    0    0]\n",
      " [ 177    0    0    3   10    2    0    0    1   25    5 2684    0    1\n",
      "     1   12    0    1    4    6    0    8    0    3    5   40]\n",
      " [   1   16   13    0    0    0   23   30    1    0    0    0 2509   22\n",
      "    19    1   19   58    0    1   86    0    0    0    0    0]\n",
      " [   0  430  452    3    1    0   23    8    0    0    0    0   14 1879\n",
      "    15    0    1  118    0    0   26    2    0    0    0    0]\n",
      " [   1   22   36    0    0    0   99   54    1    0    1    1   16   25\n",
      "  2223    1   32    8    1    0   14    0    0    0    1    0]\n",
      " [  71    0    1    4    3    5    2    1   36   24   90   10    0    1\n",
      "     0 2591    1    0   29    7    0    3  121    2    1    4]\n",
      " [   1   18   23    1    0    0   28   37    0    0    0    0   23    6\n",
      "    31    0 2783  116    0    0    2    0    1    1    0    0]\n",
      " [   2  102   71    1    0    0   16   25    2    0    0    0   55  131\n",
      "     4    0   87 2453    0    1   29    1    1    1    0    0]\n",
      " [  36    0    0    3    0    4    0    0   19    8    4    3    1    3\n",
      "     3   13    0    0 2895   11    0    2    1    3   16    4]\n",
      " [  15    0    0    1   10    2    0    0    6    2    4    6    1    0\n",
      "     0    8    0    0    6 2859    0    0  110    2    4    2]\n",
      " [   0    8   13    2    0    2    5   30    0    0    0    0   65   34\n",
      "    21    1    3   46    0    0 2746   11    0    1    2    0]\n",
      " [ 276    1    3    0    0    0    3    1    0    2   17    6    0    2\n",
      "     0    2    1    3    0    0   13 2611    1    2    0    1]\n",
      " [   3    0    4   71  135   16    0    0    0   22    2    0    0    1\n",
      "     0  130    0    1    3  101    1    0 2519   28    6    8]\n",
      " [  26    0    0   48   11   57    0    0    1    4    0    8    0    0\n",
      "     1    0    1    0    0    0    0    0   14 2754   20   38]\n",
      " [  11    0    0    0   22    2    3    0    0   10    1   10    0    0\n",
      "     0    3    1    0   16    4    0    0    1   20 2850    8]\n",
      " [ 107    2    0   15   45   72    0    0    0    7    1   32    1    0\n",
      "     0    1    0    2    3    0    0    0   14   38    8 2653]]\n"
     ]
    }
   ],
   "source": [
    "print(confusion_matrix(y_test,predictions))"
   ]
  },
  {
   "cell_type": "code",
   "execution_count": 33,
   "metadata": {},
   "outputs": [
    {
     "name": "stderr",
     "output_type": "stream",
     "text": [
      "c:\\Anaconda3\\lib\\site-packages\\ipykernel_launcher.py:3: DataConversionWarning: A column-vector y was passed when a 1d array was expected. Please change the shape of y to (n_samples, ), for example using ravel().\n",
      "  This is separate from the ipykernel package so we can avoid doing imports until\n"
     ]
    }
   ],
   "source": [
    "#Choose 4 as n_neighbor value and compare results\n",
    "knn = KNeighborsClassifier(n_neighbors =4,n_jobs=1)\n",
    "knn.fit(X_train,y_train)\n",
    "predN4 = knn.predict(X_test)\n"
   ]
  },
  {
   "cell_type": "code",
   "execution_count": 36,
   "metadata": {},
   "outputs": [
    {
     "name": "stdout",
     "output_type": "stream",
     "text": [
      "             precision    recall  f1-score   support\n",
      "\n",
      "          1       0.74      0.79      0.77      3056\n",
      "          2       0.68      0.76      0.72      2966\n",
      "          3       0.82      0.86      0.84      2985\n",
      "          4       0.93      0.93      0.93      2924\n",
      "          5       0.90      0.97      0.94      3005\n",
      "          6       0.94      0.94      0.94      3016\n",
      "          7       0.88      0.84      0.86      2957\n",
      "          8       0.91      0.94      0.93      2980\n",
      "          9       0.97      0.99      0.98      3097\n",
      "         10       0.95      0.97      0.96      3011\n",
      "         11       0.95      0.96      0.95      2872\n",
      "         12       0.95      0.90      0.93      3021\n",
      "         13       0.93      0.93      0.93      2783\n",
      "         14       0.68      0.66      0.67      3021\n",
      "         15       0.94      0.90      0.92      2553\n",
      "         16       0.92      0.91      0.92      2999\n",
      "         17       0.93      0.94      0.94      2988\n",
      "         18       0.88      0.85      0.87      2957\n",
      "         19       0.98      0.96      0.97      3083\n",
      "         20       0.96      0.98      0.97      2990\n",
      "         21       0.97      0.92      0.94      3079\n",
      "         22       0.92      0.91      0.92      2998\n",
      "         23       0.93      0.84      0.88      2993\n",
      "         24       0.94      0.95      0.94      2994\n",
      "         25       0.98      0.97      0.98      2992\n",
      "         26       0.93      0.91      0.92      2964\n",
      "\n",
      "avg / total       0.90      0.90      0.90     77284\n",
      "\n"
     ]
    }
   ],
   "source": [
    "print(classification_report(y_test,predN4))"
   ]
  },
  {
   "cell_type": "code",
   "execution_count": 39,
   "metadata": {},
   "outputs": [],
   "source": [
    "#random forest\n",
    "from sklearn.ensemble import RandomForestClassifier"
   ]
  },
  {
   "cell_type": "code",
   "execution_count": 51,
   "metadata": {},
   "outputs": [
    {
     "name": "stderr",
     "output_type": "stream",
     "text": [
      "c:\\Anaconda3\\lib\\site-packages\\ipykernel_launcher.py:2: DataConversionWarning: A column-vector y was passed when a 1d array was expected. Please change the shape of y to (n_samples,), for example using ravel().\n",
      "  \n"
     ]
    },
    {
     "data": {
      "text/plain": [
       "RandomForestClassifier(bootstrap=True, class_weight=None, criterion='gini',\n",
       "            max_depth=None, max_features='auto', max_leaf_nodes=None,\n",
       "            min_impurity_decrease=0.0, min_impurity_split=None,\n",
       "            min_samples_leaf=1, min_samples_split=2,\n",
       "            min_weight_fraction_leaf=0.0, n_estimators=20, n_jobs=2,\n",
       "            oob_score=False, random_state=0, verbose=0, warm_start=False)"
      ]
     },
     "execution_count": 51,
     "metadata": {},
     "output_type": "execute_result"
    }
   ],
   "source": [
    "forest_model = RandomForestClassifier(n_jobs=2,random_state=0,n_estimators = 20)\n",
    "forest_model.fit(X_train,y_train)"
   ]
  },
  {
   "cell_type": "code",
   "execution_count": 52,
   "metadata": {},
   "outputs": [],
   "source": [
    "predictforest = forest_model.predict(X_test)"
   ]
  },
  {
   "cell_type": "code",
   "execution_count": 47,
   "metadata": {},
   "outputs": [
    {
     "name": "stdout",
     "output_type": "stream",
     "text": [
      "             precision    recall  f1-score   support\n",
      "\n",
      "          1       0.66      0.70      0.68      3056\n",
      "          2       0.64      0.67      0.66      2966\n",
      "          3       0.80      0.80      0.80      2985\n",
      "          4       0.87      0.89      0.88      2924\n",
      "          5       0.87      0.91      0.89      3005\n",
      "          6       0.89      0.90      0.90      3016\n",
      "          7       0.81      0.81      0.81      2957\n",
      "          8       0.88      0.93      0.91      2980\n",
      "          9       0.95      0.95      0.95      3097\n",
      "         10       0.93      0.93      0.93      3011\n",
      "         11       0.90      0.92      0.91      2872\n",
      "         12       0.89      0.89      0.89      3021\n",
      "         13       0.90      0.90      0.90      2783\n",
      "         14       0.63      0.63      0.63      3021\n",
      "         15       0.91      0.86      0.89      2553\n",
      "         16       0.87      0.85      0.86      2999\n",
      "         17       0.93      0.91      0.92      2988\n",
      "         18       0.84      0.82      0.83      2957\n",
      "         19       0.96      0.94      0.95      3083\n",
      "         20       0.94      0.93      0.93      2990\n",
      "         21       0.94      0.90      0.92      3079\n",
      "         22       0.90      0.88      0.89      2998\n",
      "         23       0.84      0.82      0.83      2993\n",
      "         24       0.93      0.91      0.92      2994\n",
      "         25       0.97      0.94      0.95      2992\n",
      "         26       0.88      0.88      0.88      2964\n",
      "\n",
      "avg / total       0.87      0.86      0.87     77284\n",
      "\n"
     ]
    }
   ],
   "source": [
    "print(classification_report(y_test,predictforest))"
   ]
  },
  {
   "cell_type": "code",
   "execution_count": 53,
   "metadata": {},
   "outputs": [
    {
     "name": "stdout",
     "output_type": "stream",
     "text": [
      "             precision    recall  f1-score   support\n",
      "\n",
      "          1       0.70      0.71      0.71      3056\n",
      "          2       0.68      0.68      0.68      2966\n",
      "          3       0.83      0.82      0.82      2985\n",
      "          4       0.91      0.91      0.91      2924\n",
      "          5       0.91      0.93      0.92      3005\n",
      "          6       0.92      0.93      0.92      3016\n",
      "          7       0.84      0.83      0.84      2957\n",
      "          8       0.91      0.94      0.92      2980\n",
      "          9       0.97      0.96      0.97      3097\n",
      "         10       0.96      0.95      0.95      3011\n",
      "         11       0.93      0.94      0.93      2872\n",
      "         12       0.91      0.90      0.90      3021\n",
      "         13       0.92      0.91      0.92      2783\n",
      "         14       0.65      0.67      0.66      3021\n",
      "         15       0.92      0.89      0.90      2553\n",
      "         16       0.89      0.89      0.89      2999\n",
      "         17       0.94      0.93      0.93      2988\n",
      "         18       0.85      0.85      0.85      2957\n",
      "         19       0.97      0.96      0.96      3083\n",
      "         20       0.95      0.95      0.95      2990\n",
      "         21       0.95      0.93      0.94      3079\n",
      "         22       0.90      0.90      0.90      2998\n",
      "         23       0.86      0.86      0.86      2993\n",
      "         24       0.93      0.93      0.93      2994\n",
      "         25       0.98      0.95      0.97      2992\n",
      "         26       0.88      0.91      0.89      2964\n",
      "\n",
      "avg / total       0.89      0.89      0.89     77284\n",
      "\n"
     ]
    }
   ],
   "source": [
    "print(classification_report(y_test,predictforest))"
   ]
  },
  {
   "cell_type": "code",
   "execution_count": null,
   "metadata": {},
   "outputs": [],
   "source": [
    "hyperparameter tuning\n",
    "grid search\n",
    "sente"
   ]
  }
 ],
 "metadata": {
  "kernelspec": {
   "display_name": "Python 3",
   "language": "python",
   "name": "python3"
  },
  "language_info": {
   "codemirror_mode": {
    "name": "ipython",
    "version": 3
   },
   "file_extension": ".py",
   "mimetype": "text/x-python",
   "name": "python",
   "nbconvert_exporter": "python",
   "pygments_lexer": "ipython3",
   "version": "3.7.0"
  }
 },
 "nbformat": 4,
 "nbformat_minor": 2
}
