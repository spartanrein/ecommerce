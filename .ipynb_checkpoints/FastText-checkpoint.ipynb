{
 "cells": [
  {
   "cell_type": "code",
   "execution_count": 29,
   "metadata": {},
   "outputs": [],
   "source": [
    "import pandas as pd\n",
    "import fastText as ft\n",
    "import os\n",
    "from sklearn.utils import shuffle"
   ]
  },
  {
   "cell_type": "code",
   "execution_count": 71,
   "metadata": {},
   "outputs": [],
   "source": [
    "df = pd.read_csv('amazon_data_clean.csv')"
   ]
  },
  {
   "cell_type": "code",
   "execution_count": 75,
   "metadata": {},
   "outputs": [
    {
     "data": {
      "text/html": [
       "<div>\n",
       "<style scoped>\n",
       "    .dataframe tbody tr th:only-of-type {\n",
       "        vertical-align: middle;\n",
       "    }\n",
       "\n",
       "    .dataframe tbody tr th {\n",
       "        vertical-align: top;\n",
       "    }\n",
       "\n",
       "    .dataframe thead th {\n",
       "        text-align: right;\n",
       "    }\n",
       "</style>\n",
       "<table border=\"1\" class=\"dataframe\">\n",
       "  <thead>\n",
       "    <tr style=\"text-align: right;\">\n",
       "      <th></th>\n",
       "      <th>brand</th>\n",
       "      <th>category</th>\n",
       "      <th>price</th>\n",
       "      <th>product_name</th>\n",
       "    </tr>\n",
       "  </thead>\n",
       "  <tbody>\n",
       "    <tr>\n",
       "      <th>0</th>\n",
       "      <td>TOMS</td>\n",
       "      <td>slippers</td>\n",
       "      <td>21.99</td>\n",
       "      <td>women's classics</td>\n",
       "    </tr>\n",
       "    <tr>\n",
       "      <th>1</th>\n",
       "      <td>Vionic</td>\n",
       "      <td>slippers</td>\n",
       "      <td>59.95</td>\n",
       "      <td>women's relax slipper (size 11/dark grey zebra)</td>\n",
       "    </tr>\n",
       "    <tr>\n",
       "      <th>2</th>\n",
       "      <td>Birkenstock</td>\n",
       "      <td>slippers</td>\n",
       "      <td>89.95</td>\n",
       "      <td>arizona women's birko-flor sandal</td>\n",
       "    </tr>\n",
       "    <tr>\n",
       "      <th>3</th>\n",
       "      <td>TOMS</td>\n",
       "      <td>slippers</td>\n",
       "      <td>19.99</td>\n",
       "      <td>men's classic canvas slip-on</td>\n",
       "    </tr>\n",
       "    <tr>\n",
       "      <th>4</th>\n",
       "      <td>ULTRAIDEAS</td>\n",
       "      <td>slippers</td>\n",
       "      <td>19.90</td>\n",
       "      <td>women's comfort memory foam slippers wool-like...</td>\n",
       "    </tr>\n",
       "    <tr>\n",
       "      <th>5</th>\n",
       "      <td>Shevalues</td>\n",
       "      <td>slippers</td>\n",
       "      <td>10.99</td>\n",
       "      <td>shower sandal slippers quick drying bathroom s...</td>\n",
       "    </tr>\n",
       "    <tr>\n",
       "      <th>6</th>\n",
       "      <td>NaN</td>\n",
       "      <td>slippers</td>\n",
       "      <td>13.99</td>\n",
       "      <td>women's comfort slip on memory foam slippers f...</td>\n",
       "    </tr>\n",
       "    <tr>\n",
       "      <th>7</th>\n",
       "      <td>Vionic</td>\n",
       "      <td>slippers</td>\n",
       "      <td>49.95</td>\n",
       "      <td>relax - orthaheel orthotic slippers</td>\n",
       "    </tr>\n",
       "    <tr>\n",
       "      <th>8</th>\n",
       "      <td>NaN</td>\n",
       "      <td>slippers</td>\n",
       "      <td>12.00</td>\n",
       "      <td>women's terry ballerina slipper with bow for i...</td>\n",
       "    </tr>\n",
       "    <tr>\n",
       "      <th>9</th>\n",
       "      <td>NaN</td>\n",
       "      <td>slippers</td>\n",
       "      <td>64.95</td>\n",
       "      <td>ohana slipper - women's blueberry/black 10</td>\n",
       "    </tr>\n",
       "  </tbody>\n",
       "</table>\n",
       "</div>"
      ],
      "text/plain": [
       "         brand  category  price  \\\n",
       "0         TOMS  slippers  21.99   \n",
       "1       Vionic  slippers  59.95   \n",
       "2  Birkenstock  slippers  89.95   \n",
       "3         TOMS  slippers  19.99   \n",
       "4   ULTRAIDEAS  slippers  19.90   \n",
       "5    Shevalues  slippers  10.99   \n",
       "6          NaN  slippers  13.99   \n",
       "7       Vionic  slippers  49.95   \n",
       "8          NaN  slippers  12.00   \n",
       "9          NaN  slippers  64.95   \n",
       "\n",
       "                                        product_name  \n",
       "0                                   women's classics  \n",
       "1    women's relax slipper (size 11/dark grey zebra)  \n",
       "2                  arizona women's birko-flor sandal  \n",
       "3                       men's classic canvas slip-on  \n",
       "4  women's comfort memory foam slippers wool-like...  \n",
       "5  shower sandal slippers quick drying bathroom s...  \n",
       "6  women's comfort slip on memory foam slippers f...  \n",
       "7                relax - orthaheel orthotic slippers  \n",
       "8  women's terry ballerina slipper with bow for i...  \n",
       "9         ohana slipper - women's blueberry/black 10  "
      ]
     },
     "execution_count": 75,
     "metadata": {},
     "output_type": "execute_result"
    }
   ],
   "source": [
    "df.head(10)"
   ]
  },
  {
   "cell_type": "code",
   "execution_count": 76,
   "metadata": {},
   "outputs": [],
   "source": [
    "#balance the dataset\n",
    "l = []\n",
    "for i in set(df.category):\n",
    "    #for every unique microtag\n",
    "    temp = df[df.category==i]\n",
    "    #if count>10000, get only 10000 samples\n",
    "    if len(temp)>10000:\n",
    "        l.append(temp.sample(10000))\n",
    "    else: #otherwise, get everything\n",
    "        l.append(temp)\n"
   ]
  },
  {
   "cell_type": "code",
   "execution_count": 77,
   "metadata": {},
   "outputs": [],
   "source": [
    "#concatenate the dataset\n",
    "df = pd.concat(l)\n",
    "df = df[df.category.notnull()]"
   ]
  },
  {
   "cell_type": "code",
   "execution_count": 78,
   "metadata": {},
   "outputs": [],
   "source": [
    "df = shuffle(df, random_state = 100)"
   ]
  },
  {
   "cell_type": "code",
   "execution_count": 79,
   "metadata": {
    "scrolled": false
   },
   "outputs": [
    {
     "data": {
      "text/html": [
       "<div>\n",
       "<style scoped>\n",
       "    .dataframe tbody tr th:only-of-type {\n",
       "        vertical-align: middle;\n",
       "    }\n",
       "\n",
       "    .dataframe tbody tr th {\n",
       "        vertical-align: top;\n",
       "    }\n",
       "\n",
       "    .dataframe thead th {\n",
       "        text-align: right;\n",
       "    }\n",
       "</style>\n",
       "<table border=\"1\" class=\"dataframe\">\n",
       "  <thead>\n",
       "    <tr style=\"text-align: right;\">\n",
       "      <th></th>\n",
       "      <th>brand</th>\n",
       "      <th>category</th>\n",
       "      <th>price</th>\n",
       "      <th>product_name</th>\n",
       "    </tr>\n",
       "  </thead>\n",
       "  <tbody>\n",
       "    <tr>\n",
       "      <th>127754</th>\n",
       "      <td>YVWTUC</td>\n",
       "      <td>swimsuits and cover ups</td>\n",
       "      <td>15.23</td>\n",
       "      <td>plasticity cozy bikini set pcs folkcustom beac...</td>\n",
       "    </tr>\n",
       "    <tr>\n",
       "      <th>232502</th>\n",
       "      <td>Jenny Yoo</td>\n",
       "      <td>dresses</td>\n",
       "      <td>115.36</td>\n",
       "      <td>elizabeth chiffon illusion neckline openback l...</td>\n",
       "    </tr>\n",
       "    <tr>\n",
       "      <th>69915</th>\n",
       "      <td>Cloudless</td>\n",
       "      <td>mules and clogs</td>\n",
       "      <td>29.99</td>\n",
       "      <td>cute mules for woman fashion pointed toe flat ...</td>\n",
       "    </tr>\n",
       "    <tr>\n",
       "      <th>278564</th>\n",
       "      <td>Laurel Burch</td>\n",
       "      <td>socks and hosiery</td>\n",
       "      <td>20.95</td>\n",
       "      <td>crew socks pair polka dot gato black red</td>\n",
       "    </tr>\n",
       "    <tr>\n",
       "      <th>201621</th>\n",
       "      <td>NRS</td>\n",
       "      <td>jeans</td>\n",
       "      <td>56.92</td>\n",
       "      <td>dear john denim dear john gisele high rise ski...</td>\n",
       "    </tr>\n",
       "    <tr>\n",
       "      <th>5663</th>\n",
       "      <td>Cocominibox</td>\n",
       "      <td>slippers</td>\n",
       "      <td>10.69</td>\n",
       "      <td>women's emoji cotton indoor slippers cartoon p...</td>\n",
       "    </tr>\n",
       "    <tr>\n",
       "      <th>170879</th>\n",
       "      <td>NaN</td>\n",
       "      <td>active</td>\n",
       "      <td>35.00</td>\n",
       "      <td>warm thermal fitted run hoodie xsxl plus size xx</td>\n",
       "    </tr>\n",
       "    <tr>\n",
       "      <th>261890</th>\n",
       "      <td>thorlos</td>\n",
       "      <td>socks and hosiery</td>\n",
       "      <td>14.99</td>\n",
       "      <td>unisex experia show single pair night berry me...</td>\n",
       "    </tr>\n",
       "    <tr>\n",
       "      <th>218572</th>\n",
       "      <td>PRAPRA</td>\n",
       "      <td>tops and tees</td>\n",
       "      <td>15.22</td>\n",
       "      <td>casual loose short sleeve round collar cotton ...</td>\n",
       "    </tr>\n",
       "    <tr>\n",
       "      <th>34427</th>\n",
       "      <td>NaN</td>\n",
       "      <td>fashion sneakers</td>\n",
       "      <td>33.54</td>\n",
       "      <td>women's flex appeal2.0 - newsmaker sneaker,</td>\n",
       "    </tr>\n",
       "  </tbody>\n",
       "</table>\n",
       "</div>"
      ],
      "text/plain": [
       "               brand                 category   price  \\\n",
       "127754        YVWTUC  swimsuits and cover ups   15.23   \n",
       "232502     Jenny Yoo                  dresses  115.36   \n",
       "69915      Cloudless          mules and clogs   29.99   \n",
       "278564  Laurel Burch        socks and hosiery   20.95   \n",
       "201621           NRS                    jeans   56.92   \n",
       "5663     Cocominibox                 slippers   10.69   \n",
       "170879           NaN                   active   35.00   \n",
       "261890       thorlos        socks and hosiery   14.99   \n",
       "218572        PRAPRA            tops and tees   15.22   \n",
       "34427            NaN         fashion sneakers   33.54   \n",
       "\n",
       "                                             product_name  \n",
       "127754  plasticity cozy bikini set pcs folkcustom beac...  \n",
       "232502  elizabeth chiffon illusion neckline openback l...  \n",
       "69915   cute mules for woman fashion pointed toe flat ...  \n",
       "278564           crew socks pair polka dot gato black red  \n",
       "201621  dear john denim dear john gisele high rise ski...  \n",
       "5663    women's emoji cotton indoor slippers cartoon p...  \n",
       "170879   warm thermal fitted run hoodie xsxl plus size xx  \n",
       "261890  unisex experia show single pair night berry me...  \n",
       "218572  casual loose short sleeve round collar cotton ...  \n",
       "34427         women's flex appeal2.0 - newsmaker sneaker,  "
      ]
     },
     "execution_count": 79,
     "metadata": {},
     "output_type": "execute_result"
    }
   ],
   "source": [
    "df.tail(10)"
   ]
  },
  {
   "cell_type": "code",
   "execution_count": 80,
   "metadata": {},
   "outputs": [],
   "source": [
    "df.to_csv(\"amazon_ready_to_train\")"
   ]
  },
  {
   "cell_type": "code",
   "execution_count": 113,
   "metadata": {},
   "outputs": [
    {
     "data": {
      "text/html": [
       "<div>\n",
       "<style scoped>\n",
       "    .dataframe tbody tr th:only-of-type {\n",
       "        vertical-align: middle;\n",
       "    }\n",
       "\n",
       "    .dataframe tbody tr th {\n",
       "        vertical-align: top;\n",
       "    }\n",
       "\n",
       "    .dataframe thead th {\n",
       "        text-align: right;\n",
       "    }\n",
       "</style>\n",
       "<table border=\"1\" class=\"dataframe\">\n",
       "  <thead>\n",
       "    <tr style=\"text-align: right;\">\n",
       "      <th></th>\n",
       "      <th>brand</th>\n",
       "      <th>category</th>\n",
       "      <th>price</th>\n",
       "      <th>product_name</th>\n",
       "      <th>label</th>\n",
       "    </tr>\n",
       "  </thead>\n",
       "  <tbody>\n",
       "    <tr>\n",
       "      <th>125735</th>\n",
       "      <td>Domy</td>\n",
       "      <td>swimsuits and cover ups</td>\n",
       "      <td>22.99</td>\n",
       "      <td>plus size swimwear retro halter top vintage on...</td>\n",
       "      <td>__label__swimsuits_and_cover_ups plus size swi...</td>\n",
       "    </tr>\n",
       "    <tr>\n",
       "      <th>93675</th>\n",
       "      <td>LE CHÂTEAU</td>\n",
       "      <td>pumps</td>\n",
       "      <td>49.97</td>\n",
       "      <td>women's classic leather pointy toe slingback pump</td>\n",
       "      <td>__label__pumps women's classic leather pointy ...</td>\n",
       "    </tr>\n",
       "    <tr>\n",
       "      <th>279434</th>\n",
       "      <td>DongDong</td>\n",
       "      <td>dresses</td>\n",
       "      <td>7.82</td>\n",
       "      <td>dress ladies short casual pocket summer sleeve...</td>\n",
       "      <td>__label__dresses dress ladies short casual poc...</td>\n",
       "    </tr>\n",
       "    <tr>\n",
       "      <th>255335</th>\n",
       "      <td>NaN</td>\n",
       "      <td>jeans</td>\n",
       "      <td>105.00</td>\n",
       "      <td>super stretch skinny fit distressed jeans wfla...</td>\n",
       "      <td>__label__jeans super stretch skinny fit distre...</td>\n",
       "    </tr>\n",
       "    <tr>\n",
       "      <th>92049</th>\n",
       "      <td>NaN</td>\n",
       "      <td>pumps</td>\n",
       "      <td>42.99</td>\n",
       "      <td>women's total motion salima dress pump</td>\n",
       "      <td>__label__pumps women's total motion salima dre...</td>\n",
       "    </tr>\n",
       "  </tbody>\n",
       "</table>\n",
       "</div>"
      ],
      "text/plain": [
       "             brand                 category   price  \\\n",
       "125735        Domy  swimsuits and cover ups   22.99   \n",
       "93675   LE CHÂTEAU                    pumps   49.97   \n",
       "279434    DongDong                  dresses    7.82   \n",
       "255335         NaN                    jeans  105.00   \n",
       "92049          NaN                    pumps   42.99   \n",
       "\n",
       "                                             product_name  \\\n",
       "125735  plus size swimwear retro halter top vintage on...   \n",
       "93675   women's classic leather pointy toe slingback pump   \n",
       "279434  dress ladies short casual pocket summer sleeve...   \n",
       "255335  super stretch skinny fit distressed jeans wfla...   \n",
       "92049              women's total motion salima dress pump   \n",
       "\n",
       "                                                    label  \n",
       "125735  __label__swimsuits_and_cover_ups plus size swi...  \n",
       "93675   __label__pumps women's classic leather pointy ...  \n",
       "279434  __label__dresses dress ladies short casual poc...  \n",
       "255335  __label__jeans super stretch skinny fit distre...  \n",
       "92049   __label__pumps women's total motion salima dre...  "
      ]
     },
     "execution_count": 113,
     "metadata": {},
     "output_type": "execute_result"
    }
   ],
   "source": [
    "df.head()"
   ]
  },
  {
   "cell_type": "code",
   "execution_count": 81,
   "metadata": {},
   "outputs": [],
   "source": [
    "#create fasttext specific training data\n",
    "df['label']  = '__label__'+df.category.apply(lambda x: x.replace(' ','_')+' ')\n",
    "df['label'] = df['label'] + df.product_name\n",
    "df[['label']].to_csv('training_data.txt', header=None, index=None, mode='a')\n",
    "\n"
   ]
  },
  {
   "cell_type": "code",
   "execution_count": 116,
   "metadata": {},
   "outputs": [],
   "source": [
    "#create fasttext unsupervised training data\n",
    "df[['product_name']].to_csv('training_data_unsupervised.txt',header=None,index=None,mode='a')"
   ]
  },
  {
   "cell_type": "code",
   "execution_count": 117,
   "metadata": {},
   "outputs": [],
   "source": [
    "train_data = os.path.join(os.getenv(\"DATADIR\", ''), 'training_data.txt')\n",
    "train_data2 = os.path.join(os.getenv(\"DATADIR\", ''), 'training_data_unsupervised.txt')"
   ]
  },
  {
   "cell_type": "code",
   "execution_count": 1,
   "metadata": {},
   "outputs": [
    {
     "ename": "NameError",
     "evalue": "name 'ft' is not defined",
     "output_type": "error",
     "traceback": [
      "\u001b[1;31m---------------------------------------------------------------------------\u001b[0m",
      "\u001b[1;31mNameError\u001b[0m                                 Traceback (most recent call last)",
      "\u001b[1;32m<ipython-input-1-2e8adfa2dd16>\u001b[0m in \u001b[0;36m<module>\u001b[1;34m()\u001b[0m\n\u001b[0;32m      1\u001b[0m \u001b[1;31m#Train unsupervised model\u001b[0m\u001b[1;33m\u001b[0m\u001b[1;33m\u001b[0m\u001b[0m\n\u001b[1;32m----> 2\u001b[1;33m \u001b[0mmodel2\u001b[0m \u001b[1;33m=\u001b[0m \u001b[0mft\u001b[0m\u001b[1;33m.\u001b[0m\u001b[0mtrain_unsupervised\u001b[0m\u001b[1;33m(\u001b[0m\u001b[0mtrain_data2\u001b[0m\u001b[1;33m,\u001b[0m \u001b[0mepoch\u001b[0m\u001b[1;33m=\u001b[0m\u001b[1;36m25\u001b[0m\u001b[1;33m,\u001b[0m \u001b[0mlr\u001b[0m\u001b[1;33m=\u001b[0m\u001b[1;36m1.0\u001b[0m\u001b[1;33m,\u001b[0m \u001b[0mwordNgrams\u001b[0m\u001b[1;33m=\u001b[0m\u001b[1;36m2\u001b[0m\u001b[1;33m,\u001b[0m \u001b[0mverbose\u001b[0m\u001b[1;33m=\u001b[0m\u001b[1;36m2\u001b[0m\u001b[1;33m,\u001b[0m \u001b[0mminCount\u001b[0m\u001b[1;33m=\u001b[0m\u001b[1;36m1\u001b[0m\u001b[1;33m)\u001b[0m\u001b[1;33m\u001b[0m\u001b[0m\n\u001b[0m",
      "\u001b[1;31mNameError\u001b[0m: name 'ft' is not defined"
     ]
    }
   ],
   "source": [
    "#Train unsupervised model\n",
    "model2 = ft.train_unsupervised(train_data2, epoch=25, lr=1.0, wordNgrams=2, verbose=2, minCount=1)"
   ]
  },
  {
   "cell_type": "code",
   "execution_count": 83,
   "metadata": {},
   "outputs": [],
   "source": [
    "#Train supervised model\n",
    "model = ft.train_supervised(train_data, epoch=25, lr=1.0, wordNgrams=2, verbose=2, minCount=1)\n",
    "model.save_model(\"amazon.bin\")\n",
    "model."
   ]
  },
  {
   "cell_type": "code",
   "execution_count": 84,
   "metadata": {},
   "outputs": [
    {
     "name": "stdout",
     "output_type": "stream",
     "text": [
      "(('__label__tops_and_tees',), array([0.54978126]))\n",
      "(('__label__lingerie_and_sleepwear',), array([0.97836107]))\n",
      "(('__label__coats,_jackets_and_vests',), array([0.36347061]))\n"
     ]
    }
   ],
   "source": [
    "#try several cases\n",
    "print(model.predict('zara blue shirt'))\n",
    "print(model.predict('calvin klein thermal underwear'))\n",
    "print(model.predict('apple macbook pro'))"
   ]
  },
  {
   "cell_type": "code",
   "execution_count": 85,
   "metadata": {},
   "outputs": [],
   "source": [
    "model.quantize(input=train_data, qnorm=True, retrain=True, cutoff=100000)\n",
    "model.save_model(\"amazon.ftz\")"
   ]
  },
  {
   "cell_type": "code",
   "execution_count": 109,
   "metadata": {
    "scrolled": true
   },
   "outputs": [
    {
     "name": "stdout",
     "output_type": "stream",
     "text": [
      "(('__label__tops_and_tees',), array([1.00001001]))\n",
      "(('__label__lingerie_and_sleepwear',), array([1.00001001]))\n",
      "(('__label__fashion_sneakers',), array([1.00001001]))\n"
     ]
    }
   ],
   "source": [
    "#try several cases\n",
    "print(model.predict('zara blue shirt'))\n",
    "print(model.predict('calvin klein thermal underwear'))\n",
    "print(model.predict('jack purcell low profile ox sneakers'))\n"
   ]
  },
  {
   "cell_type": "code",
   "execution_count": 58,
   "metadata": {},
   "outputs": [
    {
     "data": {
      "text/plain": [
       "(366402, 0.953635624259693, 0.953635624259693)"
      ]
     },
     "execution_count": 58,
     "metadata": {},
     "output_type": "execute_result"
    }
   ],
   "source": [
    "model.test('training_data.txt')"
   ]
  },
  {
   "cell_type": "code",
   "execution_count": 112,
   "metadata": {},
   "outputs": [
    {
     "data": {
      "text/plain": [
       "array([  656.0759  ,  -561.1235  ,  -329.5382  ,   115.54471 ,\n",
       "        -452.32443 ,   278.9113  ,  -328.98642 ,   466.2833  ,\n",
       "       -1833.0869  ,  -206.65681 ,   584.8116  ,   -44.790337,\n",
       "         804.19855 ,  -274.65872 ,   966.45087 ,  -111.88818 ,\n",
       "        -680.48566 ,  -788.7844  ,   944.9018  ,  -333.4626  ,\n",
       "         443.07907 ,  -504.199   ,   141.8493  ,    92.166954,\n",
       "         -89.3413  ,   434.30048 ,  1212.2523  ,   951.4056  ,\n",
       "         979.96234 ,  -189.5821  ,   564.8393  ,   527.22327 ,\n",
       "        -147.31876 ,  -385.422   , -1374.9117  ,  -423.15045 ,\n",
       "        -558.5091  ,   436.27032 ,   589.4014  ,  -533.05176 ,\n",
       "          75.18426 ,  -291.77454 ,  1109.8188  ,   414.12503 ,\n",
       "         -68.36644 ,   159.42451 ,  -573.76495 ,  -293.90314 ,\n",
       "         -37.032883,  -191.48688 , -1283.1628  ,  1057.7242  ,\n",
       "        -118.9082  ,  -294.21207 ,    61.65367 ,   574.1455  ,\n",
       "        -833.38605 ,   241.08812 ,   -70.14299 ,   315.48724 ,\n",
       "        1247.2383  ,   624.9851  ,   641.1147  ,  -895.51355 ,\n",
       "         -59.11734 ,   258.88785 ,  -168.39143 ,  -311.3617  ,\n",
       "         366.09717 ,   426.45428 , -1478.8951  ,  -529.97687 ,\n",
       "        -637.3215  ,   203.07501 ,   644.3765  ,   558.35956 ,\n",
       "        1156.7021  ,  -458.66278 ,  -120.22281 ,   184.99828 ,\n",
       "        -728.42664 ,  -663.01465 ,  -218.93637 ,   623.5709  ,\n",
       "         696.6095  ,  -583.0832  ,   -23.4017  ,  1385.9427  ,\n",
       "        -411.74475 ,  -256.93567 ,  -736.56433 ,    74.70028 ,\n",
       "       -1188.2505  ,   300.32132 ,   424.4577  ,   102.111435,\n",
       "         353.3609  ,  -615.7561  ,   763.59076 ,   304.96527 ],\n",
       "      dtype=float32)"
      ]
     },
     "execution_count": 112,
     "metadata": {},
     "output_type": "execute_result"
    }
   ],
   "source": [
    "model.get_sentence_vector('Rein')"
   ]
  },
  {
   "cell_type": "code",
   "execution_count": null,
   "metadata": {},
   "outputs": [],
   "source": []
  }
 ],
 "metadata": {
  "kernelspec": {
   "display_name": "Python 3",
   "language": "python",
   "name": "python3"
  },
  "language_info": {
   "codemirror_mode": {
    "name": "ipython",
    "version": 3
   },
   "file_extension": ".py",
   "mimetype": "text/x-python",
   "name": "python",
   "nbconvert_exporter": "python",
   "pygments_lexer": "ipython3",
   "version": "3.6.4"
  }
 },
 "nbformat": 4,
 "nbformat_minor": 2
}
