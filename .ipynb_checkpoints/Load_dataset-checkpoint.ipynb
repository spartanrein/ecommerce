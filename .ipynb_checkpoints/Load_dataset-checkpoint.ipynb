{
 "cells": [
  {
   "cell_type": "code",
   "execution_count": 13,
   "metadata": {},
   "outputs": [],
   "source": [
    "import pandas as pd\n",
    "import fastText as ft\n",
    "import os\n",
    "import numpy as np\n",
    "import sklearn"
   ]
  },
  {
   "cell_type": "code",
   "execution_count": 2,
   "metadata": {},
   "outputs": [],
   "source": [
    "df = pd.read_csv(\"amazon_embeddings_ver2.csv\")"
   ]
  },
  {
   "cell_type": "code",
   "execution_count": 4,
   "metadata": {},
   "outputs": [],
   "source": [
    "df.drop(columns = 'Unnamed: 0',inplace=True)"
   ]
  },
  {
   "cell_type": "code",
   "execution_count": 5,
   "metadata": {},
   "outputs": [],
   "source": [
    "model = ft.load_model('amazon.ftz')"
   ]
  },
  {
   "cell_type": "code",
   "execution_count": 6,
   "metadata": {},
   "outputs": [],
   "source": [
    "embed = []\n",
    "for i in df['product_name']:\n",
    "    embed.append(model.get_sentence_vector((str(i))))\n",
    "df['sent_embed'] = embed"
   ]
  },
  {
   "cell_type": "code",
   "execution_count": 7,
   "metadata": {},
   "outputs": [],
   "source": [
    "c ={'active': 1,\n",
    " 'athletic shoes': 2,\n",
    " 'boots': 3,\n",
    " 'coats, jackets and vests': 4,\n",
    " 'dresses': 5,\n",
    " 'fashion hoodies and sweatshirts': 6,\n",
    " 'fashion sneakers': 7,\n",
    " 'flats': 8,\n",
    " 'jeans': 9,\n",
    " 'jumpsuits, rompers and overalls': 10,\n",
    " 'leggings': 11,\n",
    " 'lingerie and sleepwear': 12,\n",
    " 'mules and clogs': 13,\n",
    " 'outdoor shoes': 14,\n",
    " 'oxford shoes': 15,\n",
    " 'pants': 16,\n",
    " 'pumps': 17,\n",
    " 'sandals': 18,\n",
    " 'shorts': 19,\n",
    " 'skirts': 20,\n",
    " 'slippers': 21,\n",
    " 'socks and hosiery': 22,\n",
    " 'suiting and blazers': 23,\n",
    " 'sweaters': 24,\n",
    " 'swimsuits and cover ups': 25,\n",
    " 'tops and tees': 26}"
   ]
  },
  {
   "cell_type": "code",
   "execution_count": 8,
   "metadata": {},
   "outputs": [],
   "source": [
    "#Add Column \"Label\" as integer\n",
    "df['label']=df['category'].apply(lambda x: int(c[x]))"
   ]
  },
  {
   "cell_type": "code",
   "execution_count": 11,
   "metadata": {},
   "outputs": [
    {
     "data": {
      "text/plain": [
       "(257613, 1)"
      ]
     },
     "execution_count": 11,
     "metadata": {},
     "output_type": "execute_result"
    }
   ],
   "source": [
    "#Separate Data into X and y\n",
    "X = np.array(df.sent_embed.tolist())\n",
    "y = df['label']\n",
    "y = y.values.reshape(-1,1)\n",
    "y.shape"
   ]
  },
  {
   "cell_type": "code",
   "execution_count": 17,
   "metadata": {},
   "outputs": [],
   "source": [
    "from sklearn.cross_validation import train_test_split\n",
    "X_train,X_test,y_train,y_test = train_test_split(X,y,test_size=0.3,random_state=100)"
   ]
  },
  {
   "cell_type": "code",
   "execution_count": null,
   "metadata": {},
   "outputs": [],
   "source": []
  }
 ],
 "metadata": {
  "kernelspec": {
   "display_name": "Python 3",
   "language": "python",
   "name": "python3"
  },
  "language_info": {
   "codemirror_mode": {
    "name": "ipython",
    "version": 3
   },
   "file_extension": ".py",
   "mimetype": "text/x-python",
   "name": "python",
   "nbconvert_exporter": "python",
   "pygments_lexer": "ipython3",
   "version": "3.6.4"
  }
 },
 "nbformat": 4,
 "nbformat_minor": 2
}
