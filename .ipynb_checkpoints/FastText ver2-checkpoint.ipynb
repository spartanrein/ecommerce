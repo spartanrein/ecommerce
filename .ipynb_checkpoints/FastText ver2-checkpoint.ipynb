{
 "cells": [
  {
   "cell_type": "markdown",
   "metadata": {},
   "source": [
    "### FastText"
   ]
  },
  {
   "cell_type": "code",
   "execution_count": 13,
   "metadata": {},
   "outputs": [],
   "source": [
    "import pandas as pd\n",
    "import fastText as ft\n",
    "import os\n",
    "from sklearn.utils import shuffle\n",
    "import numpy as np\n",
    "from sklearn.metrics import classification_report "
   ]
  },
  {
   "cell_type": "code",
   "execution_count": 2,
   "metadata": {},
   "outputs": [
    {
     "data": {
      "text/html": [
       "<div>\n",
       "<style scoped>\n",
       "    .dataframe tbody tr th:only-of-type {\n",
       "        vertical-align: middle;\n",
       "    }\n",
       "\n",
       "    .dataframe tbody tr th {\n",
       "        vertical-align: top;\n",
       "    }\n",
       "\n",
       "    .dataframe thead th {\n",
       "        text-align: right;\n",
       "    }\n",
       "</style>\n",
       "<table border=\"1\" class=\"dataframe\">\n",
       "  <thead>\n",
       "    <tr style=\"text-align: right;\">\n",
       "      <th></th>\n",
       "      <th>brand</th>\n",
       "      <th>category</th>\n",
       "      <th>price</th>\n",
       "      <th>product_name</th>\n",
       "    </tr>\n",
       "  </thead>\n",
       "  <tbody>\n",
       "    <tr>\n",
       "      <th>0</th>\n",
       "      <td>TOMS</td>\n",
       "      <td>slippers</td>\n",
       "      <td>21.99</td>\n",
       "      <td>women's classics</td>\n",
       "    </tr>\n",
       "    <tr>\n",
       "      <th>1</th>\n",
       "      <td>Vionic</td>\n",
       "      <td>slippers</td>\n",
       "      <td>59.95</td>\n",
       "      <td>women's relax slipper (size 11/dark grey zebra)</td>\n",
       "    </tr>\n",
       "    <tr>\n",
       "      <th>2</th>\n",
       "      <td>Birkenstock</td>\n",
       "      <td>slippers</td>\n",
       "      <td>89.95</td>\n",
       "      <td>arizona women's birko-flor sandal</td>\n",
       "    </tr>\n",
       "    <tr>\n",
       "      <th>3</th>\n",
       "      <td>TOMS</td>\n",
       "      <td>slippers</td>\n",
       "      <td>19.99</td>\n",
       "      <td>men's classic canvas slip-on</td>\n",
       "    </tr>\n",
       "    <tr>\n",
       "      <th>4</th>\n",
       "      <td>ULTRAIDEAS</td>\n",
       "      <td>slippers</td>\n",
       "      <td>19.90</td>\n",
       "      <td>women's comfort memory foam slippers wool-like...</td>\n",
       "    </tr>\n",
       "  </tbody>\n",
       "</table>\n",
       "</div>"
      ],
      "text/plain": [
       "         brand  category  price  \\\n",
       "0         TOMS  slippers  21.99   \n",
       "1       Vionic  slippers  59.95   \n",
       "2  Birkenstock  slippers  89.95   \n",
       "3         TOMS  slippers  19.99   \n",
       "4   ULTRAIDEAS  slippers  19.90   \n",
       "\n",
       "                                        product_name  \n",
       "0                                   women's classics  \n",
       "1    women's relax slipper (size 11/dark grey zebra)  \n",
       "2                  arizona women's birko-flor sandal  \n",
       "3                       men's classic canvas slip-on  \n",
       "4  women's comfort memory foam slippers wool-like...  "
      ]
     },
     "execution_count": 2,
     "metadata": {},
     "output_type": "execute_result"
    }
   ],
   "source": [
    "df = pd.read_csv('amazon_data_clean.csv')\n",
    "df.head()"
   ]
  },
  {
   "cell_type": "markdown",
   "metadata": {},
   "source": [
    "### Balance the dataset"
   ]
  },
  {
   "cell_type": "code",
   "execution_count": 36,
   "metadata": {},
   "outputs": [],
   "source": [
    "l = []\n",
    "for i in set(df.category):\n",
    "    #for every unique microtag\n",
    "    temp = df[df.category==i]\n",
    "    #if count>10000, get only 10000 samples\n",
    "    if len(temp)>10000:\n",
    "        l.append(temp.sample(10000))\n",
    "    else: #otherwise, get everything\n",
    "        l.append(temp)\n",
    "df = pd.concat(l)\n",
    "df = df[df.category.notnull()]"
   ]
  },
  {
   "cell_type": "markdown",
   "metadata": {},
   "source": [
    "### Shuffle the dataset"
   ]
  },
  {
   "cell_type": "code",
   "execution_count": 37,
   "metadata": {},
   "outputs": [
    {
     "data": {
      "text/html": [
       "<div>\n",
       "<style scoped>\n",
       "    .dataframe tbody tr th:only-of-type {\n",
       "        vertical-align: middle;\n",
       "    }\n",
       "\n",
       "    .dataframe tbody tr th {\n",
       "        vertical-align: top;\n",
       "    }\n",
       "\n",
       "    .dataframe thead th {\n",
       "        text-align: right;\n",
       "    }\n",
       "</style>\n",
       "<table border=\"1\" class=\"dataframe\">\n",
       "  <thead>\n",
       "    <tr style=\"text-align: right;\">\n",
       "      <th></th>\n",
       "      <th>brand</th>\n",
       "      <th>category</th>\n",
       "      <th>price</th>\n",
       "      <th>product_name</th>\n",
       "    </tr>\n",
       "  </thead>\n",
       "  <tbody>\n",
       "    <tr>\n",
       "      <th>88021</th>\n",
       "      <td>Hoxekle</td>\n",
       "      <td>oxford shoes</td>\n",
       "      <td>39.99</td>\n",
       "      <td>womens round toes comfortable british style sh...</td>\n",
       "    </tr>\n",
       "    <tr>\n",
       "      <th>144054</th>\n",
       "      <td>REMASIKO</td>\n",
       "      <td>dresses</td>\n",
       "      <td>19.99</td>\n",
       "      <td>sylviey summer striped sleeveless wear work ca...</td>\n",
       "    </tr>\n",
       "    <tr>\n",
       "      <th>18729</th>\n",
       "      <td>NaN</td>\n",
       "      <td>athletic shoes</td>\n",
       "      <td>109.99</td>\n",
       "      <td>women's air max 90 running shoe</td>\n",
       "    </tr>\n",
       "    <tr>\n",
       "      <th>174668</th>\n",
       "      <td>Lin</td>\n",
       "      <td>active</td>\n",
       "      <td>25.99</td>\n",
       "      <td>coolmax pack sports bike running spin class hi...</td>\n",
       "    </tr>\n",
       "    <tr>\n",
       "      <th>213935</th>\n",
       "      <td>Made by Emma</td>\n",
       "      <td>dresses</td>\n",
       "      <td>15.98</td>\n",
       "      <td>sexy solid split neck line front bodycon midi ...</td>\n",
       "    </tr>\n",
       "  </tbody>\n",
       "</table>\n",
       "</div>"
      ],
      "text/plain": [
       "               brand        category   price  \\\n",
       "88021        Hoxekle    oxford shoes   39.99   \n",
       "144054      REMASIKO         dresses   19.99   \n",
       "18729            NaN  athletic shoes  109.99   \n",
       "174668           Lin          active   25.99   \n",
       "213935  Made by Emma         dresses   15.98   \n",
       "\n",
       "                                             product_name  \n",
       "88021   womens round toes comfortable british style sh...  \n",
       "144054  sylviey summer striped sleeveless wear work ca...  \n",
       "18729                     women's air max 90 running shoe  \n",
       "174668  coolmax pack sports bike running spin class hi...  \n",
       "213935  sexy solid split neck line front bodycon midi ...  "
      ]
     },
     "execution_count": 37,
     "metadata": {},
     "output_type": "execute_result"
    }
   ],
   "source": [
    "df = shuffle(df, random_state = 100)\n",
    "df.head()"
   ]
  },
  {
   "cell_type": "markdown",
   "metadata": {},
   "source": [
    "### Create FastText training.txt"
   ]
  },
  {
   "cell_type": "code",
   "execution_count": null,
   "metadata": {},
   "outputs": [],
   "source": [
    "df['label']  = '__label__'+df.category.apply(lambda x: x.replace(' ','_')+' ')\n",
    "df['label'] = df['label'] + df.product_name\n",
    "df[['label']].to_csv('training_data.txt', header=None, index=None, mode='a')"
   ]
  },
  {
   "cell_type": "code",
   "execution_count": null,
   "metadata": {},
   "outputs": [],
   "source": [
    "train_data = os.path.join(os.getenv(\"DATADIR\", ''), 'training_data.txt')\n",
    "train_data2 = os.path.join(os.getenv(\"DATADIR\", ''), 'training_data_unsupervised.txt')"
   ]
  },
  {
   "cell_type": "markdown",
   "metadata": {},
   "source": [
    "### Train FastText supervised movdel"
   ]
  },
  {
   "cell_type": "code",
   "execution_count": null,
   "metadata": {},
   "outputs": [],
   "source": [
    "model = ft.train_supervised(train_data, epoch=25, lr=1.0, wordNgrams=2, verbose=2, minCount=1)\n",
    "model.save_model(\"amazon_ver2.bin\")\n"
   ]
  },
  {
   "cell_type": "markdown",
   "metadata": {},
   "source": [
    "### Test several product names:"
   ]
  },
  {
   "cell_type": "code",
   "execution_count": 7,
   "metadata": {},
   "outputs": [
    {
     "name": "stdout",
     "output_type": "stream",
     "text": [
      "(('__label__mules_and_clogs',), array([1.00001001]))\n"
     ]
    }
   ],
   "source": [
    "print(model.predict('purple tshirt'))\n",
    "print(model.predict('reebok sneakers'))\n",
    "print(model.predict('grey cotton sweat pants'))\n",
    "print(model.predict('blue uniqlo jacket'))"
   ]
  },
  {
   "cell_type": "markdown",
   "metadata": {},
   "source": [
    "### Quantize Model and save"
   ]
  },
  {
   "cell_type": "code",
   "execution_count": 33,
   "metadata": {},
   "outputs": [],
   "source": [
    "model.quantize(input=train_data, qnorm=True, retrain=True, cutoff=100000)\n",
    "model.save_model(\"amazon.bin\")"
   ]
  },
  {
   "cell_type": "markdown",
   "metadata": {},
   "source": [
    "### Test product names again:"
   ]
  },
  {
   "cell_type": "code",
   "execution_count": 29,
   "metadata": {
    "scrolled": true
   },
   "outputs": [
    {
     "name": "stdout",
     "output_type": "stream",
     "text": [
      "(('__label__tops_and_tees',), array([1.00001001]))\n",
      "(('__label__fashion_sneakers',), array([1.00001001]))\n",
      "(('__label__active',), array([1.00001001]))\n",
      "(('__label__coats,_jackets_and_vests',), array([1.00001001]))\n"
     ]
    }
   ],
   "source": [
    "print(model.predict('purple tshirt'))\n",
    "print(model.predict('reebok sneakers'))\n",
    "print(model.predict('grey cotton sweat pants'))\n",
    "print(model.predict('blue uniqlo jacket'))"
   ]
  },
  {
   "cell_type": "markdown",
   "metadata": {},
   "source": [
    "### Get sentence embeddings from FastText\n",
    "#### Add into dataframe as sent_embed"
   ]
  },
  {
   "cell_type": "code",
   "execution_count": 3,
   "metadata": {},
   "outputs": [],
   "source": [
    "model = ft.load_model('amazon.ftz')"
   ]
  },
  {
   "cell_type": "code",
   "execution_count": 4,
   "metadata": {},
   "outputs": [],
   "source": [
    "embed = []\n",
    "for i in df['product_name']:\n",
    "    embed.append(model.get_sentence_vector((str(i))))"
   ]
  },
  {
   "cell_type": "code",
   "execution_count": 5,
   "metadata": {},
   "outputs": [],
   "source": [
    "df['sent_embed'] = embed"
   ]
  },
  {
   "cell_type": "markdown",
   "metadata": {},
   "source": [
    "### Change Labels into integers"
   ]
  },
  {
   "cell_type": "code",
   "execution_count": 6,
   "metadata": {},
   "outputs": [],
   "source": [
    "c ={'active': 1,\n",
    " 'athletic shoes': 2,\n",
    " 'boots': 3,\n",
    " 'coats, jackets and vests': 4,\n",
    " 'dresses': 5,\n",
    " 'fashion hoodies and sweatshirts': 6,\n",
    " 'fashion sneakers': 7,\n",
    " 'flats': 8,\n",
    " 'jeans': 9,\n",
    " 'jumpsuits, rompers and overalls': 10,\n",
    " 'leggings': 11,\n",
    " 'lingerie and sleepwear': 12,\n",
    " 'mules and clogs': 13,\n",
    " 'outdoor shoes': 14,\n",
    " 'oxford shoes': 15,\n",
    " 'pants': 16,\n",
    " 'pumps': 17,\n",
    " 'sandals': 18,\n",
    " 'shorts': 19,\n",
    " 'skirts': 20,\n",
    " 'slippers': 21,\n",
    " 'socks and hosiery': 22,\n",
    " 'suiting and blazers': 23,\n",
    " 'sweaters': 24,\n",
    " 'swimsuits and cover ups': 25,\n",
    " 'tops and tees': 26}"
   ]
  },
  {
   "cell_type": "markdown",
   "metadata": {},
   "source": [
    "#### Add Column \"Label\" as integer"
   ]
  },
  {
   "cell_type": "code",
   "execution_count": 7,
   "metadata": {},
   "outputs": [],
   "source": [
    "df['label']=df['category'].apply(lambda x: int(c[x]))"
   ]
  },
  {
   "cell_type": "code",
   "execution_count": 8,
   "metadata": {},
   "outputs": [],
   "source": [
    "#Separate Data into X and y:\n",
    "X = np.array(df.sent_embed.tolist())\n",
    "y = df['label']"
   ]
  },
  {
   "cell_type": "code",
   "execution_count": 9,
   "metadata": {},
   "outputs": [
    {
     "data": {
      "text/html": [
       "<div>\n",
       "<style scoped>\n",
       "    .dataframe tbody tr th:only-of-type {\n",
       "        vertical-align: middle;\n",
       "    }\n",
       "\n",
       "    .dataframe tbody tr th {\n",
       "        vertical-align: top;\n",
       "    }\n",
       "\n",
       "    .dataframe thead th {\n",
       "        text-align: right;\n",
       "    }\n",
       "</style>\n",
       "<table border=\"1\" class=\"dataframe\">\n",
       "  <thead>\n",
       "    <tr style=\"text-align: right;\">\n",
       "      <th></th>\n",
       "      <th>brand</th>\n",
       "      <th>category</th>\n",
       "      <th>price</th>\n",
       "      <th>product_name</th>\n",
       "      <th>sent_embed</th>\n",
       "      <th>label</th>\n",
       "    </tr>\n",
       "  </thead>\n",
       "  <tbody>\n",
       "    <tr>\n",
       "      <th>0</th>\n",
       "      <td>TOMS</td>\n",
       "      <td>slippers</td>\n",
       "      <td>21.99</td>\n",
       "      <td>women's classics</td>\n",
       "      <td>[108.656815, -421.33957, -399.15952, -258.4760...</td>\n",
       "      <td>21</td>\n",
       "    </tr>\n",
       "    <tr>\n",
       "      <th>1</th>\n",
       "      <td>Vionic</td>\n",
       "      <td>slippers</td>\n",
       "      <td>59.95</td>\n",
       "      <td>women's relax slipper (size 11/dark grey zebra)</td>\n",
       "      <td>[-137.36092, -454.73022, 114.4631, -349.7854, ...</td>\n",
       "      <td>21</td>\n",
       "    </tr>\n",
       "    <tr>\n",
       "      <th>2</th>\n",
       "      <td>Birkenstock</td>\n",
       "      <td>slippers</td>\n",
       "      <td>89.95</td>\n",
       "      <td>arizona women's birko-flor sandal</td>\n",
       "      <td>[148.54431, -616.3581, 255.00865, -10.907966, ...</td>\n",
       "      <td>21</td>\n",
       "    </tr>\n",
       "    <tr>\n",
       "      <th>3</th>\n",
       "      <td>TOMS</td>\n",
       "      <td>slippers</td>\n",
       "      <td>19.99</td>\n",
       "      <td>men's classic canvas slip-on</td>\n",
       "      <td>[-152.26526, -399.61487, 77.1942, -97.50552, -...</td>\n",
       "      <td>21</td>\n",
       "    </tr>\n",
       "    <tr>\n",
       "      <th>4</th>\n",
       "      <td>ULTRAIDEAS</td>\n",
       "      <td>slippers</td>\n",
       "      <td>19.90</td>\n",
       "      <td>women's comfort memory foam slippers wool-like...</td>\n",
       "      <td>[-98.83656, -181.11006, 93.34331, 85.76828, -2...</td>\n",
       "      <td>21</td>\n",
       "    </tr>\n",
       "  </tbody>\n",
       "</table>\n",
       "</div>"
      ],
      "text/plain": [
       "         brand  category  price  \\\n",
       "0         TOMS  slippers  21.99   \n",
       "1       Vionic  slippers  59.95   \n",
       "2  Birkenstock  slippers  89.95   \n",
       "3         TOMS  slippers  19.99   \n",
       "4   ULTRAIDEAS  slippers  19.90   \n",
       "\n",
       "                                        product_name  \\\n",
       "0                                   women's classics   \n",
       "1    women's relax slipper (size 11/dark grey zebra)   \n",
       "2                  arizona women's birko-flor sandal   \n",
       "3                       men's classic canvas slip-on   \n",
       "4  women's comfort memory foam slippers wool-like...   \n",
       "\n",
       "                                          sent_embed  label  \n",
       "0  [108.656815, -421.33957, -399.15952, -258.4760...     21  \n",
       "1  [-137.36092, -454.73022, 114.4631, -349.7854, ...     21  \n",
       "2  [148.54431, -616.3581, 255.00865, -10.907966, ...     21  \n",
       "3  [-152.26526, -399.61487, 77.1942, -97.50552, -...     21  \n",
       "4  [-98.83656, -181.11006, 93.34331, 85.76828, -2...     21  "
      ]
     },
     "execution_count": 9,
     "metadata": {},
     "output_type": "execute_result"
    }
   ],
   "source": [
    "df.head()"
   ]
  },
  {
   "cell_type": "markdown",
   "metadata": {},
   "source": [
    "### Split Data using train_test_split"
   ]
  },
  {
   "cell_type": "code",
   "execution_count": 10,
   "metadata": {},
   "outputs": [],
   "source": [
    "from sklearn.model_selection import train_test_split\n",
    "X_train,X_test,y_train,y_test = train_test_split(X,y,test_size=0.3)"
   ]
  },
  {
   "cell_type": "markdown",
   "metadata": {},
   "source": [
    "### Instantiate KNN Classifier and find best K Value"
   ]
  },
  {
   "cell_type": "code",
   "execution_count": 47,
   "metadata": {},
   "outputs": [],
   "source": [
    "#Instantiate model\n",
    "from sklearn.neighbors import KNeighborsClassifier"
   ]
  },
  {
   "cell_type": "code",
   "execution_count": 48,
   "metadata": {},
   "outputs": [],
   "source": [
    "error_rate = []\n",
    "for i in range(1,10):\n",
    "    knn = KNeighborsClassifier(n_neighbors =i,n_jobs=-1)\n",
    "    knn.fit(X_train,y_train)\n",
    "    pred_i = knn.predict(X_test)\n",
    "    error_rate.append(np.mean(pred_i != y_test))"
   ]
  },
  {
   "cell_type": "code",
   "execution_count": 32,
   "metadata": {},
   "outputs": [
    {
     "data": {
      "text/plain": [
       "Text(0,0.5,'Error Rate')"
      ]
     },
     "execution_count": 32,
     "metadata": {},
     "output_type": "execute_result"
    },
    {
     "data": {
      "image/png": "[encoded data removed]",
      "text/plain": [
       "<Figure size 720x432 with 1 Axes>"
      ]
     },
     "metadata": {},
     "output_type": "display_data"
    }
   ],
   "source": [
    "import matplotlib.pyplot as plt\n",
    "import seaborn as sns\n",
    "%matplotlib inline\n",
    "plt.figure(figsize=(10,6))\n",
    "plt.plot(range(1,10),error_rate,color='blue',linestyle='dashed',marker='o',markerfacecolor = 'red',markersize=10)\n",
    "plt.title('Error Rate vs K Value')\n",
    "plt.xlabel('K')\n",
    "plt.ylabel('Error Rate')\n"
   ]
  },
  {
   "cell_type": "markdown",
   "metadata": {},
   "source": [
    "### Choose 4 as n_neighbor value and print classification_report"
   ]
  },
  {
   "cell_type": "code",
   "execution_count": 36,
   "metadata": {},
   "outputs": [
    {
     "name": "stdout",
     "output_type": "stream",
     "text": [
      "             precision    recall  f1-score   support\n",
      "\n",
      "          1       0.74      0.79      0.77      3056\n",
      "          2       0.68      0.76      0.72      2966\n",
      "          3       0.82      0.86      0.84      2985\n",
      "          4       0.93      0.93      0.93      2924\n",
      "          5       0.90      0.97      0.94      3005\n",
      "          6       0.94      0.94      0.94      3016\n",
      "          7       0.88      0.84      0.86      2957\n",
      "          8       0.91      0.94      0.93      2980\n",
      "          9       0.97      0.99      0.98      3097\n",
      "         10       0.95      0.97      0.96      3011\n",
      "         11       0.95      0.96      0.95      2872\n",
      "         12       0.95      0.90      0.93      3021\n",
      "         13       0.93      0.93      0.93      2783\n",
      "         14       0.68      0.66      0.67      3021\n",
      "         15       0.94      0.90      0.92      2553\n",
      "         16       0.92      0.91      0.92      2999\n",
      "         17       0.93      0.94      0.94      2988\n",
      "         18       0.88      0.85      0.87      2957\n",
      "         19       0.98      0.96      0.97      3083\n",
      "         20       0.96      0.98      0.97      2990\n",
      "         21       0.97      0.92      0.94      3079\n",
      "         22       0.92      0.91      0.92      2998\n",
      "         23       0.93      0.84      0.88      2993\n",
      "         24       0.94      0.95      0.94      2994\n",
      "         25       0.98      0.97      0.98      2992\n",
      "         26       0.93      0.91      0.92      2964\n",
      "\n",
      "avg / total       0.90      0.90      0.90     77284\n",
      "\n"
     ]
    }
   ],
   "source": [
    "print(classification_report(y_test,pred_4))"
   ]
  },
  {
   "cell_type": "markdown",
   "metadata": {},
   "source": [
    "### Try Random Forest classifier"
   ]
  },
  {
   "cell_type": "code",
   "execution_count": 39,
   "metadata": {},
   "outputs": [],
   "source": [
    "from sklearn.ensemble import RandomForestClassifier"
   ]
  },
  {
   "cell_type": "code",
   "execution_count": 50,
   "metadata": {},
   "outputs": [],
   "source": [
    "forest_model = RandomForestClassifier(n_jobs=2,random_state=0,n_estimators = 20)\n",
    "forest_model.fit(X_train,y_train)"
   ]
  },
  {
   "cell_type": "code",
   "execution_count": 52,
   "metadata": {},
   "outputs": [],
   "source": [
    "predictforest = forest_model.predict(X_test)"
   ]
  },
  {
   "cell_type": "code",
   "execution_count": 47,
   "metadata": {},
   "outputs": [
    {
     "name": "stdout",
     "output_type": "stream",
     "text": [
      "             precision    recall  f1-score   support\n",
      "\n",
      "          1       0.66      0.70      0.68      3056\n",
      "          2       0.64      0.67      0.66      2966\n",
      "          3       0.80      0.80      0.80      2985\n",
      "          4       0.87      0.89      0.88      2924\n",
      "          5       0.87      0.91      0.89      3005\n",
      "          6       0.89      0.90      0.90      3016\n",
      "          7       0.81      0.81      0.81      2957\n",
      "          8       0.88      0.93      0.91      2980\n",
      "          9       0.95      0.95      0.95      3097\n",
      "         10       0.93      0.93      0.93      3011\n",
      "         11       0.90      0.92      0.91      2872\n",
      "         12       0.89      0.89      0.89      3021\n",
      "         13       0.90      0.90      0.90      2783\n",
      "         14       0.63      0.63      0.63      3021\n",
      "         15       0.91      0.86      0.89      2553\n",
      "         16       0.87      0.85      0.86      2999\n",
      "         17       0.93      0.91      0.92      2988\n",
      "         18       0.84      0.82      0.83      2957\n",
      "         19       0.96      0.94      0.95      3083\n",
      "         20       0.94      0.93      0.93      2990\n",
      "         21       0.94      0.90      0.92      3079\n",
      "         22       0.90      0.88      0.89      2998\n",
      "         23       0.84      0.82      0.83      2993\n",
      "         24       0.93      0.91      0.92      2994\n",
      "         25       0.97      0.94      0.95      2992\n",
      "         26       0.88      0.88      0.88      2964\n",
      "\n",
      "avg / total       0.87      0.86      0.87     77284\n",
      "\n"
     ]
    }
   ],
   "source": [
    "print(classification_report(y_test,predictforest)) ### with 10 estimators"
   ]
  },
  {
   "cell_type": "code",
   "execution_count": 53,
   "metadata": {},
   "outputs": [
    {
     "name": "stdout",
     "output_type": "stream",
     "text": [
      "             precision    recall  f1-score   support\n",
      "\n",
      "          1       0.70      0.71      0.71      3056\n",
      "          2       0.68      0.68      0.68      2966\n",
      "          3       0.83      0.82      0.82      2985\n",
      "          4       0.91      0.91      0.91      2924\n",
      "          5       0.91      0.93      0.92      3005\n",
      "          6       0.92      0.93      0.92      3016\n",
      "          7       0.84      0.83      0.84      2957\n",
      "          8       0.91      0.94      0.92      2980\n",
      "          9       0.97      0.96      0.97      3097\n",
      "         10       0.96      0.95      0.95      3011\n",
      "         11       0.93      0.94      0.93      2872\n",
      "         12       0.91      0.90      0.90      3021\n",
      "         13       0.92      0.91      0.92      2783\n",
      "         14       0.65      0.67      0.66      3021\n",
      "         15       0.92      0.89      0.90      2553\n",
      "         16       0.89      0.89      0.89      2999\n",
      "         17       0.94      0.93      0.93      2988\n",
      "         18       0.85      0.85      0.85      2957\n",
      "         19       0.97      0.96      0.96      3083\n",
      "         20       0.95      0.95      0.95      2990\n",
      "         21       0.95      0.93      0.94      3079\n",
      "         22       0.90      0.90      0.90      2998\n",
      "         23       0.86      0.86      0.86      2993\n",
      "         24       0.93      0.93      0.93      2994\n",
      "         25       0.98      0.95      0.97      2992\n",
      "         26       0.88      0.91      0.89      2964\n",
      "\n",
      "avg / total       0.89      0.89      0.89     77284\n",
      "\n"
     ]
    }
   ],
   "source": [
    "print(classification_report(y_test,predictforest)) ### with 20 estimators"
   ]
  },
  {
   "cell_type": "code",
   "execution_count": 11,
   "metadata": {},
   "outputs": [],
   "source": [
    "from sklearn.linear_model import LogisticRegression\n",
    "logmodel = LogisticRegression()\n",
    "logmodel.fit(X_train,y_train)\n",
    "predictions = logmodel.predict(X_test)"
   ]
  },
  {
   "cell_type": "code",
   "execution_count": 14,
   "metadata": {},
   "outputs": [
    {
     "name": "stdout",
     "output_type": "stream",
     "text": [
      "             precision    recall  f1-score   support\n",
      "\n",
      "          1       0.83      0.79      0.81      3101\n",
      "          2       0.82      0.77      0.80      3258\n",
      "          3       0.90      0.87      0.88      3422\n",
      "          4       0.96      0.95      0.95      3279\n",
      "          5       0.94      0.97      0.95      2993\n",
      "          6       0.96      0.96      0.96      3117\n",
      "          7       0.91      0.89      0.90      3048\n",
      "          8       0.93      0.94      0.93      6088\n",
      "          9       0.99      0.98      0.98      3134\n",
      "         10       0.98      0.98      0.98      3266\n",
      "         11       0.96      0.97      0.97      3202\n",
      "         12       0.94      0.94      0.94      3082\n",
      "         13       0.95      0.94      0.94      2708\n",
      "         14       0.74      0.82      0.78      3041\n",
      "         15       0.95      0.91      0.93      2590\n",
      "         16       0.94      0.94      0.94      3315\n",
      "         17       0.94      0.94      0.94      3150\n",
      "         18       0.89      0.89      0.89      2994\n",
      "         19       0.98      0.98      0.98      3272\n",
      "         20       0.97      0.98      0.97      3211\n",
      "         21       0.96      0.95      0.96      3496\n",
      "         22       0.93      0.95      0.94      3339\n",
      "         23       0.93      0.91      0.92      3059\n",
      "         24       0.95      0.98      0.96      2919\n",
      "         25       0.99      0.98      0.98      3095\n",
      "         26       0.93      0.95      0.94      3202\n",
      "\n",
      "avg / total       0.93      0.93      0.93     84381\n",
      "\n"
     ]
    }
   ],
   "source": [
    "print(classification_report(y_test,predictions))"
   ]
  },
  {
   "cell_type": "markdown",
   "metadata": {},
   "source": [
    "### Save model to disk"
   ]
  },
  {
   "cell_type": "code",
   "execution_count": 17,
   "metadata": {},
   "outputs": [],
   "source": [
    "import pickle\n",
    "filename = 'finalized_model.sav'\n",
    "pickle.dump(logmodel, open(filename, 'wb'))"
   ]
  },
  {
   "cell_type": "code",
   "execution_count": null,
   "metadata": {},
   "outputs": [],
   "source": []
  }
 ],
 "metadata": {
  "kernelspec": {
   "display_name": "Python 3",
   "language": "python",
   "name": "python3"
  },
  "language_info": {
   "codemirror_mode": {
    "name": "ipython",
    "version": 3
   },
   "file_extension": ".py",
   "mimetype": "text/x-python",
   "name": "python",
   "nbconvert_exporter": "python",
   "pygments_lexer": "ipython3",
   "version": "3.6.4"
  }
 },
 "nbformat": 4,
 "nbformat_minor": 2
}
