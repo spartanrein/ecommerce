{
 "cells": [
  {
   "cell_type": "markdown",
   "metadata": {},
   "source": [
    "### FastText"
   ]
  },
  {
   "cell_type": "code",
   "execution_count": 66,
   "metadata": {},
   "outputs": [],
   "source": [
    "import pandas as pd\n",
    "import fastText as ft\n",
    "import os\n",
    "from sklearn.utils import shuffle\n",
    "import numpy as np\n",
    "from sklearn.metrics import classification_report \n",
    "from sklearn.metrics import accuracy_score"
   ]
  },
  {
   "cell_type": "code",
   "execution_count": 61,
   "metadata": {},
   "outputs": [
    {
     "data": {
      "text/plain": [
       "(281267, 4)"
      ]
     },
     "execution_count": 61,
     "metadata": {},
     "output_type": "execute_result"
    }
   ],
   "source": [
    "df = pd.read_csv('amazon_data_clean.csv')\n",
    "df.shape"
   ]
  },
  {
   "cell_type": "code",
   "execution_count": 26,
   "metadata": {},
   "outputs": [
    {
     "data": {
      "text/html": [
       "<div>\n",
       "<style scoped>\n",
       "    .dataframe tbody tr th:only-of-type {\n",
       "        vertical-align: middle;\n",
       "    }\n",
       "\n",
       "    .dataframe tbody tr th {\n",
       "        vertical-align: top;\n",
       "    }\n",
       "\n",
       "    .dataframe thead th {\n",
       "        text-align: right;\n",
       "    }\n",
       "</style>\n",
       "<table border=\"1\" class=\"dataframe\">\n",
       "  <thead>\n",
       "    <tr style=\"text-align: right;\">\n",
       "      <th></th>\n",
       "      <th>brand</th>\n",
       "      <th>category</th>\n",
       "      <th>price</th>\n",
       "      <th>product_name</th>\n",
       "    </tr>\n",
       "  </thead>\n",
       "  <tbody>\n",
       "    <tr>\n",
       "      <th>258747</th>\n",
       "      <td>PIYOGA</td>\n",
       "      <td>active</td>\n",
       "      <td>40.00</td>\n",
       "      <td>petite athleisure yoga pants short straight le...</td>\n",
       "    </tr>\n",
       "    <tr>\n",
       "      <th>203431</th>\n",
       "      <td>Campeon</td>\n",
       "      <td>active</td>\n",
       "      <td>15.95</td>\n",
       "      <td>kids skinny soccer pants training sweat sport ...</td>\n",
       "    </tr>\n",
       "    <tr>\n",
       "      <th>122376</th>\n",
       "      <td>Areke</td>\n",
       "      <td>active</td>\n",
       "      <td>19.99</td>\n",
       "      <td>multi performance advanced cushion crew socks ...</td>\n",
       "    </tr>\n",
       "    <tr>\n",
       "      <th>246730</th>\n",
       "      <td>Unitop</td>\n",
       "      <td>active</td>\n",
       "      <td>19.99</td>\n",
       "      <td>quick dry cargo crop hiking pants drawstring</td>\n",
       "    </tr>\n",
       "    <tr>\n",
       "      <th>219716</th>\n",
       "      <td>Leonisa</td>\n",
       "      <td>active</td>\n",
       "      <td>50.00</td>\n",
       "      <td>activelife power lift firm compression highwai...</td>\n",
       "    </tr>\n",
       "    <tr>\n",
       "      <th>210603</th>\n",
       "      <td>Bise</td>\n",
       "      <td>active</td>\n",
       "      <td>14.99</td>\n",
       "      <td>yoga sports bra high active impact support dou...</td>\n",
       "    </tr>\n",
       "    <tr>\n",
       "      <th>264126</th>\n",
       "      <td>NaN</td>\n",
       "      <td>active</td>\n",
       "      <td>14.99</td>\n",
       "      <td>short sleeve athletic dept logo tshirt prime e...</td>\n",
       "    </tr>\n",
       "    <tr>\n",
       "      <th>223904</th>\n",
       "      <td>NaN</td>\n",
       "      <td>active</td>\n",
       "      <td>30.00</td>\n",
       "      <td>swoosh sports bra carbon heatheranthraciteblac...</td>\n",
       "    </tr>\n",
       "    <tr>\n",
       "      <th>213047</th>\n",
       "      <td>NaN</td>\n",
       "      <td>active</td>\n",
       "      <td>29.11</td>\n",
       "      <td>dancer drapey mesh tshirt</td>\n",
       "    </tr>\n",
       "    <tr>\n",
       "      <th>226201</th>\n",
       "      <td>Augusta Sportswear</td>\n",
       "      <td>active</td>\n",
       "      <td>10.33</td>\n",
       "      <td>fanatic tee</td>\n",
       "    </tr>\n",
       "  </tbody>\n",
       "</table>\n",
       "</div>"
      ],
      "text/plain": [
       "                     brand category  price  \\\n",
       "258747              PIYOGA   active  40.00   \n",
       "203431             Campeon   active  15.95   \n",
       "122376               Areke   active  19.99   \n",
       "246730              Unitop   active  19.99   \n",
       "219716             Leonisa   active  50.00   \n",
       "210603                Bise   active  14.99   \n",
       "264126                 NaN   active  14.99   \n",
       "223904                 NaN   active  30.00   \n",
       "213047                 NaN   active  29.11   \n",
       "226201  Augusta Sportswear   active  10.33   \n",
       "\n",
       "                                             product_name  \n",
       "258747  petite athleisure yoga pants short straight le...  \n",
       "203431  kids skinny soccer pants training sweat sport ...  \n",
       "122376  multi performance advanced cushion crew socks ...  \n",
       "246730       quick dry cargo crop hiking pants drawstring  \n",
       "219716  activelife power lift firm compression highwai...  \n",
       "210603  yoga sports bra high active impact support dou...  \n",
       "264126  short sleeve athletic dept logo tshirt prime e...  \n",
       "223904  swoosh sports bra carbon heatheranthraciteblac...  \n",
       "213047                          dancer drapey mesh tshirt  \n",
       "226201                                        fanatic tee  "
      ]
     },
     "execution_count": 26,
     "metadata": {},
     "output_type": "execute_result"
    }
   ],
   "source": [
    "df[df.category=='active'].sample(10)"
   ]
  },
  {
   "cell_type": "code",
   "execution_count": 24,
   "metadata": {},
   "outputs": [
    {
     "data": {
      "text/plain": [
       "flats                              20256\n",
       "slippers                           11658\n",
       "boots                              11174\n",
       "shorts                             10964\n",
       "socks and hosiery                  10932\n",
       "skirts                             10829\n",
       "athletic shoes                     10813\n",
       "coats, jackets and vests           10809\n",
       "tops and tees                      10775\n",
       "pants                              10735\n",
       "jumpsuits, rompers and overalls    10691\n",
       "leggings                           10628\n",
       "pumps                              10592\n",
       "swimsuits and cover ups            10552\n",
       "suiting and blazers                10500\n",
       "fashion hoodies and sweatshirts    10391\n",
       "jeans                              10314\n",
       "lingerie and sleepwear             10293\n",
       "active                             10206\n",
       "dresses                            10188\n",
       "sandals                            10170\n",
       "outdoor shoes                      10112\n",
       "fashion sneakers                   10072\n",
       "sweaters                            9939\n",
       "mules and clogs                     9113\n",
       "oxford shoes                        8561\n",
       "Name: category, dtype: int64"
      ]
     },
     "execution_count": 24,
     "metadata": {},
     "output_type": "execute_result"
    }
   ],
   "source": [
    "df.category.value_counts()"
   ]
  },
  {
   "cell_type": "markdown",
   "metadata": {},
   "source": [
    "### Balance the dataset"
   ]
  },
  {
   "cell_type": "code",
   "execution_count": 3,
   "metadata": {},
   "outputs": [],
   "source": [
    "l = []\n",
    "for i in set(df.category):\n",
    "    #for every unique microtag\n",
    "    temp = df[df.category==i]\n",
    "    #if count>10000, get only 10000 samples\n",
    "    if len(temp)>10000:\n",
    "        l.append(temp.sample(10000))\n",
    "    else: #otherwise, get everything\n",
    "        l.append(temp)\n",
    "df = pd.concat(l)\n",
    "df = df[df.category.notnull()]"
   ]
  },
  {
   "cell_type": "markdown",
   "metadata": {},
   "source": [
    "### Shuffle the dataset"
   ]
  },
  {
   "cell_type": "code",
   "execution_count": 4,
   "metadata": {},
   "outputs": [
    {
     "data": {
      "text/html": [
       "<div>\n",
       "<style scoped>\n",
       "    .dataframe tbody tr th:only-of-type {\n",
       "        vertical-align: middle;\n",
       "    }\n",
       "\n",
       "    .dataframe tbody tr th {\n",
       "        vertical-align: top;\n",
       "    }\n",
       "\n",
       "    .dataframe thead th {\n",
       "        text-align: right;\n",
       "    }\n",
       "</style>\n",
       "<table border=\"1\" class=\"dataframe\">\n",
       "  <thead>\n",
       "    <tr style=\"text-align: right;\">\n",
       "      <th></th>\n",
       "      <th>brand</th>\n",
       "      <th>category</th>\n",
       "      <th>price</th>\n",
       "      <th>product_name</th>\n",
       "    </tr>\n",
       "  </thead>\n",
       "  <tbody>\n",
       "    <tr>\n",
       "      <th>233413</th>\n",
       "      <td>KASCLINO</td>\n",
       "      <td>dresses</td>\n",
       "      <td>9.99</td>\n",
       "      <td>vintage dresswomens summer casual dresses line...</td>\n",
       "    </tr>\n",
       "    <tr>\n",
       "      <th>242142</th>\n",
       "      <td>NaN</td>\n",
       "      <td>coats, jackets and vests</td>\n",
       "      <td>30.80</td>\n",
       "      <td>en pointe satin jacket</td>\n",
       "    </tr>\n",
       "    <tr>\n",
       "      <th>73011</th>\n",
       "      <td>NaN</td>\n",
       "      <td>mules and clogs</td>\n",
       "      <td>104.90</td>\n",
       "      <td>'cinnamon' mary jane clogs womens - copper / c...</td>\n",
       "    </tr>\n",
       "    <tr>\n",
       "      <th>194658</th>\n",
       "      <td>ouxiuli</td>\n",
       "      <td>suiting and blazers</td>\n",
       "      <td>13.87</td>\n",
       "      <td>sleeve one button slim fit blazer jacket</td>\n",
       "    </tr>\n",
       "    <tr>\n",
       "      <th>245557</th>\n",
       "      <td>DOLLY LAMB</td>\n",
       "      <td>coats, jackets and vests</td>\n",
       "      <td>129.99</td>\n",
       "      <td>leather jacket motorcycle biker jacket black c...</td>\n",
       "    </tr>\n",
       "  </tbody>\n",
       "</table>\n",
       "</div>"
      ],
      "text/plain": [
       "             brand                  category   price  \\\n",
       "233413    KASCLINO                   dresses    9.99   \n",
       "242142         NaN  coats, jackets and vests   30.80   \n",
       "73011          NaN           mules and clogs  104.90   \n",
       "194658     ouxiuli       suiting and blazers   13.87   \n",
       "245557  DOLLY LAMB  coats, jackets and vests  129.99   \n",
       "\n",
       "                                             product_name  \n",
       "233413  vintage dresswomens summer casual dresses line...  \n",
       "242142                             en pointe satin jacket  \n",
       "73011   'cinnamon' mary jane clogs womens - copper / c...  \n",
       "194658           sleeve one button slim fit blazer jacket  \n",
       "245557  leather jacket motorcycle biker jacket black c...  "
      ]
     },
     "execution_count": 4,
     "metadata": {},
     "output_type": "execute_result"
    }
   ],
   "source": [
    "df = shuffle(df, random_state = 100)\n",
    "df.head()"
   ]
  },
  {
   "cell_type": "markdown",
   "metadata": {},
   "source": [
    "### Create FastText training.txt"
   ]
  },
  {
   "cell_type": "code",
   "execution_count": null,
   "metadata": {},
   "outputs": [],
   "source": [
    "df['label']  = '__label__'+df.category.apply(lambda x: x.replace(' ','_')+' ')\n",
    "df['label'] = df['label'] + df.product_name\n",
    "df[['label']].to_csv('training_data.txt', header=None, index=None, mode='a')"
   ]
  },
  {
   "cell_type": "code",
   "execution_count": null,
   "metadata": {},
   "outputs": [],
   "source": [
    "train_data = os.path.join(os.getenv(\"DATADIR\", ''), 'training_data.txt')\n",
    "train_data2 = os.path.join(os.getenv(\"DATADIR\", ''), 'training_data_unsupervised.txt')"
   ]
  },
  {
   "cell_type": "markdown",
   "metadata": {},
   "source": [
    "### Train FastText supervised movdel"
   ]
  },
  {
   "cell_type": "code",
   "execution_count": null,
   "metadata": {},
   "outputs": [],
   "source": [
    "model = ft.train_supervised(train_data, epoch=25, lr=1.0, wordNgrams=2, verbose=2, minCount=1)\n",
    "model.save_model(\"amazon_ver2.bin\")\n"
   ]
  },
  {
   "cell_type": "markdown",
   "metadata": {},
   "source": [
    "### Test several product names:"
   ]
  },
  {
   "cell_type": "code",
   "execution_count": null,
   "metadata": {},
   "outputs": [],
   "source": [
    "print(model.predict('purple tshirt'))\n",
    "print(model.predict('reebok sneakers'))\n",
    "print(model.predict('grey cotton sweat pants'))\n",
    "print(model.predict('blue uniqlo jacket'))"
   ]
  },
  {
   "cell_type": "markdown",
   "metadata": {},
   "source": [
    "### Quantize Model and save"
   ]
  },
  {
   "cell_type": "code",
   "execution_count": null,
   "metadata": {},
   "outputs": [],
   "source": [
    "model.quantize(input=train_data, qnorm=True, retrain=True, cutoff=100000)\n",
    "model.save_model(\"amazon.bin\")"
   ]
  },
  {
   "cell_type": "markdown",
   "metadata": {},
   "source": [
    "### Test product names again:"
   ]
  },
  {
   "cell_type": "code",
   "execution_count": null,
   "metadata": {
    "scrolled": true
   },
   "outputs": [],
   "source": [
    "print(model.predict('purple tshirt'))\n",
    "print(model.predict('reebok sneakers'))\n",
    "print(model.predict('grey cotton sweat pants'))\n",
    "print(model.predict(\"Syktkmx Womens Mary Jane Wedges Pumps Ankle Strap Closed Toe Heeled Walking Work Shoes\"))"
   ]
  },
  {
   "cell_type": "markdown",
   "metadata": {},
   "source": [
    "### Get sentence embeddings from FastText\n",
    "#### Add into dataframe as sent_embed"
   ]
  },
  {
   "cell_type": "code",
   "execution_count": 5,
   "metadata": {},
   "outputs": [],
   "source": [
    "model = ft.load_model('amazon.ftz')"
   ]
  },
  {
   "cell_type": "code",
   "execution_count": 6,
   "metadata": {},
   "outputs": [],
   "source": [
    "embed = []\n",
    "for i in df['product_name']:\n",
    "    embed.append(model.get_sentence_vector((str(i))))"
   ]
  },
  {
   "cell_type": "code",
   "execution_count": 7,
   "metadata": {},
   "outputs": [],
   "source": [
    "df['sent_embed'] = embed"
   ]
  },
  {
   "cell_type": "markdown",
   "metadata": {},
   "source": [
    "### Change Labels into integers"
   ]
  },
  {
   "cell_type": "code",
   "execution_count": 8,
   "metadata": {},
   "outputs": [],
   "source": [
    "c ={'active': 1,\n",
    " 'athletic shoes': 2,\n",
    " 'boots': 3,\n",
    " 'coats, jackets and vests': 4,\n",
    " 'dresses': 5,\n",
    " 'fashion hoodies and sweatshirts': 6,\n",
    " 'fashion sneakers': 7,\n",
    " 'flats': 8,\n",
    " 'jeans': 9,\n",
    " 'jumpsuits, rompers and overalls': 10,\n",
    " 'leggings': 11,\n",
    " 'lingerie and sleepwear': 12,\n",
    " 'mules and clogs': 13,\n",
    " 'outdoor shoes': 14,\n",
    " 'oxford shoes': 15,\n",
    " 'pants': 16,\n",
    " 'pumps': 17,\n",
    " 'sandals': 18,\n",
    " 'shorts': 19,\n",
    " 'skirts': 20,\n",
    " 'slippers': 21,\n",
    " 'socks and hosiery': 22,\n",
    " 'suiting and blazers': 23,\n",
    " 'sweaters': 24,\n",
    " 'swimsuits and cover ups': 25,\n",
    " 'tops and tees': 26}"
   ]
  },
  {
   "cell_type": "markdown",
   "metadata": {},
   "source": [
    "#### Add Column \"Label\" as integer"
   ]
  },
  {
   "cell_type": "code",
   "execution_count": 9,
   "metadata": {},
   "outputs": [],
   "source": [
    "df['label']=df['category'].apply(lambda x: int(c[x]))"
   ]
  },
  {
   "cell_type": "code",
   "execution_count": 10,
   "metadata": {},
   "outputs": [],
   "source": [
    "#Separate Data into X and y:\n",
    "X = np.array(df.sent_embed.tolist())\n",
    "y = df['label']"
   ]
  },
  {
   "cell_type": "code",
   "execution_count": 11,
   "metadata": {},
   "outputs": [
    {
     "data": {
      "text/html": [
       "<div>\n",
       "<style scoped>\n",
       "    .dataframe tbody tr th:only-of-type {\n",
       "        vertical-align: middle;\n",
       "    }\n",
       "\n",
       "    .dataframe tbody tr th {\n",
       "        vertical-align: top;\n",
       "    }\n",
       "\n",
       "    .dataframe thead th {\n",
       "        text-align: right;\n",
       "    }\n",
       "</style>\n",
       "<table border=\"1\" class=\"dataframe\">\n",
       "  <thead>\n",
       "    <tr style=\"text-align: right;\">\n",
       "      <th></th>\n",
       "      <th>brand</th>\n",
       "      <th>category</th>\n",
       "      <th>price</th>\n",
       "      <th>product_name</th>\n",
       "      <th>sent_embed</th>\n",
       "      <th>label</th>\n",
       "    </tr>\n",
       "  </thead>\n",
       "  <tbody>\n",
       "    <tr>\n",
       "      <th>233413</th>\n",
       "      <td>KASCLINO</td>\n",
       "      <td>dresses</td>\n",
       "      <td>9.99</td>\n",
       "      <td>vintage dresswomens summer casual dresses line...</td>\n",
       "      <td>[-53.521038, -16.029465, -145.3494, 30.784159,...</td>\n",
       "      <td>5</td>\n",
       "    </tr>\n",
       "    <tr>\n",
       "      <th>242142</th>\n",
       "      <td>NaN</td>\n",
       "      <td>coats, jackets and vests</td>\n",
       "      <td>30.80</td>\n",
       "      <td>en pointe satin jacket</td>\n",
       "      <td>[322.8789, 84.392006, -280.41544, -151.54898, ...</td>\n",
       "      <td>4</td>\n",
       "    </tr>\n",
       "    <tr>\n",
       "      <th>73011</th>\n",
       "      <td>NaN</td>\n",
       "      <td>mules and clogs</td>\n",
       "      <td>104.90</td>\n",
       "      <td>'cinnamon' mary jane clogs womens - copper / c...</td>\n",
       "      <td>[-37.236427, 157.44653, 138.99718, 217.8964, -...</td>\n",
       "      <td>13</td>\n",
       "    </tr>\n",
       "    <tr>\n",
       "      <th>194658</th>\n",
       "      <td>ouxiuli</td>\n",
       "      <td>suiting and blazers</td>\n",
       "      <td>13.87</td>\n",
       "      <td>sleeve one button slim fit blazer jacket</td>\n",
       "      <td>[49.38974, 11.347481, -55.440914, 284.82578, -...</td>\n",
       "      <td>23</td>\n",
       "    </tr>\n",
       "    <tr>\n",
       "      <th>245557</th>\n",
       "      <td>DOLLY LAMB</td>\n",
       "      <td>coats, jackets and vests</td>\n",
       "      <td>129.99</td>\n",
       "      <td>leather jacket motorcycle biker jacket black c...</td>\n",
       "      <td>[-62.573383, 295.50958, 327.38187, 545.0122, 1...</td>\n",
       "      <td>4</td>\n",
       "    </tr>\n",
       "  </tbody>\n",
       "</table>\n",
       "</div>"
      ],
      "text/plain": [
       "             brand                  category   price  \\\n",
       "233413    KASCLINO                   dresses    9.99   \n",
       "242142         NaN  coats, jackets and vests   30.80   \n",
       "73011          NaN           mules and clogs  104.90   \n",
       "194658     ouxiuli       suiting and blazers   13.87   \n",
       "245557  DOLLY LAMB  coats, jackets and vests  129.99   \n",
       "\n",
       "                                             product_name  \\\n",
       "233413  vintage dresswomens summer casual dresses line...   \n",
       "242142                             en pointe satin jacket   \n",
       "73011   'cinnamon' mary jane clogs womens - copper / c...   \n",
       "194658           sleeve one button slim fit blazer jacket   \n",
       "245557  leather jacket motorcycle biker jacket black c...   \n",
       "\n",
       "                                               sent_embed  label  \n",
       "233413  [-53.521038, -16.029465, -145.3494, 30.784159,...      5  \n",
       "242142  [322.8789, 84.392006, -280.41544, -151.54898, ...      4  \n",
       "73011   [-37.236427, 157.44653, 138.99718, 217.8964, -...     13  \n",
       "194658  [49.38974, 11.347481, -55.440914, 284.82578, -...     23  \n",
       "245557  [-62.573383, 295.50958, 327.38187, 545.0122, 1...      4  "
      ]
     },
     "execution_count": 11,
     "metadata": {},
     "output_type": "execute_result"
    }
   ],
   "source": [
    "df.head()"
   ]
  },
  {
   "cell_type": "markdown",
   "metadata": {},
   "source": [
    "### Split Data using train_test_split"
   ]
  },
  {
   "cell_type": "code",
   "execution_count": 12,
   "metadata": {},
   "outputs": [],
   "source": [
    "from sklearn.model_selection import train_test_split\n",
    "X_train,X_test,y_train,y_test = train_test_split(X,y,test_size=0.3)"
   ]
  },
  {
   "cell_type": "markdown",
   "metadata": {},
   "source": [
    "### Instantiate KNN Classifier and find best K Value"
   ]
  },
  {
   "cell_type": "code",
   "execution_count": 13,
   "metadata": {},
   "outputs": [],
   "source": [
    "#Instantiate model\n",
    "from sklearn.neighbors import KNeighborsClassifier"
   ]
  },
  {
   "cell_type": "code",
   "execution_count": null,
   "metadata": {},
   "outputs": [],
   "source": [
    "error_rate = []\n",
    "for i in range(1,20):\n",
    "    knn = KNeighborsClassifier(n_neighbors =i,n_jobs=3)\n",
    "    knn.fit(X_train,y_train)\n",
    "    pred_i = knn.predict(X_test)\n",
    "    error_rate.append(np.mean(pred_i != y_test))"
   ]
  },
  {
   "cell_type": "code",
   "execution_count": null,
   "metadata": {},
   "outputs": [],
   "source": [
    "import matplotlib.pyplot as plt\n",
    "import seaborn as sns\n",
    "%matplotlib inline\n",
    "plt.figure(figsize=(10,6))\n",
    "plt.plot(range(1,10),error_rate,color='blue',linestyle='dashed',marker='o',markerfacecolor = 'red',markersize=10)\n",
    "plt.title('Error Rate vs N_Value')\n",
    "plt.xlabel('K')\n",
    "plt.ylabel('Error Rate')\n"
   ]
  },
  {
   "cell_type": "markdown",
   "metadata": {},
   "source": [
    "### Choose 4 as n_neighbor value and print classification_report"
   ]
  },
  {
   "cell_type": "code",
   "execution_count": 15,
   "metadata": {},
   "outputs": [
    {
     "name": "stdout",
     "output_type": "stream",
     "text": [
      "             precision    recall  f1-score   support\n",
      "\n",
      "          1       0.72      0.79      0.76      2965\n",
      "          2       0.66      0.76      0.71      2971\n",
      "          3       0.80      0.85      0.83      2990\n",
      "          4       0.92      0.92      0.92      2934\n",
      "          5       0.89      0.98      0.93      3014\n",
      "          6       0.93      0.94      0.94      2996\n",
      "          7       0.88      0.83      0.85      2989\n",
      "          8       0.90      0.91      0.90      2923\n",
      "          9       0.96      0.98      0.97      3072\n",
      "         10       0.96      0.97      0.97      2984\n",
      "         11       0.94      0.95      0.95      2979\n",
      "         12       0.94      0.91      0.92      3026\n",
      "         13       0.93      0.93      0.93      2767\n",
      "         14       0.68      0.65      0.67      3060\n",
      "         15       0.94      0.89      0.91      2568\n",
      "         16       0.92      0.90      0.91      2961\n",
      "         17       0.93      0.94      0.93      2982\n",
      "         18       0.88      0.84      0.86      3057\n",
      "         19       0.98      0.97      0.97      3053\n",
      "         20       0.95      0.97      0.96      2972\n",
      "         21       0.96      0.92      0.94      2969\n",
      "         22       0.94      0.90      0.92      3061\n",
      "         23       0.94      0.82      0.88      3034\n",
      "         24       0.94      0.95      0.95      2931\n",
      "         25       0.99      0.97      0.98      2981\n",
      "         26       0.92      0.90      0.91      3045\n",
      "\n",
      "avg / total       0.90      0.90      0.90     77284\n",
      "\n"
     ]
    }
   ],
   "source": [
    "knn = KNeighborsClassifier(n_neighbors =4,n_jobs=3)\n",
    "knn.fit(X_train,y_train)\n",
    "pred_i = knn.predict(X_test)\n",
    "\n",
    "print(classification_report(y_test,pred_i))"
   ]
  },
  {
   "cell_type": "code",
   "execution_count": 67,
   "metadata": {},
   "outputs": [
    {
     "name": "stdout",
     "output_type": "stream",
     "text": [
      "0.8976372858547694\n"
     ]
    }
   ],
   "source": [
    "print(accuracy_score(y_test, pred_i))"
   ]
  },
  {
   "cell_type": "markdown",
   "metadata": {},
   "source": [
    "### Try Random Forest classifier"
   ]
  },
  {
   "cell_type": "code",
   "execution_count": 34,
   "metadata": {},
   "outputs": [],
   "source": [
    "from sklearn.ensemble import RandomForestClassifier"
   ]
  },
  {
   "cell_type": "code",
   "execution_count": 45,
   "metadata": {},
   "outputs": [
    {
     "data": {
      "text/plain": [
       "RandomForestClassifier(bootstrap=True, class_weight=None, criterion='gini',\n",
       "            max_depth=None, max_features='auto', max_leaf_nodes=None,\n",
       "            min_impurity_decrease=0.0, min_impurity_split=None,\n",
       "            min_samples_leaf=1, min_samples_split=2,\n",
       "            min_weight_fraction_leaf=0.0, n_estimators=30, n_jobs=2,\n",
       "            oob_score=False, random_state=0, verbose=0, warm_start=False)"
      ]
     },
     "execution_count": 45,
     "metadata": {},
     "output_type": "execute_result"
    }
   ],
   "source": [
    "forest_model = RandomForestClassifier(n_jobs=2,random_state=0,n_estimators = 30)\n",
    "forest_model.fit(X_train,y_train)"
   ]
  },
  {
   "cell_type": "code",
   "execution_count": 47,
   "metadata": {},
   "outputs": [],
   "source": [
    "predictforest = forest_model.predict(X_test)"
   ]
  },
  {
   "cell_type": "code",
   "execution_count": 37,
   "metadata": {},
   "outputs": [
    {
     "name": "stdout",
     "output_type": "stream",
     "text": [
      "0.8817995962941877\n"
     ]
    }
   ],
   "source": [
    "print(accuracy_score(y_test,predictforest))"
   ]
  },
  {
   "cell_type": "code",
   "execution_count": 48,
   "metadata": {},
   "outputs": [
    {
     "name": "stdout",
     "output_type": "stream",
     "text": [
      "             precision    recall  f1-score   support\n",
      "\n",
      "          1       0.70      0.71      0.71      2965\n",
      "          2       0.68      0.67      0.67      2971\n",
      "          3       0.82      0.80      0.81      2990\n",
      "          4       0.92      0.91      0.92      2934\n",
      "          5       0.91      0.94      0.92      3014\n",
      "          6       0.93      0.93      0.93      2996\n",
      "          7       0.84      0.84      0.84      2989\n",
      "          8       0.90      0.90      0.90      2923\n",
      "          9       0.97      0.97      0.97      3072\n",
      "         10       0.97      0.96      0.96      2984\n",
      "         11       0.93      0.95      0.94      2979\n",
      "         12       0.91      0.91      0.91      3026\n",
      "         13       0.94      0.91      0.93      2767\n",
      "         14       0.65      0.67      0.66      3060\n",
      "         15       0.93      0.91      0.92      2568\n",
      "         16       0.89      0.90      0.89      2961\n",
      "         17       0.93      0.93      0.93      2982\n",
      "         18       0.84      0.85      0.85      3057\n",
      "         19       0.97      0.96      0.97      3053\n",
      "         20       0.95      0.95      0.95      2972\n",
      "         21       0.94      0.93      0.94      2969\n",
      "         22       0.91      0.90      0.90      3061\n",
      "         23       0.88      0.86      0.87      3034\n",
      "         24       0.94      0.94      0.94      2931\n",
      "         25       0.98      0.96      0.97      2981\n",
      "         26       0.89      0.91      0.90      3045\n",
      "\n",
      "avg / total       0.89      0.89      0.89     77284\n",
      "\n"
     ]
    }
   ],
   "source": [
    "print(classification_report(y_test,predictforest)) ### with 10 estimators"
   ]
  },
  {
   "cell_type": "code",
   "execution_count": 39,
   "metadata": {},
   "outputs": [
    {
     "name": "stdout",
     "output_type": "stream",
     "text": [
      "             precision    recall  f1-score   support\n",
      "\n",
      "          1       0.69      0.70      0.70      2965\n",
      "          2       0.67      0.66      0.67      2971\n",
      "          3       0.81      0.80      0.81      2990\n",
      "          4       0.91      0.91      0.91      2934\n",
      "          5       0.89      0.94      0.92      3014\n",
      "          6       0.93      0.93      0.93      2996\n",
      "          7       0.84      0.83      0.83      2989\n",
      "          8       0.89      0.91      0.90      2923\n",
      "          9       0.96      0.97      0.97      3072\n",
      "         10       0.96      0.95      0.96      2984\n",
      "         11       0.92      0.94      0.93      2979\n",
      "         12       0.91      0.91      0.91      3026\n",
      "         13       0.93      0.91      0.92      2767\n",
      "         14       0.64      0.66      0.65      3060\n",
      "         15       0.92      0.89      0.91      2568\n",
      "         16       0.88      0.89      0.89      2961\n",
      "         17       0.93      0.92      0.92      2982\n",
      "         18       0.84      0.84      0.84      3057\n",
      "         19       0.97      0.96      0.96      3053\n",
      "         20       0.95      0.95      0.95      2972\n",
      "         21       0.94      0.93      0.93      2969\n",
      "         22       0.90      0.89      0.90      3061\n",
      "         23       0.87      0.85      0.86      3034\n",
      "         24       0.94      0.93      0.93      2931\n",
      "         25       0.98      0.96      0.97      2981\n",
      "         26       0.88      0.90      0.89      3045\n",
      "\n",
      "avg / total       0.88      0.88      0.88     77284\n",
      "\n"
     ]
    }
   ],
   "source": [
    "print(classification_report(y_test,predictforest)) ### with 20 estimators"
   ]
  },
  {
   "cell_type": "markdown",
   "metadata": {},
   "source": [
    "### Try Logistic Regression"
   ]
  },
  {
   "cell_type": "code",
   "execution_count": 31,
   "metadata": {},
   "outputs": [],
   "source": [
    "logmodel = LogisticRegression()\n",
    "logmodel.fit(X_train,y_train)\n",
    "predictions = logmodel.predict(X_test)"
   ]
  },
  {
   "cell_type": "code",
   "execution_count": 32,
   "metadata": {},
   "outputs": [
    {
     "name": "stdout",
     "output_type": "stream",
     "text": [
      "0.9299984472853372\n"
     ]
    }
   ],
   "source": [
    "from sklearn.metrics import accuracy_score\n",
    "print(accuracy_score(y_test,predictions))"
   ]
  },
  {
   "cell_type": "code",
   "execution_count": 33,
   "metadata": {},
   "outputs": [
    {
     "name": "stdout",
     "output_type": "stream",
     "text": [
      "             precision    recall  f1-score   support\n",
      "\n",
      "          1       0.85      0.81      0.83      2965\n",
      "          2       0.81      0.77      0.79      2971\n",
      "          3       0.89      0.87      0.88      2990\n",
      "          4       0.96      0.94      0.95      2934\n",
      "          5       0.95      0.97      0.96      3014\n",
      "          6       0.96      0.96      0.96      2996\n",
      "          7       0.91      0.89      0.90      2989\n",
      "          8       0.86      0.95      0.90      2923\n",
      "          9       0.98      0.98      0.98      3072\n",
      "         10       0.98      0.98      0.98      2984\n",
      "         11       0.96      0.98      0.97      2979\n",
      "         12       0.95      0.94      0.95      3026\n",
      "         13       0.96      0.94      0.95      2767\n",
      "         14       0.75      0.82      0.79      3060\n",
      "         15       0.96      0.92      0.94      2568\n",
      "         16       0.94      0.94      0.94      2961\n",
      "         17       0.96      0.95      0.95      2982\n",
      "         18       0.91      0.88      0.90      3057\n",
      "         19       0.98      0.99      0.98      3053\n",
      "         20       0.96      0.98      0.97      2972\n",
      "         21       0.96      0.96      0.96      2969\n",
      "         22       0.93      0.95      0.94      3061\n",
      "         23       0.94      0.90      0.92      3034\n",
      "         24       0.96      0.97      0.96      2931\n",
      "         25       0.99      0.98      0.98      2981\n",
      "         26       0.93      0.95      0.94      3045\n",
      "\n",
      "avg / total       0.93      0.93      0.93     77284\n",
      "\n"
     ]
    }
   ],
   "source": [
    "print(classification_report(y_test,predictions))"
   ]
  },
  {
   "cell_type": "markdown",
   "metadata": {},
   "source": [
    "### Try SVC"
   ]
  },
  {
   "cell_type": "code",
   "execution_count": 49,
   "metadata": {},
   "outputs": [
    {
     "data": {
      "text/plain": [
       "LinearSVC(C=1.0, class_weight=None, dual=True, fit_intercept=True,\n",
       "     intercept_scaling=1, loss='squared_hinge', max_iter=1000,\n",
       "     multi_class='ovr', penalty='l2', random_state=None, tol=0.0001,\n",
       "     verbose=0)"
      ]
     },
     "execution_count": 49,
     "metadata": {},
     "output_type": "execute_result"
    }
   ],
   "source": [
    "from sklearn.svm import LinearSVC\n",
    "svcmodel = LinearSVC()\n",
    "svcmodel.fit(X_train,y_train)"
   ]
  },
  {
   "cell_type": "code",
   "execution_count": 51,
   "metadata": {},
   "outputs": [
    {
     "name": "stdout",
     "output_type": "stream",
     "text": [
      "             precision    recall  f1-score   support\n",
      "\n",
      "          1       0.87      0.55      0.67      2965\n",
      "          2       0.69      0.74      0.72      2971\n",
      "          3       0.71      0.93      0.81      2990\n",
      "          4       0.91      0.94      0.93      2934\n",
      "          5       0.68      0.98      0.81      3014\n",
      "          6       0.93      0.91      0.92      2996\n",
      "          7       0.93      0.75      0.83      2989\n",
      "          8       0.92      0.88      0.90      2923\n",
      "          9       0.98      0.97      0.97      3072\n",
      "         10       0.99      0.92      0.95      2984\n",
      "         11       0.89      0.97      0.93      2979\n",
      "         12       0.95      0.83      0.89      3026\n",
      "         13       0.97      0.85      0.90      2767\n",
      "         14       0.72      0.65      0.68      3060\n",
      "         15       0.92      0.89      0.90      2568\n",
      "         16       0.92      0.86      0.89      2961\n",
      "         17       0.78      0.98      0.87      2982\n",
      "         18       0.91      0.82      0.86      3057\n",
      "         19       0.94      0.97      0.96      3053\n",
      "         20       0.91      0.99      0.95      2972\n",
      "         21       0.96      0.92      0.94      2969\n",
      "         22       0.92      0.94      0.93      3061\n",
      "         23       0.96      0.46      0.62      3034\n",
      "         24       0.91      0.96      0.94      2931\n",
      "         25       0.95      0.98      0.97      2981\n",
      "         26       0.74      0.98      0.84      3045\n",
      "\n",
      "avg / total       0.88      0.87      0.87     77284\n",
      "\n"
     ]
    }
   ],
   "source": [
    "predsvc = svcmodel.predict(X_test)\n",
    "print(classification_report(y_test,predsvc))"
   ]
  },
  {
   "cell_type": "code",
   "execution_count": 68,
   "metadata": {},
   "outputs": [
    {
     "name": "stdout",
     "output_type": "stream",
     "text": [
      "0.8704518399668755\n"
     ]
    }
   ],
   "source": [
    "print(accuracy_score(y_test, predsvc))"
   ]
  },
  {
   "cell_type": "markdown",
   "metadata": {},
   "source": [
    "### Try AdaBoost"
   ]
  },
  {
   "cell_type": "code",
   "execution_count": 56,
   "metadata": {},
   "outputs": [
    {
     "data": {
      "text/plain": [
       "AdaBoostClassifier(algorithm='SAMME.R', base_estimator=None,\n",
       "          learning_rate=1.0, n_estimators=50, random_state=None)"
      ]
     },
     "execution_count": 56,
     "metadata": {},
     "output_type": "execute_result"
    }
   ],
   "source": [
    "from sklearn.ensemble import AdaBoostClassifier\n",
    "ada = AdaBoostClassifier()\n",
    "ada.fit(X_train,y_train)"
   ]
  },
  {
   "cell_type": "code",
   "execution_count": 58,
   "metadata": {},
   "outputs": [
    {
     "name": "stdout",
     "output_type": "stream",
     "text": [
      "             precision    recall  f1-score   support\n",
      "\n",
      "          1       0.72      0.68      0.70      2965\n",
      "          2       0.70      0.68      0.69      2971\n",
      "          3       0.76      0.77      0.76      2990\n",
      "          4       0.88      0.89      0.88      2934\n",
      "          5       0.86      0.87      0.87      3014\n",
      "          6       0.90      0.85      0.88      2996\n",
      "          7       0.83      0.82      0.82      2989\n",
      "          8       0.81      0.78      0.80      2923\n",
      "          9       0.95      0.94      0.94      3072\n",
      "         10       0.93      0.91      0.92      2984\n",
      "         11       0.85      0.82      0.84      2979\n",
      "         12       0.85      0.92      0.88      3026\n",
      "         13       0.86      0.86      0.86      2767\n",
      "         14       0.68      0.64      0.66      3060\n",
      "         15       0.85      0.89      0.87      2568\n",
      "         16       0.83      0.83      0.83      2961\n",
      "         17       0.86      0.89      0.87      2982\n",
      "         18       0.80      0.83      0.81      3057\n",
      "         19       0.93      0.93      0.93      3053\n",
      "         20       0.93      0.92      0.93      2972\n",
      "         21       0.83      0.85      0.84      2969\n",
      "         22       0.88      0.87      0.88      3061\n",
      "         23       0.84      0.84      0.84      3034\n",
      "         24       0.91      0.90      0.90      2931\n",
      "         25       0.96      0.94      0.95      2981\n",
      "         26       0.82      0.87      0.85      3045\n",
      "\n",
      "avg / total       0.85      0.85      0.85     77284\n",
      "\n"
     ]
    }
   ],
   "source": [
    "predAda = ada.predict(X_test)\n",
    "print(classification_report(y_test,predAda))"
   ]
  },
  {
   "cell_type": "code",
   "execution_count": 69,
   "metadata": {},
   "outputs": [
    {
     "name": "stdout",
     "output_type": "stream",
     "text": [
      "0.8460224626054552\n"
     ]
    }
   ],
   "source": [
    "print(accuracy_score(y_test, predAda))"
   ]
  },
  {
   "cell_type": "markdown",
   "metadata": {},
   "source": [
    "### Save model to disk"
   ]
  },
  {
   "cell_type": "code",
   "execution_count": 60,
   "metadata": {},
   "outputs": [],
   "source": [
    "import pickle\n",
    "filename = 'ada_fasttext.sav'\n",
    "pickle.dump(ada, open(filename, 'wb'))"
   ]
  },
  {
   "cell_type": "code",
   "execution_count": 30,
   "metadata": {},
   "outputs": [
    {
     "name": "stdout",
     "output_type": "stream",
     "text": [
      "0.9299984472853372\n"
     ]
    }
   ],
   "source": [
    "logmodel = pickle.load(open('finalized_model.sav', 'rb'))\n",
    "result = loaded_model.score(X_test, y_test)\n",
    "print(result)"
   ]
  }
 ],
 "metadata": {
  "kernelspec": {
   "display_name": "Python 3",
   "language": "python",
   "name": "python3"
  },
  "language_info": {
   "codemirror_mode": {
    "name": "ipython",
    "version": 3
   },
   "file_extension": ".py",
   "mimetype": "text/x-python",
   "name": "python",
   "nbconvert_exporter": "python",
   "pygments_lexer": "ipython3",
   "version": "3.6.4"
  }
 },
 "nbformat": 4,
 "nbformat_minor": 2
}
