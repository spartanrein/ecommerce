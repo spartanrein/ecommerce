{
 "cells": [
  {
   "cell_type": "code",
   "execution_count": 18,
   "metadata": {},
   "outputs": [],
   "source": [
    "import pickle\n",
    "import fastText as ft\n",
    "import numpy as np"
   ]
  },
  {
   "cell_type": "markdown",
   "metadata": {},
   "source": [
    "### Load Models"
   ]
  },
  {
   "cell_type": "code",
   "execution_count": 7,
   "metadata": {},
   "outputs": [],
   "source": [
    "model = pickle.load(open('finalized_model.sav', 'rb'))\n",
    "ft_model = ft.load_model('amazon.ftz')"
   ]
  },
  {
   "cell_type": "markdown",
   "metadata": {},
   "source": [
    "### Classifier function"
   ]
  },
  {
   "cell_type": "code",
   "execution_count": 70,
   "metadata": {},
   "outputs": [],
   "source": [
    "def classify_label(pname):\n",
    "    labels={1:'active',\n",
    "            2:'athletic shoes',\n",
    "            3:'boots',\n",
    "            4:'coats, jackets and vests',\n",
    "            5:'dresses',\n",
    "            6:'fashion hoodies and sweatshirts',\n",
    "            7:'fashion sneakers',\n",
    "            8:'flats',\n",
    "            9:'jeans',\n",
    "            10:'jumpsuits, rompers and overalls',\n",
    "            11:'leggings',\n",
    "            12:'lingerie and sleepwear',\n",
    "            13:'mules and clogs',\n",
    "            14:'outdoor shoes',\n",
    "            15:'oxford shoes',\n",
    "            16:'pants',\n",
    "            17:'pumps',\n",
    "            18:'sandals',\n",
    "            19:'shorts',\n",
    "            20:'skirts',\n",
    "            21:'slippers',\n",
    "            22:'socks and hosiery',\n",
    "            23:'suiting and blazers',\n",
    "            24:'sweaters',\n",
    "            25:'swimsuits and cover ups',\n",
    "            26:'tops and tees'}\n",
    "    X = ft_model.get_sentence_vector(pname.lower())\n",
    "    X = X.reshape(1,-1)\n",
    "    return labels[model.predict(X)[0]]\n",
    "   \n",
    "    "
   ]
  },
  {
   "cell_type": "code",
   "execution_count": 93,
   "metadata": {},
   "outputs": [
    {
     "data": {
      "text/plain": [
       "'pants'"
      ]
     },
     "execution_count": 93,
     "metadata": {},
     "output_type": "execute_result"
    }
   ],
   "source": [
    "classify_label(\"lounge joggers\")\n",
    "    "
   ]
  },
  {
   "cell_type": "code",
   "execution_count": null,
   "metadata": {},
   "outputs": [],
   "source": []
  }
 ],
 "metadata": {
  "kernelspec": {
   "display_name": "Python 3",
   "language": "python",
   "name": "python3"
  },
  "language_info": {
   "codemirror_mode": {
    "name": "ipython",
    "version": 3
   },
   "file_extension": ".py",
   "mimetype": "text/x-python",
   "name": "python",
   "nbconvert_exporter": "python",
   "pygments_lexer": "ipython3",
   "version": "3.6.4"
  }
 },
 "nbformat": 4,
 "nbformat_minor": 2
}
