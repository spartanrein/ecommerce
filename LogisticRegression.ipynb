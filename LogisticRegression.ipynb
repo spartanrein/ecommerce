{
 "cells": [
  {
   "cell_type": "code",
   "execution_count": 24,
   "metadata": {},
   "outputs": [],
   "source": []
  },
  {
   "cell_type": "code",
   "execution_count": 25,
   "metadata": {},
   "outputs": [],
   "source": [
    "df = pd.read_csv('amazon_embeddings_ver2.csv')"
   ]
  },
  {
   "cell_type": "code",
   "execution_count": 47,
   "metadata": {},
   "outputs": [
    {
     "data": {
      "text/plain": [
       "array([-201.85323  , -127.87654  ,    0.8215461,  323.24844  ,\n",
       "         37.54238  ,  -10.183402 ,  314.31488  ,   28.553373 ,\n",
       "       -240.66396  ,   59.952034 ,   64.21848  ,    3.6568701,\n",
       "        -97.29615  , -121.9531   ,   46.943295 ,  198.84476  ,\n",
       "        163.58476  ,  360.52655  , -131.89943  ,   12.404444 ,\n",
       "         77.6637   ,  -88.21834  ,   61.51741  ,  446.2737   ,\n",
       "       -295.50754  ,  159.55054  , -191.6503   ,  324.11264  ,\n",
       "         11.309531 ,  -79.96893  ,  113.12171  ,  176.6794   ,\n",
       "        -76.45167  , -390.77454  ,  292.93588  ,   31.238512 ,\n",
       "       -194.54532  ,  -10.719238 ,  111.737114 ,  -57.037914 ,\n",
       "        115.68773  ,  218.70512  ,  -50.89314  ,  235.22255  ,\n",
       "        -19.74558  ,  -19.88061  , -260.70874  ,  380.40244  ,\n",
       "        157.2619   , -198.53755  ,   90.144684 ,   15.4525585,\n",
       "        365.34906  ,   57.966225 ,  -61.849308 ,   46.90896  ,\n",
       "        113.26664  ,   31.430847 , -259.13162  ,  -69.60299  ,\n",
       "        -16.375183 ,  116.55424  ,  176.92862  ,  -59.035233 ,\n",
       "        218.82094  ,  118.72871  , -239.7106   ,   50.208706 ,\n",
       "         32.31335  ,  377.24524  ,  251.41647  ,    7.309323 ,\n",
       "         98.748024 ,  214.94536  ,  140.36237  ,  195.66585  ,\n",
       "        -49.623035 , -252.43562  , -173.96368  ,  168.52322  ,\n",
       "        -98.75511  ,   79.62384  ,   29.869276 ,   -5.6692395,\n",
       "       -203.54576  ,  159.16655  ,   36.556126 , -236.42139  ,\n",
       "        181.88571  ,  100.948715 ,  -68.89804  ,  322.47903  ,\n",
       "         42.398415 ,  249.21248  ,  -18.57405  , -239.84714  ,\n",
       "        198.51888  ,  196.15598  ,  -50.290047 , -397.66974  ],\n",
       "      dtype=float32)"
      ]
     },
     "execution_count": 47,
     "metadata": {},
     "output_type": "execute_result"
    }
   ],
   "source": [
    "for i in np.load"
   ]
  },
  {
   "cell_type": "code",
   "execution_count": 48,
   "metadata": {},
   "outputs": [
    {
     "data": {
      "text/plain": [
       "0        -201.853226\n",
       "1           7.208981\n",
       "2          39.894939\n",
       "3          40.052521\n",
       "4          41.039989\n",
       "5          -1.404634\n",
       "6        -162.979919\n",
       "7         310.199829\n",
       "8          98.109604\n",
       "9        -152.868408\n",
       "10        104.051537\n",
       "11         12.128976\n",
       "12       -204.000885\n",
       "13        -87.918503\n",
       "14       -291.342804\n",
       "15       -131.386810\n",
       "16       -140.081985\n",
       "17        -38.113525\n",
       "18       -426.878998\n",
       "19        258.412842\n",
       "20       -168.405472\n",
       "21       -232.818848\n",
       "22        297.513367\n",
       "23         41.906914\n",
       "24       -167.605179\n",
       "25        234.576645\n",
       "26       -198.035492\n",
       "27        -34.984352\n",
       "28         10.754060\n",
       "29       -147.472168\n",
       "             ...    \n",
       "257583   -288.537567\n",
       "257584    111.340225\n",
       "257585    139.535294\n",
       "257586   -114.865509\n",
       "257587    233.394638\n",
       "257588    153.502808\n",
       "257589    176.362396\n",
       "257590    -93.714005\n",
       "257591   -224.341431\n",
       "257592    153.955566\n",
       "257593   -117.767685\n",
       "257594     34.868244\n",
       "257595    152.708115\n",
       "257596   -121.585983\n",
       "257597    -84.979431\n",
       "257598     -8.784233\n",
       "257599    -92.378479\n",
       "257600    108.734894\n",
       "257601    171.882675\n",
       "257602      5.251507\n",
       "257603    -40.883797\n",
       "257604   -122.825455\n",
       "257605    270.919159\n",
       "257606   -148.850296\n",
       "257607   -385.733185\n",
       "257608   -272.940063\n",
       "257609   -122.464531\n",
       "257610   -298.904938\n",
       "257611     35.392361\n",
       "257612   -136.785385\n",
       "Name: sent_embed, Length: 257613, dtype: float32"
      ]
     },
     "execution_count": 48,
     "metadata": {},
     "output_type": "execute_result"
    }
   ],
   "source": [
    "df['sent_embed']"
   ]
  },
  {
   "cell_type": "code",
   "execution_count": 36,
   "metadata": {},
   "outputs": [],
   "source": []
  },
  {
   "cell_type": "code",
   "execution_count": 37,
   "metadata": {},
   "outputs": [],
   "source": []
  },
  {
   "cell_type": "code",
   "execution_count": 38,
   "metadata": {},
   "outputs": [
    {
     "ename": "ValueError",
     "evalue": "Expected 2D array, got 1D array instead:\narray=[  45.80596542 -179.49000549  -11.69349098 ... -124.45837402 -234.19329834\n    5.96096373].\nReshape your data either using array.reshape(-1, 1) if your data has a single feature or array.reshape(1, -1) if it contains a single sample.",
     "output_type": "error",
     "traceback": [
      "\u001b[1;31m---------------------------------------------------------------------------\u001b[0m",
      "\u001b[1;31mValueError\u001b[0m                                Traceback (most recent call last)",
      "\u001b[1;32m<ipython-input-38-6633bbb462de>\u001b[0m in \u001b[0;36m<module>\u001b[1;34m()\u001b[0m\n\u001b[0;32m      1\u001b[0m \u001b[1;31m#Instantiate model\u001b[0m\u001b[1;33m\u001b[0m\u001b[1;33m\u001b[0m\u001b[0m\n\u001b[0;32m      2\u001b[0m \u001b[0mlogmodel\u001b[0m \u001b[1;33m=\u001b[0m \u001b[0mLogisticRegression\u001b[0m\u001b[1;33m(\u001b[0m\u001b[1;33m)\u001b[0m\u001b[1;33m\u001b[0m\u001b[0m\n\u001b[1;32m----> 3\u001b[1;33m \u001b[0mlogmodel\u001b[0m\u001b[1;33m.\u001b[0m\u001b[0mfit\u001b[0m\u001b[1;33m(\u001b[0m\u001b[0mX_train\u001b[0m\u001b[1;33m,\u001b[0m\u001b[0my_train\u001b[0m\u001b[1;33m)\u001b[0m\u001b[1;33m\u001b[0m\u001b[0m\n\u001b[0m\u001b[0;32m      4\u001b[0m \u001b[0mpredictions\u001b[0m \u001b[1;33m=\u001b[0m \u001b[0mlogmodel\u001b[0m\u001b[1;33m.\u001b[0m\u001b[0mpredict\u001b[0m\u001b[1;33m(\u001b[0m\u001b[1;33m)\u001b[0m\u001b[1;33m\u001b[0m\u001b[0m\n",
      "\u001b[1;32mc:\\Anaconda3\\lib\\site-packages\\sklearn\\linear_model\\logistic.py\u001b[0m in \u001b[0;36mfit\u001b[1;34m(self, X, y, sample_weight)\u001b[0m\n\u001b[0;32m   1214\u001b[0m \u001b[1;33m\u001b[0m\u001b[0m\n\u001b[0;32m   1215\u001b[0m         X, y = check_X_y(X, y, accept_sparse='csr', dtype=_dtype,\n\u001b[1;32m-> 1216\u001b[1;33m                          order=\"C\")\n\u001b[0m\u001b[0;32m   1217\u001b[0m         \u001b[0mcheck_classification_targets\u001b[0m\u001b[1;33m(\u001b[0m\u001b[0my\u001b[0m\u001b[1;33m)\u001b[0m\u001b[1;33m\u001b[0m\u001b[0m\n\u001b[0;32m   1218\u001b[0m         \u001b[0mself\u001b[0m\u001b[1;33m.\u001b[0m\u001b[0mclasses_\u001b[0m \u001b[1;33m=\u001b[0m \u001b[0mnp\u001b[0m\u001b[1;33m.\u001b[0m\u001b[0munique\u001b[0m\u001b[1;33m(\u001b[0m\u001b[0my\u001b[0m\u001b[1;33m)\u001b[0m\u001b[1;33m\u001b[0m\u001b[0m\n",
      "\u001b[1;32mc:\\Anaconda3\\lib\\site-packages\\sklearn\\utils\\validation.py\u001b[0m in \u001b[0;36mcheck_X_y\u001b[1;34m(X, y, accept_sparse, dtype, order, copy, force_all_finite, ensure_2d, allow_nd, multi_output, ensure_min_samples, ensure_min_features, y_numeric, warn_on_dtype, estimator)\u001b[0m\n\u001b[0;32m    571\u001b[0m     X = check_array(X, accept_sparse, dtype, order, copy, force_all_finite,\n\u001b[0;32m    572\u001b[0m                     \u001b[0mensure_2d\u001b[0m\u001b[1;33m,\u001b[0m \u001b[0mallow_nd\u001b[0m\u001b[1;33m,\u001b[0m \u001b[0mensure_min_samples\u001b[0m\u001b[1;33m,\u001b[0m\u001b[1;33m\u001b[0m\u001b[0m\n\u001b[1;32m--> 573\u001b[1;33m                     ensure_min_features, warn_on_dtype, estimator)\n\u001b[0m\u001b[0;32m    574\u001b[0m     \u001b[1;32mif\u001b[0m \u001b[0mmulti_output\u001b[0m\u001b[1;33m:\u001b[0m\u001b[1;33m\u001b[0m\u001b[0m\n\u001b[0;32m    575\u001b[0m         y = check_array(y, 'csr', force_all_finite=True, ensure_2d=False,\n",
      "\u001b[1;32mc:\\Anaconda3\\lib\\site-packages\\sklearn\\utils\\validation.py\u001b[0m in \u001b[0;36mcheck_array\u001b[1;34m(array, accept_sparse, dtype, order, copy, force_all_finite, ensure_2d, allow_nd, ensure_min_samples, ensure_min_features, warn_on_dtype, estimator)\u001b[0m\n\u001b[0;32m    439\u001b[0m                     \u001b[1;34m\"Reshape your data either using array.reshape(-1, 1) if \"\u001b[0m\u001b[1;33m\u001b[0m\u001b[0m\n\u001b[0;32m    440\u001b[0m                     \u001b[1;34m\"your data has a single feature or array.reshape(1, -1) \"\u001b[0m\u001b[1;33m\u001b[0m\u001b[0m\n\u001b[1;32m--> 441\u001b[1;33m                     \"if it contains a single sample.\".format(array))\n\u001b[0m\u001b[0;32m    442\u001b[0m             \u001b[0marray\u001b[0m \u001b[1;33m=\u001b[0m \u001b[0mnp\u001b[0m\u001b[1;33m.\u001b[0m\u001b[0matleast_2d\u001b[0m\u001b[1;33m(\u001b[0m\u001b[0marray\u001b[0m\u001b[1;33m)\u001b[0m\u001b[1;33m\u001b[0m\u001b[0m\n\u001b[0;32m    443\u001b[0m             \u001b[1;31m# To ensure that array flags are maintained\u001b[0m\u001b[1;33m\u001b[0m\u001b[1;33m\u001b[0m\u001b[0m\n",
      "\u001b[1;31mValueError\u001b[0m: Expected 2D array, got 1D array instead:\narray=[  45.80596542 -179.49000549  -11.69349098 ... -124.45837402 -234.19329834\n    5.96096373].\nReshape your data either using array.reshape(-1, 1) if your data has a single feature or array.reshape(1, -1) if it contains a single sample."
     ]
    }
   ],
   "source": []
  },
  {
   "cell_type": "code",
   "execution_count": null,
   "metadata": {},
   "outputs": [],
   "source": []
  }
 ],
 "metadata": {
  "kernelspec": {
   "display_name": "Python 3",
   "language": "python",
   "name": "python3"
  },
  "language_info": {
   "codemirror_mode": {
    "name": "ipython",
    "version": 3
   },
   "file_extension": ".py",
   "mimetype": "text/x-python",
   "name": "python",
   "nbconvert_exporter": "python",
   "pygments_lexer": "ipython3",
   "version": "3.6.4"
  }
 },
 "nbformat": 4,
 "nbformat_minor": 2
}
